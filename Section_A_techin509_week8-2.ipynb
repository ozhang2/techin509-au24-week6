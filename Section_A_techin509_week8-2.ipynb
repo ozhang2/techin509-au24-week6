{
  "cells": [
    {
      "cell_type": "markdown",
      "metadata": {
        "id": "2ykAsavrWsVF"
      },
      "source": [
        "# Object Oriented Programming\n",
        "- Without OOP: Dictionaries and Named tuples ( min)\n",
        "- With OOP: Classes ( min)\n",
        "- Encapsulation ( min)\n",
        "- Abstractions and Inversion of Control ( min)\n",
        "- Dependency Injection ( min)\n",
        "- Polymorphic Players ( min)\n",
        "\n",
        "\n",
        "\n",
        "\n"
      ]
    },
    {
      "cell_type": "markdown",
      "metadata": {
        "id": "Izs2yIHaoNDc"
      },
      "source": [
        "# Programming Paradigms\n",
        "\n",
        "## Procedural Programming\n",
        "\n",
        "- So far we focused on writing instructions for the computer to execute.\n",
        "- It follows a top down approach (think of the overall flow first, then write the instructions)\n",
        "- The program is built with **functions** and **variables**\n",
        "- It's difficult to build complex and modular software\n",
        "\n",
        "**Software is not just about instructions, it's about data.**\n",
        "\n",
        "## Object Oriented Programming\n",
        "\n",
        "- Our world is composed of a vast array of objects\n",
        "- It's the unit that makes the most sense to organize data\n",
        "- Objects have **attributes** and some logic that can manipulate the data (**methods**)\n",
        "- The program is model around how differnt objects interact with each other through calling the objects' methods (**message passing**)\n",
        "\n",
        "## Examples\n",
        "\n",
        "1. Simple Program\n",
        "\n",
        "    Write a program that asks for a number and then prints its square root.\n",
        "\n",
        "2. Real world program\n",
        "\n",
        "    A video streaming platform allows users to upload and watch videos. The platform records each video, the uploader's username, and the upload timestamp. Users can then browse and watch videos that have been uploaded by others and even leave comments on them."
      ]
    },
    {
      "cell_type": "markdown",
      "metadata": {
        "id": "hgDJkGuk0cpr"
      },
      "source": [
        "# Organizing data without OOP"
      ]
    },
    {
      "cell_type": "markdown",
      "metadata": {
        "id": "EiKnx3qT-JdE"
      },
      "source": [
        "## Dictionaries"
      ]
    },
    {
      "cell_type": "code",
      "execution_count": null,
      "metadata": {
        "colab": {
          "base_uri": "https://localhost:8080/"
        },
        "id": "i1m2kCvOXwtg",
        "outputId": "5ad245a5-7247-4835-dbb6-699d869c86d6"
      },
      "outputs": [
        {
          "name": "stdout",
          "output_type": "stream",
          "text": [
            "{'Steve': '432-345-2433'}\n",
            "432-345-2433\n",
            "432-345-2433\n",
            "None\n",
            "unknown\n",
            "{'Steve': '000-000-0000'}\n",
            "0\n"
          ]
        }
      ],
      "source": [
        "# dictionaries\n",
        "\n",
        "phone_numbers = {\n",
        "    'Steve': '432-345-2433'\n",
        "}\n",
        "print(phone_numbers)\n",
        "\n",
        "# Key : Steve\n",
        "# Value : 432-345-2433\n",
        "# Entry : 'Steve' -> '432-345-2433'\n",
        "\n",
        "print(phone_numbers['Steve'])\n",
        "print(phone_numbers.get('Steve'))\n",
        "print(phone_numbers.get('Joe'))\n",
        "print(phone_numbers.get('Joe','unknown'))\n",
        "\n",
        "phone_numbers['Steve']='000-000-0000'\n",
        "print(phone_numbers)\n",
        "del phone_numbers['Steve']\n",
        "print(len(phone_numbers))"
      ]
    },
    {
      "cell_type": "markdown",
      "metadata": {
        "id": "xy6wMfHw-MnM"
      },
      "source": [
        "## Named tuples"
      ]
    },
    {
      "cell_type": "code",
      "execution_count": null,
      "metadata": {
        "colab": {
          "base_uri": "https://localhost:8080/"
        },
        "id": "Qoo-IEEYHsJ4",
        "outputId": "d0f1f8cd-5dcc-4363-b912-d98464613b16"
      },
      "outputs": [
        {
          "name": "stdout",
          "output_type": "stream",
          "text": [
            "Steve 123\n"
          ]
        }
      ],
      "source": [
        "# Named Tuples\n",
        "from collections import namedtuple\n",
        "\n",
        "Person = namedtuple('Person',['name','phone'])\n",
        "steve = Person('Steve','123')\n",
        "print(steve.name,steve.phone)"
      ]
    },
    {
      "cell_type": "markdown",
      "metadata": {
        "id": "NJXt4EvB0jyr"
      },
      "source": [
        "# Organizing data with OOP"
      ]
    },
    {
      "cell_type": "markdown",
      "metadata": {
        "id": "P0N8PKG3-Pyk"
      },
      "source": [
        "## Classes\n",
        "\n",
        "A class is a blueprint for creating objects"
      ]
    },
    {
      "cell_type": "code",
      "execution_count": null,
      "metadata": {
        "colab": {
          "base_uri": "https://localhost:8080/"
        },
        "id": "m0UlModIXxI7",
        "outputId": "aaa51da6-6c9d-4408-ecd7-e2711310b8ef"
      },
      "outputs": [
        {
          "name": "stdout",
          "output_type": "stream",
          "text": [
            "Fido\n",
            "Fluffy\n",
            "True\n"
          ]
        }
      ],
      "source": [
        "class Dog:\n",
        "  name = None\n",
        "\n",
        "class Cat:\n",
        "  name = None\n",
        "\n",
        "dog = Dog()\n",
        "dog.name = 'Fido'\n",
        "\n",
        "cat = Cat()\n",
        "cat.name = 'Fluffy'\n",
        "\n",
        "print(dog.name)\n",
        "print(cat.name)\n",
        "\n",
        "print(isinstance(dog,Dog))"
      ]
    },
    {
      "cell_type": "markdown",
      "metadata": {
        "id": "ih1QJoyGEI05"
      },
      "source": [
        "## Practice Exercise"
      ]
    },
    {
      "cell_type": "code",
      "execution_count": null,
      "metadata": {
        "id": "nA1SOP05Di7K"
      },
      "outputs": [],
      "source": [
        "# define a class to represent a table with properties color and shape\n",
        "# assign strings to color and shape\n",
        "class Table\n"
      ]
    },
    {
      "cell_type": "markdown",
      "metadata": {
        "id": "BCltHQBuWswK"
      },
      "source": [
        "## Initializers\n",
        "\n",
        "Initializers are called when creating a new instance of a Class."
      ]
    },
    {
      "cell_type": "code",
      "execution_count": 3,
      "metadata": {
        "colab": {
          "base_uri": "https://localhost:8080/"
        },
        "id": "oU-T5gg1XxoI",
        "outputId": "123ea06b-00ca-4e15-d444-563ca6d937c5"
      },
      "outputs": [
        {
          "name": "stdout",
          "output_type": "stream",
          "text": [
            "Fido and Fluffy\n",
            "True\n"
          ]
        }
      ],
      "source": [
        "class Dog:\n",
        "  def __init__(self,name):\n",
        "    self.name = name\n",
        "\n",
        "class Cat:\n",
        "  def __init__(self,name):\n",
        "    self.name = name\n",
        "\n",
        "dog = Dog('Fido')\n",
        "cat = Cat('Fluffy')\n",
        "\n",
        "print(dog.name,'and',cat.name)\n",
        "\n",
        "print(isinstance(dog,Dog))"
      ]
    },
    {
      "cell_type": "markdown",
      "metadata": {
        "id": "mGy4SHR4Ws3D"
      },
      "source": [
        "## Polymorphism\n",
        "\n",
        "Polymorphism allows different types of objects to pass through the same interface."
      ]
    },
    {
      "cell_type": "code",
      "execution_count": 4,
      "metadata": {
        "colab": {
          "base_uri": "https://localhost:8080/"
        },
        "id": "f4oCynuXXycj",
        "outputId": "4d9cb3e1-b4f4-4fb9-ab40-599a9ab666e1"
      },
      "outputs": [
        {
          "name": "stdout",
          "output_type": "stream",
          "text": [
            "Woof!\n",
            "meow\n"
          ]
        }
      ],
      "source": [
        "# the function speak checks what kind of animal it is\n",
        "\n",
        "def speak(animal):\n",
        "  if isinstance(animal, Dog):\n",
        "    print('Woof!')\n",
        "  elif isinstance(animal,Cat):\n",
        "    print('meow')\n",
        "  else:\n",
        "    assert False, 'Unexpected type of animal'\n",
        "\n",
        "speak(dog)\n",
        "speak(cat)"
      ]
    },
    {
      "cell_type": "code",
      "execution_count": 7,
      "metadata": {
        "colab": {
          "base_uri": "https://localhost:8080/"
        },
        "id": "F_ffF_ORf-LK",
        "outputId": "6431400f-53e2-4cf9-bcc2-db6deed5d501"
      },
      "outputs": [
        {
          "name": "stdout",
          "output_type": "stream",
          "text": [
            "Woof!\n",
            "meow\n"
          ]
        }
      ],
      "source": [
        "# the classes each implement the speak function\n",
        "\n",
        "# abc (abstract base class)\n",
        "class Animal:\n",
        "    def speak(self):\n",
        "        pass\n",
        "\n",
        "class Dog:\n",
        "  def __init__(self,name):\n",
        "    self.name = name\n",
        "  def speak(self):\n",
        "    print('Woof!')\n",
        "\n",
        "class Cat:\n",
        "  def __init__(self,name):\n",
        "    self.name = name\n",
        "  def speak(self):\n",
        "    print('meow')\n",
        "\n",
        "dog = Dog('Fido')\n",
        "cat = Cat('Fluffy')\n",
        "\n",
        "dog.speak()\n",
        "cat.speak()"
      ]
    },
    {
      "cell_type": "code",
      "execution_count": 12,
      "metadata": {
        "colab": {
          "base_uri": "https://localhost:8080/"
        },
        "id": "UnafYyvAiRZt",
        "outputId": "6fa44bf6-11a1-4373-94a3-5d2502ebabfc"
      },
      "outputs": [
        {
          "name": "stdout",
          "output_type": "stream",
          "text": [
            "Please select a payment method (Paypal, CreditCard, ApplePay:)Paypal\n"
          ]
        }
      ],
      "source": [
        "class Paypal:\n",
        "    def charge(self, amount):\n",
        "        pass\n",
        "\n",
        "class CreditCard:\n",
        "    def charge(self, amount):\n",
        "        pass\n",
        "\n",
        "class ApplePay:\n",
        "    def charge(self, amount):\n",
        "        pass\n",
        "\n",
        "class GooglePay:\n",
        "    def charge(self, amount):\n",
        "        pass\n",
        "\n",
        "payment_method = input(\"Please select a payment method (Paypal, CreditCard, ApplePay:)\")\n",
        "payment = Paypal()\n",
        "payment.charge(100)\n"
      ]
    },
    {
      "cell_type": "markdown",
      "metadata": {
        "id": "6R2FeVOkWs_4"
      },
      "source": [
        "## Builtin method polymorphism using __str__ for print()"
      ]
    },
    {
      "cell_type": "code",
      "execution_count": null,
      "metadata": {
        "colab": {
          "base_uri": "https://localhost:8080/"
        },
        "id": "k1JtomBvXz7T",
        "outputId": "287a704c-0bf1-4169-ecfc-1d3f263d68f0"
      },
      "outputs": [
        {
          "name": "stdout",
          "output_type": "stream",
          "text": [
            "2016 Mazda\n",
            "2021 Honda 123 x\n"
          ]
        }
      ],
      "source": [
        "class Car:\n",
        "  def __init__(self, year, make):\n",
        "    self.year = year\n",
        "    self.make = make\n",
        "\n",
        "  def __str__(self):\n",
        "    return str(self.year) + ' ' + str(self.make)\n",
        "\n",
        "print(str(Car(2016, 'Mazda')))\n",
        "\n",
        "print(Car(2021, 'Honda'), 123, 'x')\n"
      ]
    },
    {
      "cell_type": "markdown",
      "metadata": {
        "id": "Kz_oj6o7Ws6G"
      },
      "source": [
        "## Subclasses and Inheritance\n",
        "Creating a class with another class as a parameter allow the subclass to inherit the methods and properties of the parent class."
      ]
    },
    {
      "cell_type": "code",
      "execution_count": null,
      "metadata": {
        "colab": {
          "base_uri": "https://localhost:8080/"
        },
        "id": "zsvQF1UAXy3i",
        "outputId": "7dada63d-3a03-4cfe-d3a1-65a2cbeae11d"
      },
      "outputs": [
        {
          "name": "stdout",
          "output_type": "stream",
          "text": [
            "Fido says Woof!\n",
            "Fluffy says meow\n"
          ]
        }
      ],
      "source": [
        "class Animal:\n",
        "  def __init__(self,name):\n",
        "    self.name = name\n",
        "  def speak(self):\n",
        "    print(self.name,'says',self.sound)\n",
        "\n",
        "class Dog(Animal):\n",
        "  sound = 'Woof!'\n",
        "\n",
        "class Cat(Animal):\n",
        "  sound = 'meow'\n",
        "\n",
        "dog = Dog('Fido')\n",
        "cat = Cat('Fluffy')\n",
        "\n",
        "dog.speak()\n",
        "cat.speak()"
      ]
    },
    {
      "cell_type": "markdown",
      "metadata": {
        "id": "B3ZBrB00WtCt"
      },
      "source": [
        "## Methods as sending messages, Objects as machines\n",
        "Methods can be used to instantiate actions, similar to sending a message to do smoething. Because objects like classes can maintain their own internal values, they have 'state'. In the Counter object example, a method is used to update the state of the Counter 'machine'."
      ]
    },
    {
      "cell_type": "code",
      "execution_count": null,
      "metadata": {
        "colab": {
          "base_uri": "https://localhost:8080/"
        },
        "id": "De9Or89FX0aO",
        "outputId": "56357884-82af-4c03-fa3f-45f9f66cad41"
      },
      "outputs": [
        {
          "name": "stdout",
          "output_type": "stream",
          "text": [
            "Fido says Woof!\n"
          ]
        }
      ],
      "source": [
        "dog.speak()"
      ]
    },
    {
      "cell_type": "code",
      "execution_count": null,
      "metadata": {
        "colab": {
          "base_uri": "https://localhost:8080/"
        },
        "id": "RdXFBvkaX03j",
        "outputId": "728002e0-2ee8-4b55-f3df-65664ca4730d"
      },
      "outputs": [
        {
          "name": "stdout",
          "output_type": "stream",
          "text": [
            "2014 Honda\n",
            "2023 Ferrari\n"
          ]
        }
      ],
      "source": [
        "# mycar is an instance of Car, and we can give it 'state'\n",
        "mycar = Car(2014,'Honda')\n",
        "print(mycar)\n",
        "# I can sell my car, thankfully, and change the 'state'\n",
        "mycar = Car(2023,'Ferrari')\n",
        "print(mycar)"
      ]
    },
    {
      "cell_type": "markdown",
      "metadata": {
        "id": "kJqNwlvbWtJo"
      },
      "source": [
        "## Counter object example"
      ]
    },
    {
      "cell_type": "code",
      "execution_count": null,
      "metadata": {
        "colab": {
          "base_uri": "https://localhost:8080/"
        },
        "id": "QcCZl8KNX1RX",
        "outputId": "e065c129-960d-4cbc-ba25-03411c299ce4"
      },
      "outputs": [
        {
          "name": "stdout",
          "output_type": "stream",
          "text": [
            "Initial: 0\n",
            "After counting 3\n",
            "After reset: 0\n"
          ]
        }
      ],
      "source": [
        "class Counter:\n",
        "  count = 0\n",
        "\n",
        "  def reset(self):\n",
        "    self.count = 0\n",
        "\n",
        "  def click(self):\n",
        "    self.count = self.count + 1\n",
        "\n",
        "sheep = Counter()\n",
        "print('Initial:',sheep.count)\n",
        "\n",
        "sheep.click()\n",
        "sheep.click()\n",
        "sheep.click()\n",
        "print('After counting',sheep.count)\n",
        "\n",
        "sheep.reset()\n",
        "print('After reset:',sheep.count)\n"
      ]
    },
    {
      "cell_type": "markdown",
      "metadata": {
        "id": "IXoy07FtFjPP"
      },
      "source": [
        "## Practice Exercise"
      ]
    },
    {
      "cell_type": "code",
      "execution_count": null,
      "metadata": {
        "id": "1cPJX_QZRimp"
      },
      "outputs": [],
      "source": [
        "if True:\n",
        "    pass"
      ]
    },
    {
      "cell_type": "code",
      "execution_count": null,
      "metadata": {
        "colab": {
          "base_uri": "https://localhost:8080/"
        },
        "id": "10uvDs3zFeoe",
        "outputId": "01ed4e20-2f2e-4fcf-bfea-f009bb5ccc53"
      },
      "outputs": [
        {
          "name": "stdout",
          "output_type": "stream",
          "text": [
            "2023 Ferrari 0\n",
            "2023 Ferrari 1000\n"
          ]
        }
      ],
      "source": [
        "# Update Car to have an odometer that updates when we drive\n",
        "class Car:\n",
        "    def __init__(self, year, make):\n",
        "        self.year = year\n",
        "        self.make = make\n",
        "        self.odometer = 0\n",
        "\n",
        "    def __str__(self):\n",
        "        return str(self.year) + ' ' + str(self.make) + ' ' + str(self.odometer)\n",
        "\n",
        "    # update this method\n",
        "    def drive(self, distance):\n",
        "        self.odometer = distance\n",
        "\n",
        "\n",
        "\n",
        "mycar = Car(2023,'Ferrari')\n",
        "print(mycar)\n",
        "mycar.drive(1000)\n",
        "print(mycar)"
      ]
    },
    {
      "cell_type": "markdown",
      "metadata": {
        "id": "jiPfHHZCWtMZ"
      },
      "source": [
        "# Encapsulation and TicTacToe Board\n",
        "A class can encapsulate, or hold internal to itself, parameters, and only let the user or other methods interact with it indirectly through methods."
      ]
    },
    {
      "cell_type": "code",
      "execution_count": null,
      "metadata": {
        "id": "Efm2s_3YX12-"
      },
      "outputs": [],
      "source": [
        "class Board:\n",
        "  def __init__(self):\n",
        "    self.__rows = [\n",
        "        [None, None, None],\n",
        "        [None, None, None],\n",
        "        [None, None, None],\n",
        "    ]\n",
        "\n",
        "  def __str__(self):\n",
        "    s = '-------\\n'\n",
        "    for row in self._rows:\n",
        "      for cell in row:\n",
        "        s = s + '|'\n",
        "        if cell == None:\n",
        "          s=s+' '\n",
        "        else:\n",
        "          s=s+cell\n",
        "      s = s + '|\\n-------\\n'\n",
        "    return s\n",
        "\n",
        "  def get(self, x, y):\n",
        "    return self._rows[y][x]\n",
        "\n",
        "  def set(self, x, y, value):\n",
        "    self._rows[y][x] = value"
      ]
    },
    {
      "cell_type": "code",
      "execution_count": null,
      "metadata": {
        "colab": {
          "base_uri": "https://localhost:8080/"
        },
        "id": "pcjDiXNzmO9X",
        "outputId": "3290b927-afbc-4218-9f3d-2d5d9a1939cc"
      },
      "outputs": [
        {
          "name": "stdout",
          "output_type": "stream",
          "text": [
            "-------\n",
            "| | | |\n",
            "-------\n",
            "| | | |\n",
            "-------\n",
            "| | | |\n",
            "-------\n",
            "\n"
          ]
        }
      ],
      "source": [
        "b = Board()\n",
        "print(b)"
      ]
    },
    {
      "cell_type": "code",
      "execution_count": null,
      "metadata": {
        "colab": {
          "base_uri": "https://localhost:8080/"
        },
        "id": "6RnskrK6m0Xv",
        "outputId": "93b5ae54-22ca-47c1-9607-9c04662c69d2"
      },
      "outputs": [
        {
          "name": "stdout",
          "output_type": "stream",
          "text": [
            "-------\n",
            "| | | |\n",
            "-------\n",
            "|X| |O|\n",
            "-------\n",
            "| | | |\n",
            "-------\n",
            "\n"
          ]
        }
      ],
      "source": [
        "# to modify the board, you must use the set method\n",
        "\n",
        "b.set(0,1,'X')\n",
        "b.set(2,1,'O')\n",
        "print(b)"
      ]
    },
    {
      "cell_type": "markdown",
      "metadata": {
        "id": "BYU22cOaqmO4"
      },
      "source": [
        "# Abstractions and Inversion of Control"
      ]
    },
    {
      "cell_type": "markdown",
      "metadata": {
        "id": "STl1kVsnSMl5"
      },
      "source": [
        "Abstractions and Inversion of Control\n",
        "\n",
        "**Abstractions**: We define an abstract base class NotificationMethod with an abstract method send. This abstraction defines a common interface that concrete notification methods must implement.\n",
        "\n",
        "Concrete Implementations: We create two concrete classes, EmailNotification and SMSNotification, that inherit from NotificationMethod. Each of these classes provides its implementation for the send method.\n",
        "\n",
        "**Inversion of Control**: The NotificationService class takes a method parameter in its constructor. It allows the main program to pass in different notification methods (email or SMS) without needing to know their specific implementations. This is the inversion of control, where the control over which notification method to use is inverted from the main program to the NotificationService.\n",
        "\n",
        "**Main Program**: In the main program, we create instances of the concrete notification methods (EmailNotification and SMSNotification) and pass them to NotificationService. The NotificationService can then send notifications using the chosen method without knowing the implementation details of that method.\n",
        "\n",
        "This example demonstrates the power of abstractions and inversion of control in creating flexible and maintainable code. It allows you to add new notification methods in the future without modifying the main program, promoting code reusability and extensibility."
      ]
    },
    {
      "cell_type": "code",
      "execution_count": null,
      "metadata": {
        "id": "Qbjn48tRSsEF"
      },
      "outputs": [],
      "source": [
        "# Abstractions (Abstract Base Class)\n",
        "from abc import ABC, abstractmethod\n",
        "\n",
        "class NotificationMethod(ABC):\n",
        "    @abstractmethod\n",
        "    def send(self, message):\n",
        "        pass\n",
        "\n",
        "# Concrete Implementations\n",
        "class EmailNotification(NotificationMethod):\n",
        "    def send(self, message):\n",
        "        print(f\"Sending email: {message}\")\n",
        "\n",
        "class SMSNotification(NotificationMethod):\n",
        "    def send(self, message):\n",
        "        print(f\"Sending SMS: {message}\")\n",
        "\n",
        "# Inversion of Control\n",
        "class NotificationService:\n",
        "    def __init__(self, method):\n",
        "        self.method = method\n",
        "\n",
        "    def send_notification(self, message):\n",
        "        self.method.send(message)\n",
        "\n",
        "# Main Program\n",
        "email_notifier = EmailNotification()\n",
        "sms_notifier = SMSNotification()\n",
        "\n",
        "email_service = NotificationService(email_notifier)\n",
        "sms_service = NotificationService(sms_notifier)\n",
        "\n",
        "email_service.send_notification(\"Hello, this is an email!\")\n",
        "sms_service.send_notification(\"Hello, this is an SMS!\")"
      ]
    },
    {
      "cell_type": "markdown",
      "metadata": {
        "id": "2Bz709odWtPB"
      },
      "source": [
        "# Dependency Injection\n",
        "\n",
        "Dependencies between objects are 'injected', allowing for inversion of control to happen, where the control being inverted is instantiating a dependent class. In the below example, the function 'run' doesn't know which transformer method will be supplied. Each of the classes provides a 'trasnform' function, and when 'run' is called, it is sent the Echoer class (in the first example). Otherwise, 'run' would need to be told which class to use."
      ]
    },
    {
      "cell_type": "code",
      "execution_count": null,
      "metadata": {
        "id": "adTKQxhkmONT"
      },
      "outputs": [],
      "source": [
        "class Echoer:\n",
        "  def transform(self, message):\n",
        "    return message\n",
        "\n",
        "class Reverser:\n",
        "  def transform(self, message):\n",
        "    return message[::-1]\n",
        "\n",
        "class Shouter:\n",
        "  def transform(self, message):\n",
        "    return message.upper()\n",
        "\n",
        "def run(transformer):\n",
        "  while True:\n",
        "    request = input('> ')\n",
        "    if request == '':\n",
        "      break\n",
        "    response = transformer.transform(request)\n",
        "    print('<', response)\n",
        "\n"
      ]
    },
    {
      "cell_type": "code",
      "execution_count": null,
      "metadata": {
        "colab": {
          "base_uri": "https://localhost:8080/"
        },
        "id": "memheKjwX2O4",
        "outputId": "c5960b4e-19d3-4a6f-9f47-4cbf6de6d9e3"
      },
      "outputs": [
        {
          "name": "stdout",
          "output_type": "stream",
          "text": [
            "> hi\n",
            "< hi\n",
            "> hello\n",
            "< hello\n",
            "> \n"
          ]
        }
      ],
      "source": [
        "run(Echoer())"
      ]
    },
    {
      "cell_type": "code",
      "execution_count": null,
      "metadata": {
        "colab": {
          "base_uri": "https://localhost:8080/"
        },
        "id": "lZXmJAX4AwtZ",
        "outputId": "cc8e9501-0ccd-4869-b3c8-a9250f492505"
      },
      "outputs": [
        {
          "name": "stdout",
          "output_type": "stream",
          "text": [
            "> hello\n",
            "< olleh\n",
            "> \n"
          ]
        }
      ],
      "source": [
        "run(Reverser())"
      ]
    },
    {
      "cell_type": "markdown",
      "metadata": {
        "id": "3eJkqIT-XWbn"
      },
      "source": [
        "# Polymorphic players in TicTacToe"
      ]
    },
    {
      "cell_type": "code",
      "execution_count": null,
      "metadata": {
        "colab": {
          "base_uri": "https://localhost:8080/",
          "height": 332
        },
        "id": "Ob0fS125X2uN",
        "outputId": "54c43204-bf58-4868-f758-ea64bac9475b"
      },
      "outputs": [
        {
          "ename": "NameError",
          "evalue": "ignored",
          "output_type": "error",
          "traceback": [
            "\u001b[0;31m---------------------------------------------------------------------------\u001b[0m",
            "\u001b[0;31mNameError\u001b[0m                                 Traceback (most recent call last)",
            "\u001b[0;32m<ipython-input-38-5351f72783c3>\u001b[0m in \u001b[0;36m<cell line: 22>\u001b[0;34m()\u001b[0m\n\u001b[1;32m     20\u001b[0m \u001b[0;34m\u001b[0m\u001b[0m\n\u001b[1;32m     21\u001b[0m \u001b[0mgame\u001b[0m \u001b[0;34m=\u001b[0m \u001b[0mGame\u001b[0m\u001b[0;34m(\u001b[0m\u001b[0mHuman\u001b[0m\u001b[0;34m(\u001b[0m\u001b[0;34m)\u001b[0m\u001b[0;34m,\u001b[0m \u001b[0mBot\u001b[0m\u001b[0;34m(\u001b[0m\u001b[0;34m)\u001b[0m\u001b[0;34m)\u001b[0m\u001b[0;34m\u001b[0m\u001b[0;34m\u001b[0m\u001b[0m\n\u001b[0;32m---> 22\u001b[0;31m \u001b[0mgame\u001b[0m\u001b[0;34m.\u001b[0m\u001b[0mrun\u001b[0m\u001b[0;34m(\u001b[0m\u001b[0;34m)\u001b[0m\u001b[0;34m\u001b[0m\u001b[0;34m\u001b[0m\u001b[0m\n\u001b[0m",
            "\u001b[0;32m<ipython-input-38-5351f72783c3>\u001b[0m in \u001b[0;36mrun\u001b[0;34m(self)\u001b[0m\n\u001b[1;32m      8\u001b[0m \u001b[0;34m\u001b[0m\u001b[0m\n\u001b[1;32m      9\u001b[0m   \u001b[0;32mdef\u001b[0m \u001b[0mrun\u001b[0m\u001b[0;34m(\u001b[0m\u001b[0mself\u001b[0m\u001b[0;34m)\u001b[0m\u001b[0;34m:\u001b[0m\u001b[0;34m\u001b[0m\u001b[0;34m\u001b[0m\u001b[0m\n\u001b[0;32m---> 10\u001b[0;31m     \u001b[0;32mwhile\u001b[0m \u001b[0mgame_not_over\u001b[0m\u001b[0;34m:\u001b[0m\u001b[0;34m\u001b[0m\u001b[0;34m\u001b[0m\u001b[0m\n\u001b[0m\u001b[1;32m     11\u001b[0m       \u001b[0mmake_move\u001b[0m\u001b[0;34m(\u001b[0m\u001b[0mself\u001b[0m\u001b[0;34m.\u001b[0m\u001b[0m_board\u001b[0m\u001b[0;34m,\u001b[0m \u001b[0mcurrent_player\u001b[0m\u001b[0;34m)\u001b[0m\u001b[0;34m\u001b[0m\u001b[0;34m\u001b[0m\u001b[0m\n\u001b[1;32m     12\u001b[0m \u001b[0;34m\u001b[0m\u001b[0m\n",
            "\u001b[0;31mNameError\u001b[0m: name 'game_not_over' is not defined"
          ]
        }
      ],
      "source": [
        "# example, not working as not everything is implemented, of Human and bot\n",
        "\n",
        "class Game:\n",
        "  def __init__(self, playerX, playerO):\n",
        "    self._board = Board()\n",
        "    self._playerX = playerX\n",
        "    self._playerO = playerO\n",
        "\n",
        "  def run(self):\n",
        "    while game_not_over:\n",
        "      playerX.get_move()\n",
        "      make_move(self._board, current_player)\n",
        "\n",
        "class Human:\n",
        "  def get_move(self, board):\n",
        "    # input(\"please enter x,y for your move...\")\n",
        "    return parse_move(input())\n",
        "\n",
        "class Bot:\n",
        "  def get_move(self, board):\n",
        "    # x = random.get_random_number()\n",
        "    # y = random.get_random_number()\n",
        "    return some_available_square(board)\n",
        "\n",
        "game = Game(Human(), Bot())\n",
        "game.run()"
      ]
    },
    {
      "cell_type": "markdown",
      "metadata": {
        "id": "prSrKsLDsQEu"
      },
      "source": [
        "# Practice Exercise: Random Move"
      ]
    },
    {
      "cell_type": "code",
      "execution_count": null,
      "metadata": {
        "id": "920eZLxbsUUC"
      },
      "outputs": [],
      "source": [
        "# Given a non-empty Tic Tac Toe board, write a function to pick a random,\n",
        "# legal move. Use the Board class from above\n",
        "import random\n",
        "\n",
        "board = [\n",
        "        [None, None, None],\n",
        "        [None, None, None],\n",
        "        [None, None, None],\n",
        "]\n",
        "\n",
        "# hint: create a list of available positions\n",
        "\n",
        "# hint: use the choice function from random module\n"
      ]
    },
    {
      "cell_type": "markdown",
      "metadata": {
        "id": "3QWzW_qLBQ1I"
      },
      "source": [
        "# Mutable and immutable type IDs\n"
      ]
    },
    {
      "cell_type": "code",
      "execution_count": null,
      "metadata": {
        "colab": {
          "base_uri": "https://localhost:8080/"
        },
        "id": "quZutOqlBGb0",
        "outputId": "18ee507b-d5ad-44d6-ce7c-a0ecaf1c6856"
      },
      "outputs": [
        {
          "data": {
            "text/plain": [
              "140231652229456"
            ]
          },
          "execution_count": 65,
          "metadata": {},
          "output_type": "execute_result"
        }
      ],
      "source": [
        "num = 4\n",
        "num4 = id(num)\n",
        "num4"
      ]
    },
    {
      "cell_type": "markdown",
      "metadata": {},
      "source": []
    },
    {
      "cell_type": "code",
      "execution_count": null,
      "metadata": {
        "colab": {
          "base_uri": "https://localhost:8080/"
        },
        "id": "gwbs5L_ICOr6",
        "outputId": "f280e80e-aa64-4b6e-d66a-fb3766fb70e7"
      },
      "outputs": [
        {
          "name": "stdout",
          "output_type": "stream",
          "text": [
            "6\n"
          ]
        }
      ],
      "source": [
        "num = num + 2\n",
        "print(num)"
      ]
    },
    {
      "cell_type": "code",
      "execution_count": null,
      "metadata": {
        "colab": {
          "base_uri": "https://localhost:8080/"
        },
        "id": "oKLmskZ2CRwh",
        "outputId": "23b44bbe-6754-4e5a-e51f-de2507d92699"
      },
      "outputs": [
        {
          "data": {
            "text/plain": [
              "False"
            ]
          },
          "execution_count": 33,
          "metadata": {},
          "output_type": "execute_result"
        }
      ],
      "source": [
        "id(num) == num4"
      ]
    },
    {
      "cell_type": "code",
      "execution_count": null,
      "metadata": {
        "colab": {
          "base_uri": "https://localhost:8080/"
        },
        "id": "-FkG4oYICSsB",
        "outputId": "cdc4acde-c921-42e7-e168-2568f6c9d2d3"
      },
      "outputs": [
        {
          "data": {
            "text/plain": [
              "2"
            ]
          },
          "execution_count": 34,
          "metadata": {},
          "output_type": "execute_result"
        }
      ],
      "source": [
        "tup = (2,3)\n",
        "tup[0]"
      ]
    },
    {
      "cell_type": "code",
      "execution_count": null,
      "metadata": {
        "colab": {
          "base_uri": "https://localhost:8080/"
        },
        "id": "_G7KOFG8Chhf",
        "outputId": "5244ede6-bc4d-42e6-a9d8-de510400f83c"
      },
      "outputs": [
        {
          "data": {
            "text/plain": [
              "134298471831872"
            ]
          },
          "execution_count": 35,
          "metadata": {},
          "output_type": "execute_result"
        }
      ],
      "source": [
        "id(tup)"
      ]
    },
    {
      "cell_type": "code",
      "execution_count": null,
      "metadata": {
        "id": "x97Z4JRsCiQ3"
      },
      "outputs": [],
      "source": [
        "tup = (3,3)"
      ]
    },
    {
      "cell_type": "code",
      "execution_count": null,
      "metadata": {
        "colab": {
          "base_uri": "https://localhost:8080/"
        },
        "id": "6xcQ2cmPClrP",
        "outputId": "2029fe6f-c1cb-42ee-f65a-af7cdad8f633"
      },
      "outputs": [
        {
          "data": {
            "text/plain": [
              "134298471950784"
            ]
          },
          "execution_count": 38,
          "metadata": {},
          "output_type": "execute_result"
        }
      ],
      "source": [
        "id(tup)"
      ]
    },
    {
      "cell_type": "code",
      "execution_count": null,
      "metadata": {
        "id": "a88qRZzzCtfN"
      },
      "outputs": [],
      "source": [
        "my_dict = {'name':'steve', 'hobby':'reading'}"
      ]
    },
    {
      "cell_type": "code",
      "execution_count": null,
      "metadata": {
        "colab": {
          "base_uri": "https://localhost:8080/"
        },
        "id": "vIOP-wvEC6PU",
        "outputId": "f7cce67d-35ff-42da-df97-7fe5ba13d9a0"
      },
      "outputs": [
        {
          "data": {
            "text/plain": [
              "134298835386112"
            ]
          },
          "execution_count": 48,
          "metadata": {},
          "output_type": "execute_result"
        }
      ],
      "source": [
        "orig = id(my_dict)\n",
        "id(my_dict)"
      ]
    },
    {
      "cell_type": "code",
      "execution_count": null,
      "metadata": {
        "id": "T4AVjvZtC_1L"
      },
      "outputs": [],
      "source": [
        "my_dict['name']='jon'"
      ]
    },
    {
      "cell_type": "code",
      "execution_count": null,
      "metadata": {
        "colab": {
          "base_uri": "https://localhost:8080/"
        },
        "id": "NH8oAaU-DH7L",
        "outputId": "5aea046d-a61b-4082-be88-2c7c004c8e40"
      },
      "outputs": [
        {
          "data": {
            "text/plain": [
              "{'name': 'jon', 'hobby': 'reading'}"
            ]
          },
          "execution_count": 50,
          "metadata": {},
          "output_type": "execute_result"
        }
      ],
      "source": [
        "my_dict"
      ]
    },
    {
      "cell_type": "markdown",
      "metadata": {},
      "source": []
    },
    {
      "cell_type": "code",
      "execution_count": null,
      "metadata": {
        "colab": {
          "base_uri": "https://localhost:8080/"
        },
        "id": "jkKFvxBjDI3Q",
        "outputId": "ed5ddfb6-8e92-40e3-acce-e2ca8b07ae80"
      },
      "outputs": [
        {
          "data": {
            "text/plain": [
              "True"
            ]
          },
          "execution_count": 51,
          "metadata": {},
          "output_type": "execute_result"
        }
      ],
      "source": [
        "id(my_dict) == orig"
      ]
    }
  ],
  "metadata": {
    "colab": {
      "provenance": []
    },
    "kernelspec": {
      "display_name": "Python 3",
      "name": "python3"
    },
    "language_info": {
      "name": "python"
    }
  },
  "nbformat": 4,
  "nbformat_minor": 0
}
