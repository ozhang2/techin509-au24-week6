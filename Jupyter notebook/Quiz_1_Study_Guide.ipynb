{
  "cells": [
    {
      "cell_type": "markdown",
      "metadata": {
        "id": "mPZhUZm5WpxJ"
      },
      "source": [
        "# TECHIN 509 Review"
      ]
    },
    {
      "cell_type": "markdown",
      "metadata": {
        "id": "6Z5yO5_mWpxL"
      },
      "source": [
        "## Variables, Expressions, and Arithmetic Operations"
      ]
    },
    {
      "cell_type": "code",
      "execution_count": null,
      "metadata": {
        "id": "zo3-XK1nWpxM"
      },
      "outputs": [],
      "source": [
        "a = 1E2\n",
        "b = 2\n",
        "print(a + b)\n",
        "print(a - b)\n",
        "print(a * b)\n",
        "print(a / b)\n",
        "print(a % b)\n",
        "print(a // b)\n",
        "print(a ** b)"
      ]
    },
    {
      "cell_type": "markdown",
      "metadata": {
        "id": "SD6lLnknWpxM"
      },
      "source": [
        "## Type\n",
        "Typical types include float, int, and string."
      ]
    },
    {
      "cell_type": "code",
      "execution_count": null,
      "metadata": {
        "id": "z6IaxBd_WpxN"
      },
      "outputs": [],
      "source": [
        "a = input(\"enter a number: \")\n",
        "print(type(a))\n",
        "b = int(input(\"enter a number: \"))\n",
        "print(type(b))\n",
        "c = float(input(\"enter a number: \"))\n",
        "print(type(c))"
      ]
    },
    {
      "cell_type": "markdown",
      "metadata": {
        "id": "7xmRPKhxWpxN"
      },
      "source": [
        "## String and formatting\n",
        "Often defined using single quote or double quote (be consistent with one style). Multi-line strings can be defined using three single quotes or three double quotes."
      ]
    },
    {
      "cell_type": "code",
      "execution_count": null,
      "metadata": {
        "id": "40NtjO03WpxN"
      },
      "outputs": [],
      "source": [
        "affiliation = \"University of Washington\"\n",
        "print(len(affiliation))\n",
        "location = 'Paul Allen Center, 185 Stevens Way'\n",
        "multi_line_location = \"\"\"Paul Allen Center,\n",
        "185 Stevens Way,\n",
        "Seattle, WA 98195\"\"\"\n",
        "print(multi_line_location)\n",
        "print(f\"My affiliation is {affiliation} at {location}.\")\n",
        "print(\"My affiliation is %s at %s\" %(affiliation, location))\n",
        "print(\"My affiliation is {} at {}\".format(affiliation, location))"
      ]
    },
    {
      "cell_type": "markdown",
      "metadata": {
        "id": "AQglHmPEWpxN"
      },
      "source": [
        "Applying arithmetic operators to strings\n",
        "- `+` means concatenation.\n",
        "- `*` means duplication and then concatenation."
      ]
    },
    {
      "cell_type": "code",
      "execution_count": null,
      "metadata": {
        "id": "TY1RRgTGWpxO"
      },
      "outputs": [],
      "source": [
        "print(affiliation + \" \" + location)\n",
        "print(\"UW\" * 2)"
      ]
    },
    {
      "cell_type": "markdown",
      "metadata": {
        "id": "aUy4RHuvWpxO"
      },
      "source": [
        "Indexing can be applied to strings. The syntax is `my_string[start:end:step_size]`.\n",
        "- Default value of `start` is 0.\n",
        "- `end` position is exclusive. Default value of `end` is `len(my_string) + 1`.\n",
        "- Default value of `step_size` is 1.\n"
      ]
    },
    {
      "cell_type": "code",
      "execution_count": null,
      "metadata": {
        "id": "h0G3laCSWpxO"
      },
      "outputs": [],
      "source": [
        "print(affiliation[0:10])\n",
        "print(affiliation[0:10:2])\n",
        "print('UW'[::-1])"
      ]
    },
    {
      "cell_type": "markdown",
      "metadata": {
        "id": "2ipwLchJWpxO"
      },
      "source": [
        "## List\n",
        "Can be defined using `[]` or using `list()`. List can store heterogenous data types."
      ]
    },
    {
      "cell_type": "code",
      "execution_count": null,
      "metadata": {
        "id": "_TJnXzv5WpxO"
      },
      "outputs": [],
      "source": [
        "empty_list = []\n",
        "my_list = [1, 2, 3]\n",
        "mixed_list = [1, 2, '3']\n",
        "num_list = list(range(20))\n",
        "len(num_list)\n",
        "collection_of_lists = [\n",
        "    [1, 2, 3],\n",
        "    [4, 5, 6]\n",
        "]\n",
        "collection_of_dictionaries = [\n",
        "    {\"ID\": 1, \"name\": \"Luyao\", \"classes_taught\": [\"509\", \"512\"]},\n",
        "    {\"ID\": 2, \"name\": \"John\", \"classes_taught\": [\"509\", \"512\"]}\n",
        "]\n"
      ]
    },
    {
      "cell_type": "markdown",
      "metadata": {
        "id": "FJqieqWdWpxP"
      },
      "source": [
        "Arithmetic operator applied on list:\n",
        "- `+` leads to concatenation\n",
        "- `*` leads to concatenating the list with itself for multiple times"
      ]
    },
    {
      "cell_type": "code",
      "execution_count": null,
      "metadata": {
        "id": "u81GLl9QWpxP",
        "outputId": "a0232134-c4e7-4bfa-abd9-4ae5d17fd5a3"
      },
      "outputs": [
        {
          "name": "stdout",
          "output_type": "stream",
          "text": [
            "[1, 2, 3, 1, 2, 3, 1, 2, 3]\n",
            "[1, 2, 3, 1, 2, 3]\n"
          ]
        }
      ],
      "source": [
        "print([1, 2, 3] * 3)\n",
        "print([1, 2, 3] + [1, 2, 3])"
      ]
    },
    {
      "cell_type": "markdown",
      "metadata": {
        "id": "cdP-vajQWpxP"
      },
      "source": [
        "Indexing can be applied to lists. See the notes for string index."
      ]
    },
    {
      "cell_type": "code",
      "execution_count": null,
      "metadata": {
        "id": "66u0jxxAWpxP"
      },
      "outputs": [],
      "source": [
        "print(collection_of_dictionaries[0][\"name\"])\n",
        "\n",
        "even_list = num_list[::2]\n",
        "print(even_list)\n",
        "odd_list = num_list[1::2]\n",
        "print(odd_list)\n",
        "reversed_list = num_list[::-1]\n",
        "print(reversed_list)"
      ]
    },
    {
      "cell_type": "markdown",
      "metadata": {
        "id": "GLpuHGnsWpxP"
      },
      "source": [
        "Elements in lists can be manipulated"
      ]
    },
    {
      "cell_type": "code",
      "execution_count": null,
      "metadata": {
        "id": "OsiHk__xWpxP"
      },
      "outputs": [],
      "source": [
        "# remove value 1 from list\n",
        "my_list.remove(1)\n",
        "print(my_list)\n",
        "\n",
        "# Remove and return the element at index 3\n",
        "popped_element = my_list.pop(1)\n",
        "print(popped_element, my_list)\n",
        "\n",
        "# Delete the first element\n",
        "del my_list[0]\n",
        "print(my_list)\n",
        "\n",
        "my_list[0] = 10"
      ]
    },
    {
      "cell_type": "markdown",
      "metadata": {
        "id": "Q2Hd2jlzWpxP"
      },
      "source": [
        "## Dictionary\n",
        "Defined using `{}`. It contains a set of **key-value** pairs. Key and value are separated by `:`. Key-value pairs in a dictionary are separated by `,`."
      ]
    },
    {
      "cell_type": "code",
      "execution_count": null,
      "metadata": {
        "id": "tzMOhgKhWpxQ"
      },
      "outputs": [],
      "source": [
        "transcript = {\"TECHIN509\": 100, \"TECHIN510\": 100, \"TECHIN512\": 100}\n",
        "print(list(transcript.keys()))\n",
        "print(list(transcript.values()))\n",
        "print(transcript[\"TECHIN509\"])"
      ]
    },
    {
      "cell_type": "markdown",
      "metadata": {
        "id": "QcxE2w2JWpxQ"
      },
      "source": [
        "## Boolean operators and If-Else\n",
        "Boolean operators, e.g., >, <, >=, <=, ==, returns a Boolean value (True or False).\n",
        "\n",
        "If-Else yields branches for programs. A general structure of If-Else can be represented as follows:\n",
        "```\n",
        "if SomeCondition:\n",
        "    Instructions of if branch\n",
        "Elif SomeOtherCondition:\n",
        "    Instructions of elif branch\n",
        "Else:\n",
        "    Instructions of else branch\n",
        "```\n",
        "Please pay attention to how `:` and indentations are applied.\n",
        "\n",
        "<img src=\"if-else-flowchart.png\" width=\"1000\"/>"
      ]
    },
    {
      "cell_type": "code",
      "execution_count": null,
      "metadata": {
        "id": "f0HuHMmpWpxQ"
      },
      "outputs": [],
      "source": [
        "some_var = 10\n",
        "\n",
        "# Here is an if statement. Indentation is significant in Python!\n",
        "# Convention is to use four spaces, not tabs.\n",
        "# This prints \"some_var is smaller than 10\"\n",
        "if some_var > 10:\n",
        "    print(\"some_var is totally bigger than 10.\")\n",
        "elif some_var < 10:    # This elif clause is optional.\n",
        "    print(\"some_var is smaller than 10.\")\n",
        "else:                  # This is optional too.\n",
        "    print(\"some_var is indeed 10.\")"
      ]
    },
    {
      "cell_type": "code",
      "execution_count": null,
      "metadata": {
        "id": "Nlil_QFtWpxQ"
      },
      "outputs": [],
      "source": [
        "# Here is an if statement. Indentation is significant in Python!\n",
        "# Convention is to use four spaces, not tabs.\n",
        "# This prints \"some_var is smaller than 10\"\n",
        "if some_var > 10:\n",
        "    print(\"some_var is totally bigger than 10.\")\n",
        "if some_var < 10:    # This elif clause is optional.\n",
        "    print(\"some_var is smaller than 10.\")\n",
        "else:                  # This is optional too.\n",
        "    print(\"some_var is indeed 10.\")"
      ]
    },
    {
      "cell_type": "markdown",
      "metadata": {
        "id": "CFaFx8JXWpxQ"
      },
      "source": [
        "## For-Loop\n",
        "For loop can be used to specify the behaviors that we wish the program to repeat.\n",
        "\n",
        "<img src = \"iterable.png\" width = \"1000\">"
      ]
    },
    {
      "cell_type": "code",
      "execution_count": null,
      "metadata": {
        "id": "Z_GS7vcDWpxQ"
      },
      "outputs": [],
      "source": [
        "employees = [\n",
        "    {\"id\": 1, \"name\": \"Ian\", \"score\": 5, \"is_active\": True},\n",
        "    {\"id\": 2, \"name\": \"Luyao\", \"score\": 6, \"is_active\": False},\n",
        "]\n",
        "for employee in employees:\n",
        "    print(f\"Employee {employee['id']}, name: {employee['name']}\")"
      ]
    },
    {
      "cell_type": "code",
      "execution_count": null,
      "metadata": {
        "id": "51U0s3iqWpxQ"
      },
      "outputs": [],
      "source": [
        "employees = [\n",
        "    {\"id\": 1, \"name\": \"Ian\", \"score\": 5, \"is_active\": True},\n",
        "    {\"id\": 2, \"name\": \"Luyao\", \"score\": 6, \"is_active\": False},\n",
        "]\n",
        "for employee in employees:\n",
        "    if employee[\"score\"] > 5:\n",
        "        print(f\"Employee {employee['id']}, name: {employee['name']}\")"
      ]
    },
    {
      "cell_type": "markdown",
      "metadata": {
        "id": "6E49qrZeWpxQ"
      },
      "source": [
        "## While-Loop\n",
        "While loop continues to execute until some condition is violated.\n",
        "\n",
        "<img src = \"while-loop.png\" width = \"1000\">"
      ]
    },
    {
      "cell_type": "code",
      "execution_count": null,
      "metadata": {
        "id": "4OCwbpXIWpxQ"
      },
      "outputs": [],
      "source": [
        "x = 0\n",
        "while x < 4:\n",
        "    print(x)\n",
        "    x += 1  # Shorthand for x = x + 1"
      ]
    },
    {
      "cell_type": "markdown",
      "metadata": {
        "id": "9LQP3BHqWpxQ"
      },
      "source": [
        "### Break and Continue\n",
        "Break and continue can alter the flow of programs.\n",
        "- Break exits the loop.\n",
        "- Continue skips the current iteration and jumpts to the next one."
      ]
    },
    {
      "cell_type": "code",
      "execution_count": null,
      "metadata": {
        "id": "vsiZ3-feWpxQ"
      },
      "outputs": [],
      "source": [
        "for ii in range(5):\n",
        "    if ii == 2:\n",
        "        break\n",
        "    print(ii)\n",
        "\n",
        "for ii in range(5):\n",
        "    if ii == 2:\n",
        "        continue\n",
        "    print(ii)"
      ]
    },
    {
      "cell_type": "markdown",
      "metadata": {
        "id": "l4LNH6f0WpxQ"
      },
      "source": [
        "## Comprehension"
      ]
    },
    {
      "cell_type": "code",
      "execution_count": null,
      "metadata": {
        "id": "UtkeN-VxWpxQ"
      },
      "outputs": [],
      "source": [
        "employees = [\n",
        "    {\"id\": 1, \"name\": \"Ian\", \"score\": 5, \"is_active\": True},\n",
        "    {\"id\": 2, \"name\": \"Luyao\", \"score\": 6, \"is_active\": False},\n",
        "]\n",
        "high_score_employees = [x for x in employees if x['score'] > 5]\n",
        "high_score_employees"
      ]
    },
    {
      "cell_type": "markdown",
      "metadata": {
        "id": "AGGnDpyXWpxQ"
      },
      "source": [
        "## Functions\n",
        "We use keyword `def` to define a function. A function contains a set of instructions, which will be executed once the function is called."
      ]
    },
    {
      "cell_type": "code",
      "execution_count": null,
      "metadata": {
        "id": "jFGtW-lQWpxR"
      },
      "outputs": [],
      "source": [
        "# def tells python we are making a function, (x) says it takes one parameter\n",
        "# return tells python to replace the function call with this value\n",
        "def add_two(x):\n",
        "    return x + 2\n",
        "\n",
        "# call the function\n",
        "add_two(3)"
      ]
    },
    {
      "cell_type": "markdown",
      "metadata": {
        "id": "f3S7u451WpxR"
      },
      "source": [
        "### Positional argument\n",
        "A positional argument is an argument that is passed to a function based on its position or order. They are assigned to the function parameters in the order in which they appear.\n",
        "\n",
        "\n",
        "- **Order matters**: The first argument passed corresponds to the first parameter in the function definition, the second argument to the second parameter, and so on.\n",
        "- **Fixed structure**: When calling a function, you must provide the arguments in the same order as defined in the function signature.\n",
        "- **Mandatory**: If a positional argument is required (i.e., the function doesn't have default values), you must pass it when calling the function."
      ]
    },
    {
      "cell_type": "code",
      "execution_count": null,
      "metadata": {
        "id": "zG2VgXncWpxR"
      },
      "outputs": [],
      "source": [
        "def add(x, y):\n",
        "    print(\"x is {} and y is {}\".format(x, y))\n",
        "    return x + y  # Return values with a return statement\n",
        "\n",
        "# Calling functions with parameters\n",
        "print(add(5, 6))  # => prints out \"x is 5 and y is 6\" and returns 11"
      ]
    },
    {
      "cell_type": "markdown",
      "metadata": {
        "id": "9no8xCaOWpxR"
      },
      "source": [
        "### Keyword argument\n",
        "A keyword argument is an argument passed to a function by explicitly **specifying the name of the parameter along with its value**, rather than just relying on the position of the argument in the function call. This allows you to provide arguments **in any order**, as long as the parameter names are specified.\n",
        "\n",
        "- **Order doesn't matter**: Unlike positional arguments, keyword arguments can be provided in any order because you explicitly specify the name of the parameter.\n",
        "- **More readable**: Using keyword arguments can make function calls clearer, especially when dealing with many parameters or optional parameters.\n",
        "- **Optional**: Many functions use keyword arguments for parameters that have default values, so you can choose to override them if needed.\n",
        "- **Named assignment**: You explicitly assign values to specific parameters by name in the function call."
      ]
    },
    {
      "cell_type": "code",
      "execution_count": null,
      "metadata": {
        "id": "zG6260jAWpxR"
      },
      "outputs": [],
      "source": [
        "# Another way to call functions is with keyword arguments\n",
        "print(add(y=6, x=5))  # Keyword arguments can arrive in any order."
      ]
    },
    {
      "cell_type": "markdown",
      "metadata": {
        "id": "LYuFrradWpxV"
      },
      "source": [
        "### A variable number of arguments"
      ]
    },
    {
      "cell_type": "code",
      "execution_count": null,
      "metadata": {
        "id": "xPVuA8cWWpxV"
      },
      "outputs": [],
      "source": [
        "# You can define functions that take a variable number of\n",
        "# positional arguments\n",
        "def varargs(*args):\n",
        "    return args\n",
        "\n",
        "varargs(1, 2, 3)  # => (1, 2, 3)\n",
        "\n",
        "# You can define functions that take a variable number of\n",
        "# keyword arguments, as well\n",
        "def keyword_args(**kwargs):\n",
        "    return kwargs\n",
        "\n",
        "# Let's call it to see what happens\n",
        "keyword_args(big=\"foot\", loch=\"ness\")  # => {\"big\": \"foot\", \"loch\": \"ness\"}"
      ]
    },
    {
      "cell_type": "markdown",
      "metadata": {
        "id": "rgb4aE3PWpxV"
      },
      "source": [
        "## Set\n",
        "Set can be defined using `{}`. Different from dictionaries, there is no key-value pairs in sets. Typical set operations include union, intersection, set difference."
      ]
    },
    {
      "cell_type": "code",
      "execution_count": null,
      "metadata": {
        "id": "hMaEqbnLWpxW"
      },
      "outputs": [],
      "source": [
        "set1 = {1, 2, 3}\n",
        "set2 = {3, 4, 5}\n",
        "union_set = set1.union(set2)\n",
        "intersection_set = set1.intersection(set2)\n",
        "difference_set = set1.difference(set2)"
      ]
    }
  ],
  "metadata": {
    "kernelspec": {
      "display_name": "base",
      "language": "python",
      "name": "python3"
    },
    "language_info": {
      "codemirror_mode": {
        "name": "ipython",
        "version": 3
      },
      "file_extension": ".py",
      "mimetype": "text/x-python",
      "name": "python",
      "nbconvert_exporter": "python",
      "pygments_lexer": "ipython3",
      "version": "3.12.4"
    },
    "colab": {
      "provenance": []
    }
  },
  "nbformat": 4,
  "nbformat_minor": 0
}