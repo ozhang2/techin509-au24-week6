{
  "cells": [
    {
      "cell_type": "markdown",
      "metadata": {
        "id": "Dpqkkny0cOO3"
      },
      "source": [
        "# Collections"
      ]
    },
    {
      "cell_type": "code",
      "execution_count": 44,
      "metadata": {
        "id": "w5e9xEjufz0y"
      },
      "outputs": [],
      "source": [
        "d = {\n",
        "    \"name\": \"Ian\",\n",
        "    \"major\": \"Computer Science\",\n",
        "    \"school\": \"UW\",\n",
        "    \"score\": 10\n",
        "}"
      ]
    },
    {
      "cell_type": "code",
      "execution_count": 45,
      "metadata": {
        "colab": {
          "base_uri": "https://localhost:8080/",
          "height": 35
        },
        "id": "0PWOFZ5agYFQ",
        "outputId": "ea6d7cfc-d630-41d1-f060-dda5369ee10b"
      },
      "outputs": [
        {
          "output_type": "execute_result",
          "data": {
            "text/plain": [
              "'Ian'"
            ],
            "application/vnd.google.colaboratory.intrinsic+json": {
              "type": "string"
            }
          },
          "metadata": {},
          "execution_count": 45
        }
      ],
      "source": [
        "d['name']"
      ]
    },
    {
      "cell_type": "code",
      "execution_count": null,
      "metadata": {
        "colab": {
          "base_uri": "https://localhost:8080/"
        },
        "id": "SbFWC4fggFoo",
        "outputId": "7fb6569a-407b-40d7-bbca-7db2795b85b2"
      },
      "outputs": [
        {
          "output_type": "stream",
          "name": "stdout",
          "text": [
            "name Ian\n",
            "major Computer Science\n",
            "school UW\n",
            "score 10\n"
          ]
        }
      ],
      "source": [
        "for k in d:\n",
        "    print(k, d[k])"
      ]
    },
    {
      "cell_type": "code",
      "execution_count": null,
      "metadata": {
        "colab": {
          "base_uri": "https://localhost:8080/"
        },
        "id": "u4j0z3TsgfmE",
        "outputId": "2e727269-6763-4c47-86e0-350029b76e25"
      },
      "outputs": [
        {
          "name": "stdout",
          "output_type": "stream",
          "text": [
            "name Ian\n",
            "major Computer Science\n",
            "school UW\n",
            "score 10\n"
          ]
        }
      ],
      "source": [
        "# k=key, v=value\n",
        "for k, v in d.items():\n",
        "    print(k, v)"
      ]
    },
    {
      "cell_type": "code",
      "execution_count": 46,
      "metadata": {
        "id": "tnI87jgEd5OG",
        "outputId": "8cd04b29-6f70-4eff-aeb8-b7a7aaae5e2a",
        "colab": {
          "base_uri": "https://localhost:8080/"
        }
      },
      "outputs": [
        {
          "output_type": "execute_result",
          "data": {
            "text/plain": [
              "[{'name': 'Ian', 'major': 'Computer Science', 'school': 'UW', 'score': 10},\n",
              " {'name': 'Ian', 'major': 'Computer Science', 'school': 'UW', 'score': 10}]"
            ]
          },
          "metadata": {},
          "execution_count": 46
        }
      ],
      "source": [
        "\"Create, Read, Update, Delete\"\n",
        "[{\n",
        "    \"name\": \"Ian\",\n",
        "    \"major\": \"Computer Science\",\n",
        "    \"school\": \"UW\",\n",
        "    \"score\": 10\n",
        "},\n",
        "{\n",
        "    \"name\": \"Ian\",\n",
        "    \"major\": \"Computer Science\",\n",
        "    \"school\": \"UW\",\n",
        "    \"score\": 10\n",
        "}]"
      ]
    },
    {
      "cell_type": "code",
      "execution_count": 47,
      "metadata": {
        "colab": {
          "base_uri": "https://localhost:8080/"
        },
        "id": "2nRtw31OdHNu",
        "outputId": "7d5eaae5-5020-4ddf-cb4a-2c0aee527184"
      },
      "outputs": [
        {
          "output_type": "execute_result",
          "data": {
            "text/plain": [
              "{'S000001': 'Ian', 'S000002': 'John', 'S999999': 'Amy'}"
            ]
          },
          "metadata": {},
          "execution_count": 47
        }
      ],
      "source": [
        "{\n",
        "    \"S000001\": \"Ian\",\n",
        "    \"S000002\": \"John\",\n",
        "    \"S999999\": \"Amy\"\n",
        "}"
      ]
    },
    {
      "cell_type": "markdown",
      "metadata": {
        "id": "5FSKeiqgJaAP"
      },
      "source": [
        "# Topics in week 4\n",
        "- Functions\n",
        "- Comprehensions\n",
        "- Error Handling\n",
        "- Packages\n",
        "- Recursion (Optional)"
      ]
    },
    {
      "cell_type": "markdown",
      "metadata": {
        "id": "7c39e1e3-ed65-4317-90d2-4173f03de5a3"
      },
      "source": [
        "# Functions\n",
        "\n",
        "DRY - Don't repeat yourself"
      ]
    },
    {
      "cell_type": "code",
      "source": [
        "def divide(x, y):\n",
        "    ans = x/y\n",
        "    return ans"
      ],
      "metadata": {
        "id": "talJVybt0qBC"
      },
      "execution_count": 48,
      "outputs": []
    },
    {
      "cell_type": "code",
      "source": [
        "divide(10, 2)"
      ],
      "metadata": {
        "colab": {
          "base_uri": "https://localhost:8080/"
        },
        "id": "iePa9iUw0xZG",
        "outputId": "a6d0cad0-1916-442a-b4a1-e130f8c80dce"
      },
      "execution_count": null,
      "outputs": [
        {
          "output_type": "execute_result",
          "data": {
            "text/plain": [
              "5.0"
            ]
          },
          "metadata": {},
          "execution_count": 2
        }
      ]
    },
    {
      "cell_type": "code",
      "source": [
        "def send_email(email, is_html=True):\n",
        "    print(\"sending email to %s\"%email)\n",
        "    if is_html:\n",
        "        print(\"sending html email\")"
      ],
      "metadata": {
        "id": "snRJ8_r-1DEn"
      },
      "execution_count": 49,
      "outputs": []
    },
    {
      "cell_type": "code",
      "source": [
        "send_email(\"ian.chen@uw.edu\")"
      ],
      "metadata": {
        "colab": {
          "base_uri": "https://localhost:8080/"
        },
        "id": "Tl_xbDXw1car",
        "outputId": "34236237-7046-4893-bbc7-ff4704537f21"
      },
      "execution_count": 50,
      "outputs": [
        {
          "output_type": "stream",
          "name": "stdout",
          "text": [
            "sending email to ian.chen@uw.edu\n",
            "sending html email\n"
          ]
        }
      ]
    },
    {
      "cell_type": "code",
      "execution_count": 51,
      "metadata": {
        "colab": {
          "base_uri": "https://localhost:8080/"
        },
        "id": "af34f5b5-9e04-497a-90bd-2239e92cf065",
        "outputId": "98ea4ac5-fe3b-433c-9bed-5e01b45354f7"
      },
      "outputs": [
        {
          "output_type": "execute_result",
          "data": {
            "text/plain": [
              "4"
            ]
          },
          "metadata": {},
          "execution_count": 51
        }
      ],
      "source": [
        "# def tells python we are making a function, (x) says it takes one parameter\n",
        "# return tells python to replace the function call with this value\n",
        "def add_two(x):\n",
        "    return x + 2\n",
        "\n",
        "# calling the function returns the value defined in the return\n",
        "add_two(2)"
      ]
    },
    {
      "cell_type": "code",
      "execution_count": 52,
      "metadata": {
        "id": "899f703a-be4e-4613-8332-961b979db2e6",
        "colab": {
          "base_uri": "https://localhost:8080/"
        },
        "outputId": "f1132d4a-c2ac-4987-8ad4-16ae937fa7d0"
      },
      "outputs": [
        {
          "output_type": "stream",
          "name": "stdout",
          "text": [
            "x is 5 and y is 6\n",
            "11\n",
            "x is 5 and y is 6\n",
            "11\n"
          ]
        }
      ],
      "source": [
        "def add(x, y):\n",
        "    print(\"x is {} and y is {}\".format(x, y))\n",
        "    return x + y  # Return values with a return statement\n",
        "\n",
        "# Calling functions with parameters\n",
        "print(add(5, 6))  # => prints out \"x is 5 and y is 6\" and returns 11\n",
        "\n",
        "# Another way to call functions is with keyword arguments\n",
        "print(add(y=6, x=5))  # Keyword arguments can arrive in any order."
      ]
    },
    {
      "cell_type": "markdown",
      "metadata": {
        "id": "rVfh3GW_TZmj"
      },
      "source": [
        "## Practice Exercise with Functions 1"
      ]
    },
    {
      "cell_type": "code",
      "execution_count": 53,
      "metadata": {
        "colab": {
          "base_uri": "https://localhost:8080/"
        },
        "id": "YrnckX4fTgFF",
        "outputId": "8c827522-405e-460c-fb30-c79adad257d7"
      },
      "outputs": [
        {
          "output_type": "execute_result",
          "data": {
            "text/plain": [
              "6"
            ]
          },
          "metadata": {},
          "execution_count": 53
        }
      ],
      "source": [
        "# write a function that sums the items in a list\n",
        "\"\"\"\n",
        "sum_list([1,2,3])\n",
        "-> 6\n",
        "\"\"\"\n",
        "\n",
        "def sum_list(my_list):\n",
        "    sum = 0\n",
        "    for num in my_list:\n",
        "        sum += num\n",
        "        # sum = sum + num\n",
        "    return sum\n",
        "\n",
        "sum_list([1,2,3])"
      ]
    },
    {
      "cell_type": "markdown",
      "metadata": {
        "id": "_-cWNhK0V6pv"
      },
      "source": [
        "## Practice Exercise with Functions 2"
      ]
    },
    {
      "cell_type": "code",
      "execution_count": 54,
      "metadata": {
        "colab": {
          "base_uri": "https://localhost:8080/",
          "height": 35
        },
        "id": "ZRqWeS_dUbBY",
        "outputId": "8505514f-352f-4e3e-87a1-470c2d7bc190"
      },
      "outputs": [
        {
          "output_type": "execute_result",
          "data": {
            "text/plain": [
              "'WU'"
            ],
            "application/vnd.google.colaboratory.intrinsic+json": {
              "type": "string"
            }
          },
          "metadata": {},
          "execution_count": 54
        }
      ],
      "source": [
        "# write a function that takes a string\n",
        "# as input and returns the string backwards (reversed)\n",
        "\n",
        "# your code\n",
        "def reverse_str(my_str):\n",
        "    # my_list[start:end:step]\n",
        "    # my_str[start:end:step]\n",
        "    return my_str[::-1]\n",
        "\n",
        "reverse_str(\"UW\")"
      ]
    },
    {
      "cell_type": "markdown",
      "metadata": {
        "id": "xbJ3cX13V-gI"
      },
      "source": [
        "## Practice Exercise with Functions 3"
      ]
    },
    {
      "cell_type": "code",
      "execution_count": 55,
      "metadata": {
        "colab": {
          "base_uri": "https://localhost:8080/"
        },
        "id": "xZqMddX8nEiR",
        "outputId": "1f0b3c18-eedd-46bf-afac-307e5f298fdd"
      },
      "outputs": [
        {
          "output_type": "execute_result",
          "data": {
            "text/plain": [
              "[1, 2]"
            ]
          },
          "metadata": {},
          "execution_count": 55
        }
      ],
      "source": [
        "# write a function that takes 2 parameters and returns them in a list\n",
        "\"\"\"\n",
        "combine_elements(1,2)\n",
        "-> [1,2]\n",
        "\"\"\"\n",
        "def combine_elements(x,y):\n",
        "    return [x,y]\n",
        "\n",
        "combine_elements(1,2)\n",
        "\n",
        "# list()"
      ]
    },
    {
      "cell_type": "code",
      "execution_count": null,
      "metadata": {
        "colab": {
          "base_uri": "https://localhost:8080/"
        },
        "id": "A8uLezNoUmep",
        "outputId": "6aa09d7e-f850-4ac6-e811-44d76dda29ca"
      },
      "outputs": [
        {
          "name": "stdout",
          "output_type": "stream",
          "text": [
            "5\n"
          ]
        }
      ],
      "source": [
        "# call the function sum_list with your new function as the parameter\n",
        "print(sum_list(combine_elements(1,4)))"
      ]
    },
    {
      "cell_type": "code",
      "execution_count": 1,
      "metadata": {
        "colab": {
          "base_uri": "https://localhost:8080/",
          "height": 103
        },
        "id": "uVHwYl1gpDH-",
        "outputId": "ed40a98b-8176-4bfc-81e0-f5af485cb58c"
      },
      "outputs": [
        {
          "output_type": "stream",
          "name": "stdout",
          "text": [
            "{'name': 'Ian', 'score': 9999}\n",
            "what is x3\n",
            "what is y4\n",
            "x: 3, y: 4\n"
          ]
        },
        {
          "output_type": "execute_result",
          "data": {
            "text/plain": [
              "'34'"
            ],
            "application/vnd.google.colaboratory.intrinsic+json": {
              "type": "string"
            }
          },
          "metadata": {},
          "execution_count": 1
        }
      ],
      "source": [
        "def my_func(x, y=0):\n",
        "    return x, y\n",
        "my_func(1)\n",
        "my_func(1,2)\n",
        "\n",
        "def create_player(name, score=0):\n",
        "    return {\"name\": name, \"score\": score}\n",
        "\n",
        "print(create_player(\"Ian\", 9999))\n",
        "\n",
        "def some_func(x, y, is_debug=False):\n",
        "    if is_debug:\n",
        "        print(f\"x: {x}, y: {y}\")\n",
        "    return x+y\n",
        "\n",
        "x = input(\"what is x\")\n",
        "y = input(\"what is y\")\n",
        "some_func(x, y, is_debug=True)"
      ]
    },
    {
      "cell_type": "markdown",
      "metadata": {
        "id": "x2gh7QvCrd9W"
      },
      "source": [
        "# Practice 4: Normalization\n",
        "Complete the function in the cell below. The input argument is a list of numbers. The function returns a normalized list. Assume the sum of numbers in the list is non-zero."
      ]
    },
    {
      "cell_type": "code",
      "execution_count": 2,
      "metadata": {
        "id": "on5svbJxrd9X",
        "outputId": "d05d7b5a-eab4-4d89-9a29-1ac500bfa894",
        "colab": {
          "base_uri": "https://localhost:8080/"
        }
      },
      "outputs": [
        {
          "output_type": "stream",
          "name": "stdout",
          "text": [
            "[0.16666666666666666, 0.3333333333333333, 0.5]\n",
            "[0.0, 0.005263157894736842, 0.010526315789473684, 0.015789473684210527, 0.021052631578947368, 0.02631578947368421, 0.031578947368421054, 0.03684210526315789, 0.042105263157894736, 0.04736842105263158, 0.05263157894736842, 0.05789473684210526, 0.06315789473684211, 0.06842105263157895, 0.07368421052631578, 0.07894736842105263, 0.08421052631578947, 0.08947368421052632, 0.09473684210526316, 0.1]\n"
          ]
        }
      ],
      "source": [
        "# add your code below\n",
        "def normalize(l):\n",
        "    sum_of_list = sum(l)\n",
        "    normalized_l = []\n",
        "    for num in l:\n",
        "        normalized_num = float(num) / float(sum_of_list)\n",
        "        normalized_l.append(normalized_num)\n",
        "\n",
        "    return normalized_l\n",
        "\n",
        "\n",
        "# test your code using the examples below\n",
        "l1 = [1, 2, 3]\n",
        "normalized_l1 = normalize(l1)\n",
        "print(normalized_l1)\n",
        "\n",
        "l2 = list(range(20))\n",
        "normalized_l2 = normalize(l2)\n",
        "print(normalized_l2)\n"
      ]
    },
    {
      "cell_type": "markdown",
      "source": [
        "# Pure functions and side effects"
      ],
      "metadata": {
        "id": "5JZX58Z46wrP"
      }
    },
    {
      "cell_type": "code",
      "source": [
        "def add(x, y):\n",
        "    return x + y"
      ],
      "metadata": {
        "id": "9aZmcNyC635X"
      },
      "execution_count": null,
      "outputs": []
    },
    {
      "cell_type": "code",
      "source": [
        "add(1,2)"
      ],
      "metadata": {
        "colab": {
          "base_uri": "https://localhost:8080/"
        },
        "id": "H62lqKiC69KZ",
        "outputId": "facafd6e-a0d5-4356-93bb-d1e94fa4f670"
      },
      "execution_count": null,
      "outputs": [
        {
          "output_type": "execute_result",
          "data": {
            "text/plain": [
              "3"
            ]
          },
          "metadata": {},
          "execution_count": 20
        }
      ]
    },
    {
      "cell_type": "code",
      "source": [
        "default_val = 3\n",
        "def add_to_default(x):\n",
        "    return x + default_val"
      ],
      "metadata": {
        "id": "xVd58q2R7AXG"
      },
      "execution_count": null,
      "outputs": []
    },
    {
      "cell_type": "code",
      "source": [
        "add_to_default(1)"
      ],
      "metadata": {
        "colab": {
          "base_uri": "https://localhost:8080/"
        },
        "id": "dVHVCjt77Otq",
        "outputId": "be0df3db-57b3-41b4-f16e-84e963bd29e2"
      },
      "execution_count": null,
      "outputs": [
        {
          "output_type": "execute_result",
          "data": {
            "text/plain": [
              "4"
            ]
          },
          "metadata": {},
          "execution_count": 22
        }
      ]
    },
    {
      "cell_type": "code",
      "source": [
        "default_val = 5\n",
        "add_to_default(1)"
      ],
      "metadata": {
        "colab": {
          "base_uri": "https://localhost:8080/"
        },
        "id": "OhuoUiRU7SnE",
        "outputId": "052d3abb-3eb6-4127-df7e-78eb9236f9b0"
      },
      "execution_count": null,
      "outputs": [
        {
          "output_type": "execute_result",
          "data": {
            "text/plain": [
              "6"
            ]
          },
          "metadata": {},
          "execution_count": 23
        }
      ]
    },
    {
      "cell_type": "code",
      "source": [
        "def write_data(x):\n",
        "    print(\"writing %s\"%x)"
      ],
      "metadata": {
        "id": "eiG3VMxw7uCu"
      },
      "execution_count": null,
      "outputs": []
    },
    {
      "cell_type": "code",
      "source": [
        "write_data(1)"
      ],
      "metadata": {
        "colab": {
          "base_uri": "https://localhost:8080/"
        },
        "id": "kdHhtx13716e",
        "outputId": "9b2688a7-36c8-4cfe-e88b-4d93e50c660c"
      },
      "execution_count": null,
      "outputs": [
        {
          "output_type": "stream",
          "name": "stdout",
          "text": [
            "writing 1\n"
          ]
        }
      ]
    },
    {
      "cell_type": "markdown",
      "source": [
        "# positional argument and kwargs arguemnt"
      ],
      "metadata": {
        "id": "4vCZcGf961S9"
      }
    },
    {
      "cell_type": "code",
      "source": [
        "def coolsum(x, y, factor=1):\n",
        "    print(x, y, factor)\n",
        "    return (x + y)"
      ],
      "metadata": {
        "id": "HCwMNw2_87Rx"
      },
      "execution_count": null,
      "outputs": []
    },
    {
      "cell_type": "code",
      "source": [
        "def yoursum(**kwargs):\n",
        "    print(kwargs)\n",
        "    print(kwargs['a'])\n",
        "\n",
        "    yoursum(a=1, b=2, c=3)"
      ],
      "metadata": {
        "id": "xAsCacO49T3t"
      },
      "execution_count": null,
      "outputs": []
    },
    {
      "cell_type": "code",
      "source": [],
      "metadata": {
        "id": "zVzAGwnQ9dO5"
      },
      "execution_count": null,
      "outputs": []
    },
    {
      "cell_type": "markdown",
      "metadata": {
        "id": "SHcXc2jxS1GG"
      },
      "source": [
        "## Optional Advanced Function topics"
      ]
    },
    {
      "cell_type": "code",
      "execution_count": null,
      "metadata": {
        "id": "62ad6787-8593-4e75-b540-742d925d8a32",
        "outputId": "818cac7b-4e6a-49a9-ac25-083b203dab25"
      },
      "outputs": [
        {
          "data": {
            "text/plain": [
              "(1, 2, 3)"
            ]
          },
          "execution_count": 7,
          "metadata": {},
          "output_type": "execute_result"
        }
      ],
      "source": [
        "# You can define functions that take a variable number of\n",
        "# positional arguments\n",
        "def varargs(*args):\n",
        "    return args\n",
        "\n",
        "varargs(1, 2, 3)  # => (1, 2, 3)"
      ]
    },
    {
      "cell_type": "code",
      "execution_count": null,
      "metadata": {
        "id": "1093e5f9-cfa2-4681-99ef-26e08f0d4884",
        "outputId": "132f8b06-fcce-4c64-95f8-756dee94a755"
      },
      "outputs": [
        {
          "data": {
            "text/plain": [
              "{'big': 'foot', 'loch': 'ness'}"
            ]
          },
          "execution_count": 8,
          "metadata": {},
          "output_type": "execute_result"
        }
      ],
      "source": [
        "# You can define functions that take a variable number of\n",
        "# keyword arguments, as well\n",
        "def keyword_args(**kwargs):\n",
        "    return kwargs\n",
        "\n",
        "# Let's call it to see what happens\n",
        "keyword_args(big=\"foot\", loch=\"ness\")  # => {\"big\": \"foot\", \"loch\": \"ness\"}"
      ]
    },
    {
      "cell_type": "code",
      "execution_count": null,
      "metadata": {
        "id": "0e1c2aac-4751-49e1-aeba-4f2e190d646d",
        "outputId": "d725e054-a3ec-4358-a362-8d8ee1d63468"
      },
      "outputs": [
        {
          "name": "stdout",
          "output_type": "stream",
          "text": [
            "(1, 2)\n",
            "{'a': 3, 'b': 4}\n"
          ]
        }
      ],
      "source": [
        "# You can do both at once, if you like\n",
        "def all_the_args(*args, **kwargs):\n",
        "    print(args)\n",
        "    print(kwargs)\n",
        "\n",
        "all_the_args(1, 2, a=3, b=4)"
      ]
    },
    {
      "cell_type": "code",
      "execution_count": null,
      "metadata": {
        "id": "a79e6975-2bc3-42db-be95-842350a878ae",
        "outputId": "363316cf-4a89-42ae-8390-17ba7f91a385"
      },
      "outputs": [
        {
          "name": "stdout",
          "output_type": "stream",
          "text": [
            "(1, 2, 3, 4)\n",
            "{}\n",
            "()\n",
            "{'a': 3, 'b': 4}\n",
            "(1, 2, 3, 4)\n",
            "{'a': 3, 'b': 4}\n"
          ]
        }
      ],
      "source": [
        "# When calling functions, you can do the opposite of args/kwargs!\n",
        "# Use * to expand tuples and use ** to expand kwargs.\n",
        "args = (1, 2, 3, 4)\n",
        "kwargs = {\"a\": 3, \"b\": 4}\n",
        "all_the_args(*args)            # equivalent: all_the_args(1, 2, 3, 4)\n",
        "all_the_args(**kwargs)         # equivalent: all_the_args(a=3, b=4)\n",
        "all_the_args(*args, **kwargs)  # equivalent: all_the_args(1, 2, 3, 4, a=3, b=4)"
      ]
    },
    {
      "cell_type": "code",
      "execution_count": null,
      "metadata": {
        "id": "f465c9e3-24bd-4bc7-95f4-e3c59ad52593"
      },
      "outputs": [],
      "source": [
        "def sum(*args):\n",
        "    total = 0\n",
        "    for x in args:\n",
        "        total += x\n",
        "    return total"
      ]
    },
    {
      "cell_type": "code",
      "execution_count": null,
      "metadata": {
        "id": "55447a56-d2ab-4292-8c5f-76c26d28cc9d",
        "outputId": "9c88ba43-144a-4fd9-91e9-6834b6aa82c7"
      },
      "outputs": [
        {
          "data": {
            "text/plain": [
              "6"
            ]
          },
          "execution_count": 15,
          "metadata": {},
          "output_type": "execute_result"
        }
      ],
      "source": [
        "sum(1,2,3)"
      ]
    },
    {
      "cell_type": "code",
      "execution_count": null,
      "metadata": {
        "id": "c3cb5095-bf08-4a0c-989a-604dadd71f1c",
        "outputId": "f3ec2ea9-832e-469b-a06a-a55a69be1aab"
      },
      "outputs": [
        {
          "data": {
            "text/plain": [
              "45"
            ]
          },
          "execution_count": 16,
          "metadata": {},
          "output_type": "execute_result"
        }
      ],
      "source": [
        "sum(1,2,3,4,5,6,7,8,9)"
      ]
    },
    {
      "cell_type": "markdown",
      "metadata": {
        "id": "92b3a111-0b1d-4134-8698-961623d61ad2"
      },
      "source": [
        "# Comprehensions\n",
        "\n",
        "Every Pythonista should know this\n",
        "\n",
        "Writing Comprehensions is very Pythonic"
      ]
    },
    {
      "cell_type": "code",
      "execution_count": null,
      "metadata": {
        "id": "LKgUinWdt8iJ",
        "outputId": "9490a218-19ac-4243-c705-9361bc4b1452"
      },
      "outputs": [
        {
          "data": {
            "text/plain": [
              "['Writing', 'Comprehensions', 'is']"
            ]
          },
          "execution_count": 4,
          "metadata": {},
          "output_type": "execute_result"
        }
      ],
      "source": [
        "\"Writing Comprehensions is very Pythonic\"\n",
        "[\"Writing\", \"Comprehensions\", \"is\"]"
      ]
    },
    {
      "cell_type": "code",
      "execution_count": null,
      "metadata": {
        "colab": {
          "base_uri": "https://localhost:8080/"
        },
        "id": "KQXA3gj-uWm1",
        "outputId": "2c16fb12-d37a-4936-c214-850fdf360ad1"
      },
      "outputs": [
        {
          "data": {
            "text/plain": [
              "['Writing', 'Comprehensions', 'is', 'very', 'Pythonic']"
            ]
          },
          "execution_count": 10,
          "metadata": {},
          "output_type": "execute_result"
        }
      ],
      "source": [
        "def split(deliminator=\" \"):\n",
        "    pass\n",
        "\n",
        "\n",
        "s = \"Writing Comprehensions is very Pythonic\"\n",
        "s.split()\n",
        "\n",
        "s = \"Writing-Comprehensions-is-very-Pythonic\"\n",
        "s.split(\"-\")"
      ]
    },
    {
      "cell_type": "code",
      "execution_count": null,
      "metadata": {
        "colab": {
          "base_uri": "https://localhost:8080/"
        },
        "id": "tk55a2_YxEaI",
        "outputId": "dc430ba5-a1b6-41c2-b5b3-b572a64f05f1"
      },
      "outputs": [
        {
          "data": {
            "text/plain": [
              "['APPLE', 'ORANGE']"
            ]
          },
          "execution_count": 46,
          "metadata": {},
          "output_type": "execute_result"
        }
      ],
      "source": [
        "\"\"\"\n",
        "upper_case(['apple', 'orange'])\n",
        "-> ['APPLE', 'ORANGE']\n",
        "\n",
        "hint: \"apple\".upper() => \"APPLE\"\n",
        "      [].append(\"APPLE\") => [\"APPLE\"]\n",
        "      [\"APPLE\"].append(\"ORANGE\") => [\"APPLE\", \"ORANGE\"]\n",
        "\"\"\"\n",
        "def upper_case(my_list):\n",
        "    upper_list = []\n",
        "    for fruit in my_list:\n",
        "        upper_fruit = fruit.upper() # APPLE\n",
        "        upper_list.append(upper_fruit)\n",
        "    return upper_list\n",
        "upper_case(['apple', 'orange'])\n",
        "\n",
        "def upper_case(my_list):\n",
        "    for idx, fruit in enumerate(my_list):\n",
        "        upper_fruit = fruit.upper() # APPLE\n",
        "        my_list[idx] = upper_fruit\n",
        "    return my_list\n",
        "upper_case(['apple', 'orange'])"
      ]
    },
    {
      "cell_type": "code",
      "execution_count": null,
      "metadata": {
        "colab": {
          "base_uri": "https://localhost:8080/"
        },
        "id": "8fn5s4Dh1wdz",
        "outputId": "4c6bfded-74cf-4ad1-c184-10117b1b6fcb"
      },
      "outputs": [
        {
          "data": {
            "text/plain": [
              "['APPLE', 'ORANGE']"
            ]
          },
          "execution_count": 47,
          "metadata": {},
          "output_type": "execute_result"
        }
      ],
      "source": [
        "my_list = [\"apple\", \"orange\"]\n",
        "[fruit.upper() for fruit in my_list]"
      ]
    },
    {
      "cell_type": "code",
      "execution_count": null,
      "metadata": {
        "id": "8ZgGTnYV2kUb"
      },
      "outputs": [],
      "source": [
        "\"\"\"\n",
        "return list of fruits that starts with 'a',\n",
        "and make it upper case\n",
        "upper_a_fruits(['apple', 'orange'])\n",
        "-> ['APPLE']\n",
        "\"\"\"\n",
        "def upper_a_fruits(my_list):\n",
        "    upper_list = []\n",
        "    for fruit in my_list:\n",
        "        if not fruit.startswith('a'):\n",
        "            continue\n",
        "        upper_fruit = fruit.upper() # APPLE\n",
        "        upper_list.append(upper_fruit)\n",
        "    return upper_list\n",
        "upper_case(['apple', 'orange'])"
      ]
    },
    {
      "cell_type": "code",
      "execution_count": null,
      "metadata": {
        "colab": {
          "base_uri": "https://localhost:8080/"
        },
        "id": "5wJXw_ai3znC",
        "outputId": "bc956f8b-2e59-42c0-fdd6-15fc01e73421"
      },
      "outputs": [
        {
          "data": {
            "text/plain": [
              "['APPLE']"
            ]
          },
          "execution_count": 49,
          "metadata": {},
          "output_type": "execute_result"
        }
      ],
      "source": [
        "my_list = [\"apple\", \"orange\", \"banana\"]\n",
        "[fruit.upper() for fruit in my_list if fruit.startswith('a')]\n",
        "# [transform <for-loop> filter]"
      ]
    },
    {
      "cell_type": "code",
      "execution_count": null,
      "metadata": {
        "id": "PU78GvacuikW"
      },
      "outputs": [],
      "source": [
        "def add():\n",
        "    pass\n",
        "add(len)\n",
        "\n",
        "\"string\".split()\n",
        "\n",
        "\n",
        "class MyString():\n",
        "    def split():\n",
        "        pass\n",
        "\n",
        "s = MyString()\n",
        "s = \"this is my string\" # -> MyString()\n",
        "s.split()"
      ]
    },
    {
      "cell_type": "code",
      "execution_count": null,
      "metadata": {
        "colab": {
          "base_uri": "https://localhost:8080/"
        },
        "id": "a79d7831-3682-4134-89c7-bee1381dded7",
        "outputId": "324bb8f4-917f-45a8-c05a-57a9e3d416f3"
      },
      "outputs": [
        {
          "name": "stdout",
          "output_type": "stream",
          "text": [
            "DOG\n",
            "['dog', 'cat', 'mouse']\n",
            "dog\n"
          ]
        },
        {
          "data": {
            "text/plain": [
              "['DOG', 'CAT', 'MOUSE']"
            ]
          },
          "execution_count": 6,
          "metadata": {},
          "output_type": "execute_result"
        }
      ],
      "source": [
        "# Change string to all cap using .upper()\n",
        "print(\"dog\".upper())\n",
        "\n",
        "animals = [\"dog\", \"cat\", \"mouse\"]\n",
        "print(animals)\n",
        "\n",
        "# take one animal and make it all cap\n",
        "animals[0].upper()\n",
        "print(animals[0])\n",
        "\n",
        "# what if we want to make a list of animals all capitalized?\n",
        "capitalized_animals = []\n",
        "for animal in animals:\n",
        "    cap_animal = animal.upper()\n",
        "    capitalized_animals.append(cap_animal)\n",
        "capitalized_animals\n",
        "\n",
        "# a pythonic way: \"comprehensions\" creates new sequences from existing ones\n",
        "# applies to lists, dictionaries, sets, generators\n",
        "# []'s define a list, a.upper() describes what to do, for statement selects what\n",
        "[a.upper() for a in animals]"
      ]
    },
    {
      "cell_type": "code",
      "execution_count": null,
      "metadata": {
        "colab": {
          "base_uri": "https://localhost:8080/"
        },
        "id": "e6c18711-c71f-4fa1-bef6-68745b6a7341",
        "outputId": "8a4a4d3d-705a-4cf8-bcb8-9d6a72e8bb92"
      },
      "outputs": [
        {
          "name": "stdout",
          "output_type": "stream",
          "text": [
            "['dog']\n",
            "['DOG', 'MOUSE']\n",
            "[{'id': 2, 'name': 'Steve', 'score': 6, 'is_active': False}]\n",
            "[{'id': 1, 'name': 'Ian', 'score': 5, 'is_active': True}]\n"
          ]
        }
      ],
      "source": [
        "# comprehensions can be used for filtering\n",
        "print([a for a in animals if a == 'dog'])\n",
        "\n",
        "# filtering and also transforming\n",
        "print([a.upper() for a in animals if a == 'dog' or a == 'mouse'])\n",
        "\n",
        "# real world example of list of dictionaries\n",
        "employees = [\n",
        "    {\"id\": 1, \"name\": \"Ian\", \"score\": 5, \"is_active\": True},\n",
        "    {\"id\": 2, \"name\": \"Steve\", \"score\": 6, \"is_active\": False},\n",
        "]\n",
        "high_score_employees = [x for x in employees if x['score'] > 5]\n",
        "print(high_score_employees)\n",
        "\n",
        "active_employees = [x for x in employees if x['is_active']]\n",
        "print(active_employees)"
      ]
    },
    {
      "cell_type": "markdown",
      "metadata": {
        "id": "63e7efb0-f1e0-4da5-82ef-2810c2183a00"
      },
      "source": [
        "## Practice Exercise Comprehension 1"
      ]
    },
    {
      "cell_type": "code",
      "execution_count": null,
      "metadata": {
        "colab": {
          "base_uri": "https://localhost:8080/"
        },
        "id": "gF8FBAkTnCRC",
        "outputId": "61b2d402-3d9f-4a2b-f17f-3d7c84a89cd1"
      },
      "outputs": [
        {
          "data": {
            "text/plain": [
              "[7, 11, 8, 62]"
            ]
          },
          "execution_count": 50,
          "metadata": {},
          "output_type": "execute_result"
        }
      ],
      "source": [
        "# create a new list by adding 6 to the elements of an existing list\n",
        "prev_list = [1,5,2,56]\n",
        "[ele + 6 for ele in prev_list]"
      ]
    },
    {
      "cell_type": "markdown",
      "metadata": {
        "id": "-gd5B9SwnChO"
      },
      "source": [
        "## Optional Advanced Practice Exercise Comprehension 2"
      ]
    },
    {
      "cell_type": "code",
      "execution_count": null,
      "metadata": {
        "colab": {
          "base_uri": "https://localhost:8080/",
          "height": 143
        },
        "id": "DM-El6DhlWHs",
        "outputId": "69123910-b10a-40bf-e5d5-3f72ec8dfae2"
      },
      "outputs": [
        {
          "name": "stdout",
          "output_type": "stream",
          "text": [
            "[0, 1, 2, 3, 4, 5, 6, 7, 8, 9]\n",
            "[10, 11, 12, 13, 14, 15, 16, 17, 18, 19]\n",
            "[20, 21, 22, 23, 24, 25, 26, 27, 28, 29]\n",
            "[30, 31, 32, 33, 34, 35, 36, 37, 38, 39]\n",
            "[40, 41, 42, 43, 44, 45, 46, 47, 48, 49]\n",
            "[50, 51, 52, 53, 54, 55, 56, 57, 58, 59]\n",
            "[60, 61, 62, 63, 64, 65, 66, 67, 68, 69]\n",
            "[70, 71, 72, 73, 74, 75, 76, 77, 78, 79]\n",
            "[80, 81, 82, 83, 84, 85, 86, 87, 88, 89]\n",
            "[90, 91, 92, 93, 94, 95, 96, 97, 98, 99]\n"
          ]
        }
      ],
      "source": [
        "# You have 100 elements in a list, but a remote storage system can only\n",
        "# accept 10 elements at a time. Write a program that feeds the data to a\n",
        "# remote system 10 elements at a time\n",
        "\n",
        "# define a list of 100 elements using list functions\n",
        "elements = # your code\n",
        "\n",
        "# use list slicing and range function in a list comprehension to create\n",
        "# a new list of 10-element lists\n",
        "batches_of_10 =  # your code\n",
        "\n",
        "# print (send) one batch at a time to the remote storage system\n",
        "for next_ten in batches_of_10:\n",
        "  print(next_ten)"
      ]
    },
    {
      "cell_type": "markdown",
      "metadata": {
        "id": "ffc502e7-6fce-4b63-855a-f2d211b618ae"
      },
      "source": [
        "## Optional Advanced Function Topics"
      ]
    },
    {
      "cell_type": "code",
      "execution_count": null,
      "metadata": {
        "colab": {
          "base_uri": "https://localhost:8080/"
        },
        "id": "f9d568eb-ace3-4c18-abca-71cb7bc17777",
        "outputId": "110eab80-5e03-4206-b3f1-1e78978e619d"
      },
      "outputs": [
        {
          "name": "stdout",
          "output_type": "stream",
          "text": [
            "2 1\n",
            "1 2\n"
          ]
        }
      ],
      "source": [
        "# Returning multiple values (with tuple assignments)\n",
        "\n",
        "def swap(x, y):\n",
        "    return y, x  # Return multiple values as a tuple without the parenthesis.\n",
        "                 # (Note: parenthesis have been excluded but can be included)\n",
        "\n",
        "x = 1\n",
        "y = 2\n",
        "x, y = swap(x, y)     # => x = 2, y = 1\n",
        "print(x, y)\n",
        "\n",
        "(x, y) = swap(x,y)  # Again the use of parenthesis is optional.\n",
        "print(x, y)"
      ]
    },
    {
      "cell_type": "code",
      "execution_count": null,
      "metadata": {
        "id": "3726d5e7-ff2c-474e-b78f-493af58f1a6c",
        "outputId": "0ccde95a-4354-4568-898a-ad06189023db"
      },
      "outputs": [
        {
          "name": "stdout",
          "output_type": "stream",
          "text": [
            "43\n",
            "5\n",
            "6\n"
          ]
        }
      ],
      "source": [
        "# global scope\n",
        "x = 5\n",
        "\n",
        "def set_x(num):\n",
        "    # local scope begins here\n",
        "    # local var x not the same as global var x\n",
        "    x = num    # => 43\n",
        "    print(x)   # => 43\n",
        "\n",
        "def set_global_x(num):\n",
        "    # global indicates that particular var lives in the global scope\n",
        "    global x\n",
        "    print(x)   # => 5\n",
        "    x = num    # global var x is now set to 6\n",
        "    print(x)   # => 6\n",
        "\n",
        "set_x(43)\n",
        "set_global_x(6)"
      ]
    },
    {
      "cell_type": "code",
      "execution_count": null,
      "metadata": {
        "colab": {
          "base_uri": "https://localhost:8080/"
        },
        "id": "d5501dcc-57d6-45ab-82fd-6f3a952d6bfb",
        "outputId": "03dcb5bf-18b0-4112-e8a4-0c768108cc22"
      },
      "outputs": [
        {
          "data": {
            "text/plain": [
              "13"
            ]
          },
          "execution_count": 13,
          "metadata": {},
          "output_type": "execute_result"
        }
      ],
      "source": [
        "## First class functions are functions that can be treated like a variable\n",
        "\n",
        "def create_adder(x):\n",
        "    def adder(y):\n",
        "        return x + y\n",
        "    return adder\n",
        "\n",
        "add_10 = create_adder(10)\n",
        "add_10(3)"
      ]
    },
    {
      "cell_type": "markdown",
      "metadata": {
        "id": "CxwIKRNGBYJV"
      },
      "source": [
        "### Practice with first class functions"
      ]
    },
    {
      "cell_type": "markdown",
      "metadata": {
        "id": "WhWeNue8Buis"
      },
      "source": [
        "* Create a factory function that will return a function\n",
        "* The function you create will take a string and pad it to a specific length\n",
        "* pad10(str) where str='bob' would return bobxxxxxxx"
      ]
    },
    {
      "cell_type": "code",
      "source": [
        "def create_padding_function(pad_length, pad_char='x'):\n",
        "    def pad_string(s):\n",
        "        return s + (pad_char * (pad_length - len(s)))\n",
        "    return pad_string\n",
        "\n",
        "# Example usage:\n",
        "pad10 = create_padding_function(10)\n",
        "print(pad10('bob'))  # Output: bobxxxxxxx"
      ],
      "metadata": {
        "colab": {
          "base_uri": "https://localhost:8080/"
        },
        "id": "s1lrkrwCA_46",
        "outputId": "9c57d93c-c12a-47ce-d043-1196de056bf8"
      },
      "execution_count": 3,
      "outputs": [
        {
          "output_type": "stream",
          "name": "stdout",
          "text": [
            "bobxxxxxxx\n"
          ]
        }
      ]
    },
    {
      "cell_type": "markdown",
      "source": [
        "# Error Handling\n",
        "\n",
        "https://docs.python.org/3/tutorial/errors.html"
      ],
      "metadata": {
        "id": "dMIpRNk5seyi"
      }
    },
    {
      "cell_type": "code",
      "source": [
        "number = input(\"Give me a number: \")\n",
        "\n",
        "int(number) * 2"
      ],
      "metadata": {
        "colab": {
          "base_uri": "https://localhost:8080/",
          "height": 193
        },
        "id": "zvAjkCXxsi_F",
        "outputId": "80bc6a2a-625b-4a75-fdcc-9bc313f0a793"
      },
      "execution_count": null,
      "outputs": [
        {
          "name": "stdout",
          "output_type": "stream",
          "text": [
            "Give me a number: hi\n"
          ]
        },
        {
          "output_type": "error",
          "ename": "ValueError",
          "evalue": "invalid literal for int() with base 10: 'hi'",
          "traceback": [
            "\u001b[0;31m---------------------------------------------------------------------------\u001b[0m",
            "\u001b[0;31mValueError\u001b[0m                                Traceback (most recent call last)",
            "\u001b[0;32m<ipython-input-5-81c4d450f6f6>\u001b[0m in \u001b[0;36m<cell line: 3>\u001b[0;34m()\u001b[0m\n\u001b[1;32m      1\u001b[0m \u001b[0mnumber\u001b[0m \u001b[0;34m=\u001b[0m \u001b[0minput\u001b[0m\u001b[0;34m(\u001b[0m\u001b[0;34m\"Give me a number: \"\u001b[0m\u001b[0;34m)\u001b[0m\u001b[0;34m\u001b[0m\u001b[0;34m\u001b[0m\u001b[0m\n\u001b[1;32m      2\u001b[0m \u001b[0;34m\u001b[0m\u001b[0m\n\u001b[0;32m----> 3\u001b[0;31m \u001b[0mint\u001b[0m\u001b[0;34m(\u001b[0m\u001b[0mnumber\u001b[0m\u001b[0;34m)\u001b[0m \u001b[0;34m*\u001b[0m \u001b[0;36m2\u001b[0m\u001b[0;34m\u001b[0m\u001b[0;34m\u001b[0m\u001b[0m\n\u001b[0m",
            "\u001b[0;31mValueError\u001b[0m: invalid literal for int() with base 10: 'hi'"
          ]
        }
      ]
    },
    {
      "cell_type": "code",
      "source": [
        "# add \"try\" to handle the error and give feedback to the user\n",
        "number_str = input(\"Give me a number: \")\n",
        "\n",
        "try:\n",
        "    ans = int(number_str) * 2\n",
        "    print(ans)\n",
        "except ValueError:\n",
        "    print(\"Please input a valid number\")"
      ],
      "metadata": {
        "colab": {
          "base_uri": "https://localhost:8080/"
        },
        "id": "A88MIBgQFdR0",
        "outputId": "16afeb92-2b72-422b-efff-b0ad3a9f11a7"
      },
      "execution_count": null,
      "outputs": [
        {
          "output_type": "stream",
          "name": "stdout",
          "text": [
            "Give me a number: c\n",
            "Please input a valid number\n"
          ]
        }
      ]
    },
    {
      "cell_type": "code",
      "source": [
        "def divide(x,y):\n",
        "    try:\n",
        "        ans = x/y\n",
        "    except ZeroDivisionError:\n",
        "        print(\"cannot divide by zero\")\n",
        "    else:\n",
        "        print(\"there is no error\")\n",
        "        print(ans)\n",
        "    finally:\n",
        "        print(\"let's clean up the mess...whether there is error or not\")\n"
      ],
      "metadata": {
        "id": "isICUiO3GlqB"
      },
      "execution_count": null,
      "outputs": []
    },
    {
      "cell_type": "code",
      "source": [
        "divide(4,2)"
      ],
      "metadata": {
        "colab": {
          "base_uri": "https://localhost:8080/"
        },
        "id": "wFGufGA2HM5e",
        "outputId": "b81025df-43b9-452e-8ca3-dd5156ad1d83"
      },
      "execution_count": null,
      "outputs": [
        {
          "output_type": "stream",
          "name": "stdout",
          "text": [
            "there is no error\n",
            "2.0\n",
            "let's clean up the mess...whether there is error or not\n"
          ]
        }
      ]
    },
    {
      "cell_type": "code",
      "source": [
        "divide(4,0)"
      ],
      "metadata": {
        "colab": {
          "base_uri": "https://localhost:8080/"
        },
        "id": "30jiFpN5H2qv",
        "outputId": "dad66cfa-41f9-4f3e-aa27-fcd452efbd90"
      },
      "execution_count": null,
      "outputs": [
        {
          "output_type": "stream",
          "name": "stdout",
          "text": [
            "cannot divide by zero\n",
            "let's clean up the mess...whether there is error or not\n"
          ]
        }
      ]
    },
    {
      "cell_type": "code",
      "source": [
        "fd = open('/tmp/a.txt')\n",
        "try:\n",
        "    fd.read()\n",
        "    fd.write(\"hello\")\n",
        "except:\n",
        "    print(\"something went wrong\")\n",
        "finally:\n",
        "    fd.close()"
      ],
      "metadata": {
        "id": "V_2QOZbYIFqq"
      },
      "execution_count": null,
      "outputs": []
    },
    {
      "cell_type": "code",
      "source": [
        "#template\n",
        "date = [\n",
        "    {\"name\": \"John\", \"age\": 30},\n",
        "    {\"name\": \"Jane\", \"age\": ''},\n",
        "    {\"name\": \"Bob\", \"age\":90}\n",
        "]\n",
        "\n",
        "for row in data:\n",
        "    print(row)\n",
        "    half_age"
      ],
      "metadata": {
        "id": "KbXF1Utf2noq"
      },
      "execution_count": null,
      "outputs": []
    },
    {
      "cell_type": "markdown",
      "source": [
        "# Practice"
      ],
      "metadata": {
        "id": "NKm1REZKJFF0"
      }
    },
    {
      "cell_type": "code",
      "source": [
        "# ask the user to input a valid number\n",
        "# if the user input a valid number, just print the number and exit\n",
        "# if the user give an inavlid number, ask again\n",
        "# ask the user upto 3 times, then exit the program and print \"good bye\"\n",
        "\n",
        "for num in range(3):\n",
        "    number_str = input(\"Give me a valid number: \")\n",
        "    try:\n",
        "        ans = int(number_str)\n",
        "        print(ans)\n",
        "        break\n",
        "    except ValueError:\n",
        "        print(\"This is an invalid number.\")\n",
        "    if num == 2:\n",
        "        print(\"goodbye\")\n",
        "\n"
      ],
      "metadata": {
        "colab": {
          "base_uri": "https://localhost:8080/"
        },
        "id": "rbpF3GB6IdA8",
        "outputId": "6798f93a-3ec0-4316-9806-62af834fd281"
      },
      "execution_count": null,
      "outputs": [
        {
          "output_type": "stream",
          "name": "stdout",
          "text": [
            "Give me a valid number: 2\n",
            "2\n"
          ]
        }
      ]
    },
    {
      "cell_type": "code",
      "source": [
        "def divide(x, y):\n",
        "    try:\n",
        "        # Floor Division : Gives only Fractional Part as Answer\n",
        "        result = x // y\n",
        "    except ZeroDivisionError:\n",
        "        print(\"Sorry ! You are dividing by zero \")\n",
        "    else:\n",
        "        print(\"Yeah ! Your answer is :\", result)\n",
        "    finally:\n",
        "        print(\"This is always executed\")\n",
        "\n",
        "divide(3, 2)\n",
        "divide(3, 0)"
      ],
      "metadata": {
        "colab": {
          "base_uri": "https://localhost:8080/"
        },
        "id": "hFHY7hAus7lV",
        "outputId": "90a508b0-a843-4529-c5d7-1685a7b2c75f"
      },
      "execution_count": null,
      "outputs": [
        {
          "output_type": "stream",
          "name": "stdout",
          "text": [
            "Yeah ! Your answer is : 1\n",
            "This is always executed\n",
            "Sorry ! You are dividing by zero \n",
            "This is always executed\n"
          ]
        }
      ]
    },
    {
      "cell_type": "markdown",
      "metadata": {
        "id": "b866f87d-2bcb-4275-a727-52d3620996ca"
      },
      "source": [
        "# Packages"
      ]
    },
    {
      "cell_type": "code",
      "execution_count": null,
      "metadata": {
        "colab": {
          "base_uri": "https://localhost:8080/"
        },
        "id": "aad21e62-2c0c-451f-a7d0-93ad7332d45d",
        "outputId": "3a4684d0-cf3e-4fa1-9b5d-bb48ee67b614"
      },
      "outputs": [
        {
          "output_type": "stream",
          "name": "stdout",
          "text": [
            "2024-10-22 03:18:14.055467\n",
            "\u001b[2K   \u001b[90m━━━━━━━━━━━━━━━━━━━━━━━━━━━━━━━━━━━━━━━━\u001b[0m \u001b[32m294.5/294.5 kB\u001b[0m \u001b[31m7.5 MB/s\u001b[0m eta \u001b[36m0:00:00\u001b[0m\n",
            "\u001b[?25h"
          ]
        }
      ],
      "source": [
        "# import the whole package\n",
        "import datetime\n",
        "\n",
        "print(datetime.datetime.now())\n",
        "\n",
        "# import parts of the package\n",
        "from collections import Counter, OrderedDict\n",
        "\n",
        "# install specific packages via pip (and ! command line command)\n",
        "!pip install -q wordcloud requests pypdf\n",
        "\n",
        "# import packages to generate a word cloud\n",
        "import requests\n",
        "from pypdf import PdfReader\n",
        "import matplotlib.pyplot as plt\n",
        "from wordcloud import WordCloud"
      ]
    },
    {
      "cell_type": "code",
      "execution_count": null,
      "metadata": {
        "colab": {
          "base_uri": "https://localhost:8080/"
        },
        "id": "cJhxdpLsGfft",
        "outputId": "5b0c7780-6dbc-48d1-adef-99a9574b283c"
      },
      "outputs": [
        {
          "name": "stdout",
          "output_type": "stream",
          "text": [
            "September 20, 2023   Chair Powell’s Press Conference   FINAL  \n",
            " \n",
            "Page 1 of 28  \n",
            " Transcript of Chair Powell ’s Press Conference \n",
            "September 20, 2023 \n",
            " \n",
            "CHAIR POWELL.  Good afternoon , everyone .  My colleagues and I remain squarely \n",
            "focused on our dual mandate to promote maximum employment and stable prices for the \n",
            "American people.  We understand the hardship that high inflation is causing, and we remain \n",
            "strongly committed to bringing inflation b ack down to our 2 percent goal .  Price stabilit\n"
          ]
        }
      ],
      "source": [
        "# first download a PDF from a press conference (you can use any PDF you would like)\n",
        "res = requests.get(\"https://www.federalreserve.gov/mediacenter/files/FOMCpresconf20230920.pdf\")\n",
        "open('speech.pdf', 'wb').write(res.content)\n",
        "\n",
        "# using the packages we imported, we can extract the text (for certain PDFs)\n",
        "reader = PdfReader(\"speech.pdf\")\n",
        "page = reader.pages[0]\n",
        "text = page.extract_text()\n",
        "\n",
        "# check the content to make sure\n",
        "# Check the content\n",
        "print(text[:500])"
      ]
    },
    {
      "cell_type": "code",
      "execution_count": null,
      "metadata": {
        "colab": {
          "base_uri": "https://localhost:8080/",
          "height": 302
        },
        "id": "c3808995-14fc-4fce-9d0e-cf4c0ed930f1",
        "outputId": "192e7ea6-fd5f-43dc-a7d2-89f7047433e8"
      },
      "outputs": [
        {
          "data": {
            "text/plain": [
              "(-0.5, 399.5, 199.5, -0.5)"
            ]
          },
          "execution_count": 13,
          "metadata": {},
          "output_type": "execute_result"
        },
        {
          "data": {
            "image/png": "[encoded data removed]",
            "text/plain": [
              "<Figure size 640x480 with 1 Axes>"
            ]
          },
          "metadata": {},
          "output_type": "display_data"
        }
      ],
      "source": [
        "# using the packages we imported, generate and show a wordcloud\n",
        "# the python package ecosystem has many packages, but you need to make sure\n",
        "# they are safe to use, reliable and robust, and have an amenable license\n",
        "# for your use\n",
        "\n",
        "wordcloud = WordCloud().generate(text)\n",
        "plt.imshow(wordcloud, interpolation='bilinear')\n",
        "plt.axis(\"off\")"
      ]
    },
    {
      "cell_type": "markdown",
      "metadata": {
        "id": "wye_bQ6PJac6"
      },
      "source": [
        "## Practice Exercise on Importing Packages"
      ]
    },
    {
      "cell_type": "code",
      "execution_count": 41,
      "metadata": {
        "id": "GRl3M1T29t73"
      },
      "outputs": [],
      "source": [
        "import datetime"
      ]
    },
    {
      "cell_type": "code",
      "execution_count": 42,
      "metadata": {
        "id": "PVdz72WW9v7S"
      },
      "outputs": [],
      "source": [
        "?datetime.datetime.now"
      ]
    },
    {
      "cell_type": "code",
      "execution_count": null,
      "metadata": {
        "colab": {
          "base_uri": "https://localhost:8080/"
        },
        "id": "9EYsmDmut3PH",
        "outputId": "22812073-a220-48b6-eea9-218cf052c3a8"
      },
      "outputs": [
        {
          "name": "stdout",
          "output_type": "stream",
          "text": [
            "Yesterday :  2024-08-21\n",
            "Today :  2024-08-22\n",
            "Tomorrow :  2024-08-23\n"
          ]
        }
      ],
      "source": [
        "# the datetime package makes working with type datatime easier\n",
        "# read the documentation and find a way to print the\n",
        "# date for yesterday, today and tomorrow in YYYY-MM-DD\n",
        "\n",
        "import datetime\n",
        "\n",
        "today = # your code\n",
        "yesterday =  # your code\n",
        "tomorrow =  # your code\n",
        "\n",
        "print('Yesterday : ',yesterday)\n",
        "print('Today : ',today)\n",
        "print('Tomorrow : ',tomorrow)"
      ]
    },
    {
      "cell_type": "markdown",
      "metadata": {
        "id": "JH8rC8MQlSnu"
      },
      "source": [
        "# Debugging Challenge"
      ]
    },
    {
      "cell_type": "code",
      "execution_count": 20,
      "metadata": {
        "colab": {
          "base_uri": "https://localhost:8080/"
        },
        "id": "xc_xcIRKlWUL",
        "outputId": "1681c01f-5c28-4b56-dc4e-a8c00e02d758"
      },
      "outputs": [
        {
          "output_type": "stream",
          "name": "stdout",
          "text": [
            "Enter an integer: 23\n",
            "0\n",
            "506\n"
          ]
        }
      ],
      "source": [
        "# given an even integer, return sum of even numbers [0,number] (inclusive)\n",
        "# given an odd integer, return sum of odd numbers [0,number] (inclusive)\n",
        "number = int(input(\"Enter an integer: \"))\n",
        "\n",
        "i = 1\n",
        "total_even = 0\n",
        "total_odd = 0\n",
        "\n",
        "while i < number:\n",
        "\n",
        "    if number % 2 == 0:\n",
        "        total_even = total_even + number\n",
        "    else:\n",
        "        total_odd = total_odd + number\n",
        "    i = i + 1\n",
        "\n",
        "\n",
        "print(total_even)\n",
        "\n",
        "print(total_odd)"
      ]
    },
    {
      "cell_type": "markdown",
      "metadata": {
        "id": "1dG4tkg82M9Y"
      },
      "source": [
        "# Set\n",
        "\n",
        "## What is a Set?\n",
        "A set is a data structure in Python that is used to store a collection of unique elements. Unlike lists or tuples, sets do not allow duplicate values. Sets are often used to perform operations like union, intersection, and difference on data."
      ]
    },
    {
      "cell_type": "markdown",
      "metadata": {
        "id": "KaHZnhw_2s9u"
      },
      "source": [
        "## Creating a Set\n",
        "In Python, you can create a set by enclosing a comma-separated sequence of elements within curly braces `{}` or by using the `set()` constructor. Here's how you can create a set:"
      ]
    },
    {
      "cell_type": "code",
      "execution_count": null,
      "metadata": {
        "id": "ADpGEZYl2v0j"
      },
      "outputs": [],
      "source": [
        "# Creating a set using curly braces\n",
        "my_set = {1, 2, 3, 4, 5}\n",
        "\n",
        "# Use the set() constructor to convert a list into a set\n",
        "another_set = set([2, 4, 6, 8])"
      ]
    },
    {
      "cell_type": "markdown",
      "metadata": {
        "id": "v0phUm7n2yk_"
      },
      "source": [
        "## Basic Set Operations\n",
        "### Adding Elements\n",
        "\n",
        "You can add elements to a set using the `add()` method. The element should be unique; duplicate elements won't be added."
      ]
    },
    {
      "cell_type": "code",
      "execution_count": null,
      "metadata": {
        "colab": {
          "base_uri": "https://localhost:8080/"
        },
        "id": "lc1tExLD21hX",
        "outputId": "00284bbe-6914-43f6-9e83-55bde4a028ad"
      },
      "outputs": [
        {
          "data": {
            "text/plain": [
              "{1, 2, 3, 4, 5, 6}"
            ]
          },
          "execution_count": 19,
          "metadata": {},
          "output_type": "execute_result"
        }
      ],
      "source": [
        "my_set = {1, 2, 3, 4, 5}\n",
        "\n",
        "my_set.add(6)\n",
        "my_set"
      ]
    },
    {
      "cell_type": "markdown",
      "metadata": {
        "id": "ZytW-a3523Se"
      },
      "source": [
        "### Removing Elements\n",
        "You can remove elements from a set using the `remove()` method. If the element is not present in the set, it will raise a KeyError. To avoid this, you can use the `discard()` method, which won't raise an error if the element is not found."
      ]
    },
    {
      "cell_type": "code",
      "execution_count": null,
      "metadata": {
        "colab": {
          "base_uri": "https://localhost:8080/"
        },
        "id": "Eswuk9yn26Ys",
        "outputId": "df7567aa-0a78-4b57-ba64-e6f0c231992d"
      },
      "outputs": [
        {
          "data": {
            "text/plain": [
              "{1, 2, 4, 5}"
            ]
          },
          "execution_count": 21,
          "metadata": {},
          "output_type": "execute_result"
        }
      ],
      "source": [
        "my_set = {1, 2, 3, 4, 5}\n",
        "\n",
        "my_set.remove(3)\n",
        "my_set.discard(7)  # No error even if 7 is not in the set\n",
        "my_set"
      ]
    },
    {
      "cell_type": "code",
      "execution_count": null,
      "metadata": {
        "colab": {
          "base_uri": "https://localhost:8080/"
        },
        "id": "GEhXiluo29UH",
        "outputId": "b28c0bcc-831a-4333-cc5f-22e480492dd8"
      },
      "outputs": [
        {
          "name": "stdout",
          "output_type": "stream",
          "text": [
            "1\n",
            "2\n",
            "4\n",
            "5\n",
            "6\n"
          ]
        },
        {
          "data": {
            "text/plain": [
              "{4, 5, 6}"
            ]
          },
          "execution_count": 6,
          "metadata": {},
          "output_type": "execute_result"
        }
      ],
      "source": [
        "# can be for loop'ed just like lists\n",
        "for ele in my_set:\n",
        "    print(ele)\n",
        "\n",
        "{x for x in my_set if x > 2} # set comprehension"
      ]
    },
    {
      "cell_type": "markdown",
      "metadata": {
        "id": "wrl7CbK33JF6"
      },
      "source": [
        "## Set Operations\n",
        "\n",
        "Sets support various set operations such as union, intersection, and difference."
      ]
    },
    {
      "cell_type": "markdown",
      "metadata": {
        "id": "PtoldeoR3X3H"
      },
      "source": [
        "**Union**: Combines two sets and returns a new set containing all unique elements from both sets."
      ]
    },
    {
      "cell_type": "code",
      "execution_count": null,
      "metadata": {
        "colab": {
          "base_uri": "https://localhost:8080/"
        },
        "id": "ftkcIsx53avb",
        "outputId": "1bb6e359-1c1c-4b97-f8a7-f0f5e1d30258"
      },
      "outputs": [
        {
          "name": "stdout",
          "output_type": "stream",
          "text": [
            "{1, 2, 3, 4, 5}\n"
          ]
        }
      ],
      "source": [
        "set1 = {1, 2, 3}\n",
        "set2 = {3, 4, 5}\n",
        "union_set = set1.union(set2)\n",
        "union_set"
      ]
    },
    {
      "cell_type": "markdown",
      "metadata": {
        "id": "XmzvtFYj3cCS"
      },
      "source": [
        "**Intersection**: Returns a new set containing common elements between two sets."
      ]
    },
    {
      "cell_type": "code",
      "execution_count": null,
      "metadata": {
        "colab": {
          "base_uri": "https://localhost:8080/"
        },
        "id": "0RSqTB0I3gfj",
        "outputId": "9ea9b454-262a-44df-ea5b-e9b0fc03ab3c"
      },
      "outputs": [
        {
          "data": {
            "text/plain": [
              "{3}"
            ]
          },
          "execution_count": 10,
          "metadata": {},
          "output_type": "execute_result"
        }
      ],
      "source": [
        "set1 = {1, 2, 3}\n",
        "set2 = {3, 4, 5}\n",
        "intersection_set = set1.intersection(set2)\n",
        "intersection_set"
      ]
    },
    {
      "cell_type": "markdown",
      "metadata": {
        "id": "sOD30fxT3hok"
      },
      "source": [
        "**Difference**: Returns a new set containing elements that are in the first set but not in the second set."
      ]
    },
    {
      "cell_type": "code",
      "execution_count": null,
      "metadata": {
        "colab": {
          "base_uri": "https://localhost:8080/"
        },
        "id": "0rFhm0A53n3e",
        "outputId": "ccebf8f4-30d5-4507-a581-792bebd83ce6"
      },
      "outputs": [
        {
          "data": {
            "text/plain": [
              "{1, 2}"
            ]
          },
          "execution_count": 11,
          "metadata": {},
          "output_type": "execute_result"
        }
      ],
      "source": [
        "set1 = {1, 2, 3}\n",
        "set2 = {3, 4, 5}\n",
        "difference_set = set1.difference(set2)\n",
        "difference_set"
      ]
    },
    {
      "cell_type": "markdown",
      "metadata": {
        "id": "fzMkH0UA3qBd"
      },
      "source": [
        "## Use Cases\n",
        "Sets are handy in various scenarios. Here are a few use cases:"
      ]
    },
    {
      "cell_type": "markdown",
      "metadata": {
        "id": "o9Yciucc3sVw"
      },
      "source": [
        "### Removing Duplicates\n",
        "\n",
        "If you have a list of elements with duplicates, you can convert it into a set to remove the duplicates easily."
      ]
    },
    {
      "cell_type": "code",
      "execution_count": null,
      "metadata": {
        "colab": {
          "base_uri": "https://localhost:8080/"
        },
        "id": "m53gl6M_3x-9",
        "outputId": "bcb33c72-6df0-4552-aecc-57a3fe7219cf"
      },
      "outputs": [
        {
          "data": {
            "text/plain": [
              "{1, 2, 3, 4, 5}"
            ]
          },
          "execution_count": 13,
          "metadata": {},
          "output_type": "execute_result"
        }
      ],
      "source": [
        "original_list = [1, 2, 2, 3, 4, 4, 5]\n",
        "unique_set = set(original_list)\n",
        "union_set"
      ]
    },
    {
      "cell_type": "markdown",
      "metadata": {
        "id": "fICbIVPk3zb6"
      },
      "source": [
        "### Finding Common Elements\n",
        "\n",
        "Sets can be used to find common elements between two lists."
      ]
    },
    {
      "cell_type": "code",
      "execution_count": null,
      "metadata": {
        "colab": {
          "base_uri": "https://localhost:8080/"
        },
        "id": "CqKIBUAU35oV",
        "outputId": "e25dbbe9-52d5-4720-e952-3b8fc592a1e6"
      },
      "outputs": [
        {
          "data": {
            "text/plain": [
              "{4, 5}"
            ]
          },
          "execution_count": 14,
          "metadata": {},
          "output_type": "execute_result"
        }
      ],
      "source": [
        "list1 = [1, 2, 3, 4, 5]\n",
        "list2 = [4, 5, 6, 7, 8]\n",
        "common_elements = set(list1).intersection(set(list2))\n",
        "common_elements"
      ]
    },
    {
      "cell_type": "markdown",
      "metadata": {
        "id": "p5_UOWLA37jK"
      },
      "source": [
        "## Practice on Set Operation\n",
        "1. Write a Python function that takes two sets as input and returns their union.\n",
        "1. Create a set of your favorite movies. Then, write a program that asks the user to input a movie and checks if it's in your set of favorite movies.\n",
        "1. Given two sets representing the courses you are taking this semester and the courses your friend is taking, write a program to find the courses you both have in common (intersection)."
      ]
    },
    {
      "cell_type": "code",
      "source": [
        "# Write a Python function that takes two sets as input and returns their union.\n",
        "def union_of_sets(set1, set2):\n",
        "    return set1.union(set2)\n",
        "set_a = {1, 2, 3}\n",
        "set_b = {3, 4, 5}\n",
        "print(union_of_sets(set_a, set_b))\n"
      ],
      "metadata": {
        "id": "kVSyc__OwVek",
        "colab": {
          "base_uri": "https://localhost:8080/"
        },
        "outputId": "c2ff458c-470f-4c73-f4bb-141937feb666"
      },
      "execution_count": 23,
      "outputs": [
        {
          "output_type": "stream",
          "name": "stdout",
          "text": [
            "{1, 2, 3, 4, 5}\n"
          ]
        }
      ]
    },
    {
      "cell_type": "markdown",
      "metadata": {
        "id": "BgqJqn2mWIuW"
      },
      "source": [
        "# Recursion (Optional)\n",
        "<img src = \"recursion.png\" width = \"1000\">\n",
        "\n",
        "image credit: https://craftofcoding.wordpress.com/2022/02/17/recursion-and-problem-solving/"
      ]
    },
    {
      "cell_type": "code",
      "execution_count": null,
      "metadata": {
        "colab": {
          "base_uri": "https://localhost:8080/"
        },
        "id": "Z3IiylvaQIhM",
        "outputId": "f4815f31-64fa-44da-9b3b-e420c5717ce7"
      },
      "outputs": [
        {
          "name": "stdout",
          "output_type": "stream",
          "text": [
            "3\n",
            "2\n",
            "1\n"
          ]
        }
      ],
      "source": [
        "# Countdown function: Develop a function that counts down to zero from a starting number\n",
        "\n",
        "# calling a function that calls itself is called recursion\n",
        "# every recursive function needs a 'base' case to know when to stop\n",
        "\n",
        "# what is the 'base' case here, what would happen without it?\n",
        "# the 'recursive case' is a smaller version of the problem, what is it here?\n",
        "\n",
        "def count_down(start):\n",
        "    \"\"\" Count down from a number  \"\"\"\n",
        "    print(start)\n",
        "    if start > 1:\n",
        "      count_down(start-1)\n",
        "\n",
        "count_down(3)"
      ]
    },
    {
      "cell_type": "code",
      "execution_count": null,
      "metadata": {
        "colab": {
          "base_uri": "https://localhost:8080/"
        },
        "id": "70qIBJY3RA0x",
        "outputId": "ff4d935e-6cd9-411a-f8b4-978a8adf1dc6"
      },
      "outputs": [
        {
          "name": "stdout",
          "output_type": "stream",
          "text": [
            "5050\n"
          ]
        }
      ],
      "source": [
        "# Example: calculate the sum of a sequence iteratively\n",
        "\n",
        "def sum(n):\n",
        "    total = 0\n",
        "    for index in range(n+1):\n",
        "        total += index\n",
        "    return total\n",
        "\n",
        "result = sum(100)\n",
        "print(result)"
      ]
    },
    {
      "cell_type": "markdown",
      "metadata": {
        "id": "EKVm9MEhRhtU"
      },
      "source": [
        "We can also sovle the problem recursively"
      ]
    },
    {
      "cell_type": "code",
      "execution_count": null,
      "metadata": {
        "colab": {
          "base_uri": "https://localhost:8080/"
        },
        "id": "NFZD1Mz4RkIt",
        "outputId": "27f12bf0-a142-4217-ce9a-486373d2ec7e"
      },
      "outputs": [
        {
          "name": "stdout",
          "output_type": "stream",
          "text": [
            "5050\n"
          ]
        }
      ],
      "source": [
        "# Example: calculate the sum of a sequence recursively\n",
        "# Note, we are not printing the sum but passing the answer back\n",
        "# through the recursive calls by 'building' it\n",
        "\n",
        "def sum(n):\n",
        "    if n > 0:\n",
        "        return n + sum(n-1)\n",
        "    return 0\n",
        "\n",
        "result = sum(100)\n",
        "print(result)"
      ]
    },
    {
      "cell_type": "code",
      "execution_count": null,
      "metadata": {
        "colab": {
          "base_uri": "https://localhost:8080/"
        },
        "id": "CAoYPxKfRqO3",
        "outputId": "7ba3717c-2871-4b13-da0e-d52f30830b39"
      },
      "outputs": [
        {
          "name": "stdout",
          "output_type": "stream",
          "text": [
            "5050\n",
            "True\n"
          ]
        }
      ],
      "source": [
        "# the pythonic the ternary operator(if-else in a single line), the sum() will be even more concise\n",
        "def sum(n):\n",
        "    return n + sum(n-1) if n > 0 else 0\n",
        "\n",
        "result = sum(100)\n",
        "print(result)\n",
        "\n",
        "# more on ternary operator\n",
        "num = 4\n",
        "is_even = False if num%2 else True\n",
        "print(is_even)"
      ]
    },
    {
      "cell_type": "markdown",
      "metadata": {
        "id": "uRUkZOVbYnWF"
      },
      "source": [
        "## Practice Exercise on Recursive Functions"
      ]
    },
    {
      "cell_type": "code",
      "execution_count": 40,
      "metadata": {
        "id": "TrPPF1KkYrpG",
        "outputId": "a4c1b730-e829-46ee-db1c-359b5895e3fd",
        "colab": {
          "base_uri": "https://localhost:8080/"
        }
      },
      "outputs": [
        {
          "output_type": "stream",
          "name": "stdout",
          "text": [
            "20\n"
          ]
        }
      ],
      "source": [
        "# write a recursive function to sum a list of numbers\n",
        "\n",
        "def recursive_list_sum(num_list):\n",
        "  # base case\n",
        "  if len(num_list) == 1:\n",
        "    # your code\n",
        "    return num_list[0]\n",
        "  # recursive case\n",
        "  else:\n",
        "    # your code\n",
        "    return num_list[0] + recursive_list_sum(num_list[1:])\n",
        "\n",
        "print(recursive_list_sum([1,9,5,5]))"
      ]
    },
    {
      "cell_type": "markdown",
      "metadata": {
        "id": "HZj1WAdyrd9a"
      },
      "source": [
        "# Practice 6: GCD with recursion\n",
        "Define a function named GCD to find the greatest common divisor (GCD) of two integers using recursion."
      ]
    },
    {
      "cell_type": "code",
      "execution_count": 37,
      "metadata": {
        "id": "JQYqV070rd9a",
        "outputId": "f289b425-d8ab-49d5-a621-5121722a751b",
        "colab": {
          "base_uri": "https://localhost:8080/"
        }
      },
      "outputs": [
        {
          "output_type": "stream",
          "name": "stdout",
          "text": [
            "4\n",
            "6\n"
          ]
        }
      ],
      "source": [
        "# add your code below\n",
        "def GCD(a,b):\n",
        "    if b == 0:\n",
        "        return a\n",
        "    else:\n",
        "        return GCD(b, a % b)\n",
        "\n",
        "print(GCD(12, 4))\n",
        "print(GCD(48, 18))"
      ]
    }
  ],
  "metadata": {
    "colab": {
      "provenance": []
    },
    "kernelspec": {
      "display_name": "Python 3 (ipykernel)",
      "language": "python",
      "name": "python3"
    },
    "language_info": {
      "codemirror_mode": {
        "name": "ipython",
        "version": 3
      },
      "file_extension": ".py",
      "mimetype": "text/x-python",
      "name": "python",
      "nbconvert_exporter": "python",
      "pygments_lexer": "ipython3",
      "version": "3.12.4"
    }
  },
  "nbformat": 4,
  "nbformat_minor": 0
}