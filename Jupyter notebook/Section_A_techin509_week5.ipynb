{
  "cells": [
    {
      "cell_type": "markdown",
      "metadata": {
        "id": "eK4P-oJ-ZLHD"
      },
      "source": [
        "# Arrays in Numpy\n",
        "Numpy provides high performance array implementations that is used by many data science, machine learning and visualization libraries in Python for scientific and related computing. Read more at https://numpy.org/"
      ]
    },
    {
      "cell_type": "markdown",
      "metadata": {
        "id": "6VNfeP7bwz6I"
      },
      "source": [
        "## Can you implement a matrix multiplication using Python list?"
      ]
    },
    {
      "cell_type": "code",
      "execution_count": null,
      "metadata": {
        "id": "hYgfObBmwz6I"
      },
      "outputs": [],
      "source": [
        "first_list = [[1, 2, 3],\n",
        "     [4, 5, 6],\n",
        "     [7, 8, 9]]\n",
        "second_list = [[7, 8, 9],\n",
        "     [4, 5, 6],\n",
        "     [1, 2, 3]]\n",
        "# How would you calculate summation between A and B?\n",
        "print(first_list + second_list)\n",
        "# How would you calculate multiplication between A and B?\n",
        "print(first_list * second_list)"
      ]
    },
    {
      "cell_type": "markdown",
      "metadata": {
        "id": "DUltwaFDwz6J"
      },
      "source": [
        "### Practice: Calculate the sum of A and B without using Numpy"
      ]
    },
    {
      "cell_type": "code",
      "execution_count": null,
      "metadata": {
        "id": "qPt_yymTwz6J"
      },
      "outputs": [],
      "source": [
        "# your code goes below\n",
        "\n"
      ]
    },
    {
      "cell_type": "markdown",
      "metadata": {
        "id": "mfhvCKKiwz6J"
      },
      "source": [
        "Let's check the efficiency of the addition"
      ]
    },
    {
      "cell_type": "code",
      "execution_count": null,
      "metadata": {
        "id": "DvKjXBewwz6J"
      },
      "outputs": [],
      "source": [
        "import time\n",
        "import random\n",
        "\n",
        "# randomly generate 2 lists of dimension 1000x1000\n",
        "first_list = [[random.randint(0, 100) for _ in range(1000)] for _ in range(1000)]\n",
        "second_list = [[random.randint(0, 100) for _ in range(1000)] for _ in range(1000)]\n",
        "\n",
        "# start time\n",
        "start_time = time.time()\n",
        "\n",
        "\n",
        "\n",
        "\n",
        "# end time\n",
        "end_time = time.time()\n",
        "# time elapsed during loop\n",
        "elapsed_time = end_time - start_time\n",
        "\n",
        "print(f\"Time elapsed  during loop is {elapsed_time} seconds.\")"
      ]
    },
    {
      "cell_type": "markdown",
      "metadata": {
        "id": "D934KrSlZJzF"
      },
      "source": [
        "# Week 5: Data Analysis, Processing, Wrangling and Visualization\n",
        "\n"
      ]
    },
    {
      "cell_type": "markdown",
      "metadata": {
        "id": "QJYDw4ulUh5T"
      },
      "source": [
        "- Numpy arrays for data analysis\n",
        "- Data wrangling and transformations\n",
        "- Matplotlib for visualizing data\n",
        "- Data loading into structures\n",
        "- Statistics\n",
        "\n",
        "Comprehensive material can be found here, along with many examples that could be useful for your assignment https://www.geeksforgeeks.org/data-science-tutorial/ There are many, many additional resources online for data science using Python"
      ]
    },
    {
      "cell_type": "markdown",
      "metadata": {
        "id": "RqqPZZspwz6K"
      },
      "source": [
        "### import numpy as np and np.array()\n",
        "\n",
        "`import numpy as np` is a common and almost standard usage of numpy package.\n",
        "\n",
        "This is one of the core building blocks of numpy package. `np.array()` is a function from numpy, converting an given object to a numpy array. Numpy arrays can be efficient stored and easily manipulated.\n",
        "\n",
        "It is important to use the `np.` prefix, indicating that the function is from Numpy package rather than a built-in function of Python."
      ]
    },
    {
      "cell_type": "code",
      "execution_count": null,
      "metadata": {
        "id": "myKeGIpJVERv"
      },
      "outputs": [],
      "source": [
        "# Let's try a few basic things to see how they are like and difference from lists\n",
        "\n",
        "import numpy as np\n",
        "\n",
        "np_array = np.array([1,2,3])\n",
        "print(np_array)\n",
        "print(type(np_array))\n"
      ]
    },
    {
      "cell_type": "code",
      "execution_count": null,
      "metadata": {
        "id": "DuDSWIQqwz6K"
      },
      "outputs": [],
      "source": [
        "my_list = [1,2,3]\n",
        "\n",
        "print(np_array[0],my_list[0])\n",
        "print(np_array[1:],my_list[1:])\n",
        "\n",
        "my_list[2] = 'not an int'\n",
        "print(my_list)\n",
        "\n",
        "try:\n",
        "   np_array[2] = 'not an int'\n",
        "except ValueError as err:\n",
        "   print('ValueError', err)"
      ]
    },
    {
      "cell_type": "markdown",
      "metadata": {
        "id": "s6fC7F_Gwz6L"
      },
      "source": [
        "### Key Takeaways:\n",
        "- Indexing that we learned for list remains applicable to numpy arrays\n",
        "- Numpy arrays can only store homogeneous data types in there.\n"
      ]
    },
    {
      "cell_type": "code",
      "execution_count": null,
      "metadata": {
        "id": "jQzcK73Gfepg"
      },
      "outputs": [],
      "source": [
        "# creates nparray with integers\n",
        "nparray = np.array([1, 2, 3])\n",
        "print(nparray)\n",
        "\n",
        "# forces the data to be type consistent\n",
        "nparray[0] = 1.3\n",
        "nparray[1] = 2.6\n",
        "print(nparray)\n",
        "\n",
        "# create nparray but forced to be float\n",
        "nparray = np.array([1.0, 2, 3])\n",
        "print(nparray)\n",
        "\n",
        "nparray[1] = 1.5\n",
        "print(nparray)"
      ]
    },
    {
      "cell_type": "markdown",
      "metadata": {
        "id": "ZRpw8oOlwz6L"
      },
      "source": [
        "# Data Wrangling and Transformations"
      ]
    },
    {
      "cell_type": "code",
      "execution_count": null,
      "metadata": {
        "id": "139IwPxqwz6L"
      },
      "outputs": [],
      "source": [
        "# Vectorized operations are useful to apply the same operation to each element\n",
        "# in a numpy array\n",
        "\n",
        "# apply an operator to all elements in an array\n",
        "print(np.array([1, 2, 3]) * 10)\n",
        "\n",
        "print(np.array([1, 2, 3]) + np.array([2, 3, 4]))\n",
        "\n",
        "# perform element-wise array operations\n",
        "print(np.array([1, 2, 3]) * np.array([2, 4, 6]))\n",
        "\n",
        "print(np.array([2, 4, 6]) / np.array([1, 2, 3]))"
      ]
    },
    {
      "cell_type": "markdown",
      "metadata": {
        "id": "e_nnVKx0wz6L"
      },
      "source": [
        "Let's check the efficiency for array summation using numpy."
      ]
    },
    {
      "cell_type": "code",
      "execution_count": null,
      "metadata": {
        "id": "RAOVLGTJwz6L"
      },
      "outputs": [],
      "source": [
        "first_array = np.array(first_list)\n",
        "second_array = np.array(second_list)\n",
        "\n",
        "# start time\n",
        "start_time = time.time()\n",
        "\n",
        "# using numpy for summation\n",
        "sum_array = first_array + second_array\n",
        "\n",
        "# end time\n",
        "end_time = time.time()\n",
        "# time elapsed during loop\n",
        "elapsed_time = end_time - start_time\n",
        "\n",
        "print(f\"Time elapsed  during loop is {elapsed_time} seconds.\")"
      ]
    },
    {
      "cell_type": "markdown",
      "metadata": {
        "id": "0dbd3trxwz6L"
      },
      "source": [
        "# Reference vs Copy\n",
        "Instruction `arr_2 = arr_1` creates a **reference** to `arr_1`. These two arrays share the memory allocation. Any changes made to one variable will be reflected in the other. This is efficient when you want different names pointing to the same data without using extra memory.\n",
        "\n",
        "If you would like to operate on one array **without** changing another, you need to create a **copy** to the original array, e.g., `arr_2 = arr_1.copy()`. The original array and its copy do not share the memory allocation."
      ]
    },
    {
      "cell_type": "code",
      "execution_count": null,
      "metadata": {
        "id": "v6inkIx6wz6L"
      },
      "outputs": [],
      "source": [
        "arr_1 = np.array([1, 2, 3])\n",
        "arr_2 = arr_1  # create a reference to arr_1\n",
        "\n",
        "arr_2[1] = 99\n",
        "print(\"arr_1:\", arr_1)\n",
        "print(\"arr_2:\", arr_2)"
      ]
    },
    {
      "cell_type": "code",
      "execution_count": null,
      "metadata": {
        "id": "ipcjUhs2wz6L"
      },
      "outputs": [],
      "source": [
        "arr_1 = np.array([1, 2, 3])\n",
        "arr_2 = arr_1.copy()  # create a copy of arr_1\n",
        "\n",
        "arr_2[1] = 99\n",
        "print(\"arr_1:\", arr_1)\n",
        "print(\"arr_2:\", arr_2)"
      ]
    },
    {
      "cell_type": "markdown",
      "metadata": {
        "id": "2_uvdj8CZLe3"
      },
      "source": [
        "## Array element types and creation functions"
      ]
    },
    {
      "cell_type": "code",
      "execution_count": null,
      "metadata": {
        "id": "-HrFbFGcfdZI"
      },
      "outputs": [],
      "source": [
        "# numpy has built in functions for common data analysis operations\n",
        "my_numpy = np.ones(5, dtype=int)\n",
        "print(my_numpy)\n",
        "\n",
        "my_numpy = np.ones(5, dtype=float)\n",
        "print(my_numpy)\n",
        "\n",
        "print(np.zeros(10, dtype=int))"
      ]
    },
    {
      "cell_type": "markdown",
      "metadata": {
        "id": "bb_QWSLTZLnG"
      },
      "source": [
        "## Multi-dimensional arrays"
      ]
    },
    {
      "cell_type": "code",
      "execution_count": null,
      "metadata": {
        "id": "p2MOkQ_sZx8W"
      },
      "outputs": [],
      "source": [
        "# 2d array\n",
        "print(np.ones((3, 3)))\n",
        "\n",
        "# 3d array\n",
        "print(np.zeros((2, 2, 2), dtype=int))\n",
        "\n",
        "# 5d array\n",
        "print(np.ones((2, 2, 2, 2, 2), dtype=int))\n",
        "\n",
        "print([[1, 2], [1, 2, 3]])\n",
        "\n",
        "print(np.array([[1, 2, 3], [1, 2, 3]], dtype=np.int32))\n",
        "\n",
        "# numpy arrays must have same dimensions\n",
        "try:\n",
        "  print(np.array([[1, 2], [1, 2, 3]], dtype=np.int32))\n",
        "except ValueError as err:\n",
        "  print(err)"
      ]
    },
    {
      "cell_type": "markdown",
      "metadata": {
        "id": "UTWgkPiMZLtb"
      },
      "source": [
        "## Practice 1: Find out what these creation functions do. Write the description in the comments below"
      ]
    },
    {
      "cell_type": "code",
      "execution_count": null,
      "metadata": {
        "id": "gvrbl6riZyYY"
      },
      "outputs": [],
      "source": [
        "# describe the function here\n",
        "print(np.linspace(0, 5, 11))"
      ]
    },
    {
      "cell_type": "code",
      "execution_count": null,
      "metadata": {
        "id": "fqY78JVWwz6M"
      },
      "outputs": [],
      "source": [
        "# describe the function here\n",
        "np.arange(0, 11, 2)"
      ]
    },
    {
      "cell_type": "code",
      "execution_count": null,
      "metadata": {
        "id": "H4fuwsZ9gVw7"
      },
      "outputs": [],
      "source": [
        "# describe the function here\n",
        "np.tile([2, 1, 0], 3)"
      ]
    },
    {
      "cell_type": "code",
      "execution_count": null,
      "metadata": {
        "id": "7wrloy_igcG-"
      },
      "outputs": [],
      "source": [
        "# describe the function here\n",
        "np.identity(4)"
      ]
    },
    {
      "cell_type": "code",
      "execution_count": null,
      "metadata": {
        "id": "7_7jX0jWBKGx",
        "scrolled": true
      },
      "outputs": [],
      "source": [
        "# describe the function here\n",
        "np.random.uniform(23, 24, size = 10)"
      ]
    },
    {
      "cell_type": "markdown",
      "metadata": {
        "id": "0PfS9SrTwz6M"
      },
      "source": [
        "# Practice 2\n",
        "Using comments to describe the code below"
      ]
    },
    {
      "cell_type": "code",
      "execution_count": null,
      "metadata": {
        "id": "FD9LBfOGwz6M"
      },
      "outputs": [],
      "source": [
        "# add your comment below\n",
        "a = np.arange(6).reshape((3,2))\n",
        "print(a)\n",
        "print(np.transpose(a))"
      ]
    },
    {
      "cell_type": "code",
      "execution_count": null,
      "metadata": {
        "id": "eLr9aMnSwz6M"
      },
      "outputs": [],
      "source": [
        "size = np.shape(a)\n",
        "print(size)\n",
        "\n",
        "row = a[0,:]\n",
        "print(row)\n",
        "\n",
        "col = a[:,0]\n",
        "print(col)"
      ]
    },
    {
      "cell_type": "code",
      "execution_count": null,
      "metadata": {
        "id": "oLgyZhL7wz6M"
      },
      "outputs": [],
      "source": [
        "b = np.arange(6).reshape((3,2))\n",
        "print(a + b)\n",
        "print(a * b)\n",
        "print(a @ b.T)\n",
        "print(np.matmul(a, b.T))"
      ]
    },
    {
      "cell_type": "markdown",
      "metadata": {
        "id": "n_NYNi_Bwz6M"
      },
      "source": [
        "# Practice 3\n",
        "Write a function to print out all the row and column indices in a matrix, along with the element associated with each index"
      ]
    },
    {
      "cell_type": "code",
      "execution_count": null,
      "metadata": {
        "id": "k4jHOPR6wz6M"
      },
      "outputs": [],
      "source": [
        "# complete the function below\n",
        "# a is a numpy array\n",
        "\n",
        "def print_matrix(a):\n",
        "\n",
        "    print('row:', row, 'col:',col, 'element of a:', a[row,col])\n",
        "\n",
        "print_matrix(a)"
      ]
    },
    {
      "cell_type": "markdown",
      "metadata": {
        "id": "iZOa43rNwz6M"
      },
      "source": [
        "## Practice: Game Theory (credit: PracticeProbs)\n",
        "You’re faced with four doors [?] [?] [?] [?], indexed as 0, 1, 2, and 3.\n",
        "- Behind one door is prize money.\n",
        "- Behind the other three doors are tigers.\n",
        "\n",
        "If you pick the door with money, you get the option to play again at the risk of losing the money you’ve collected thus far. If you keep winning, you can play a maximum of three rounds.\n",
        "\n",
        "You collected some historic recordings of the show and log data on where prizes were located and the value of each prize, organized as follows:\n",
        "\n",
        "- `prize_doors`: Here, element $(i, j)$ identifies the door hiding the prize in the $i$-th game of round $j$\n",
        "\n",
        "- `prizes`: Here $(i, j)$ gives the prize amount in the $i$-th game of round $j$\n",
        "\n",
        "Can you re-organize the data by building a 5x3x4 matrix where $(i,j,k)$ represents the prize behind door $k$ of round $j$ of game $i$?"
      ]
    },
    {
      "cell_type": "code",
      "execution_count": null,
      "metadata": {
        "id": "dPXz2auIwz6N"
      },
      "outputs": [],
      "source": [
        "prize_doors = np.array([\n",
        "    [1, 0, 2],\n",
        "    [0, 0, 1],\n",
        "    [3, 3, 1],\n",
        "    [1, 2, 0],\n",
        "    [2, 1, 1]\n",
        "])\n",
        "\n",
        "prizes = np.array([\n",
        "    [100, 150, 500],\n",
        "    [200, 300, 250],\n",
        "    [150, 100, 325],\n",
        "    [425, 200, 100],\n",
        "    [200, 250, 300]\n",
        "])\n",
        "\n",
        "# your code goes below"
      ]
    },
    {
      "cell_type": "markdown",
      "metadata": {
        "id": "NvTNtKsrwz6R"
      },
      "source": [
        "# Use Python for Signal Generation, e.g., music"
      ]
    },
    {
      "cell_type": "markdown",
      "metadata": {
        "id": "eBPOX9eNwz6R"
      },
      "source": [
        "### Practice\n",
        "In Sensors & Circuits, we have used triangle waves from the signal generator. In this practice, use Python to generate a discrete triangular wave with frequency 0.5Hz, low level voltage 0V, high level voltage 1V, and sampling frequency 10Hz. You only need to generate the waveform for two periods.\n",
        "\n",
        "You can use `np.concatenate((a, b))` to concatenate two arrays.\n",
        "\n",
        "You should expect the following output.\n",
        "\n",
        "<img src=\"triangle_wave.png\" width=\"1000\">"
      ]
    },
    {
      "cell_type": "code",
      "execution_count": null,
      "metadata": {
        "id": "I981kFz6wz6R"
      },
      "outputs": [],
      "source": [
        "# your code goes below\n",
        "\n",
        "time_steps = np.linspace(0, 3.9, 40)\n",
        "\n",
        "voltage =\n",
        "\n",
        "# use the code below to visualize your waveform\n",
        "\n",
        "import matplotlib.pyplot as plt\n",
        "\n",
        "plt.figure(figsize = (15, 2))\n",
        "_ = plt.stem(time_steps, voltage)\n",
        "_ = plt.plot(time_steps, voltage)\n",
        "_ = plt.xlabel('Time', fontsize = 25)\n",
        "_ = plt.ylabel('Voltage', fontsize = 25)\n",
        "\n"
      ]
    },
    {
      "cell_type": "markdown",
      "metadata": {
        "id": "ceXsL-8ywz6R"
      },
      "source": [
        "### Practice\n",
        "Define a function named `generate_sine` to generate a sine wave of a user specified frequency and duration.\n",
        "- The function takes the total time duration, frequency of sine wave, and sampling frequency as inputs\n",
        "- The function outputs a sine wave"
      ]
    },
    {
      "cell_type": "code",
      "execution_count": null,
      "metadata": {
        "id": "MDGtonzIwz6R"
      },
      "outputs": [],
      "source": [
        "def generate_sine(t_duration, f0, fs):\n",
        "\n",
        "\n",
        "\n",
        "    # Return 1D numpy array of the sine waveform amplitudes\n",
        "    return"
      ]
    },
    {
      "cell_type": "code",
      "execution_count": null,
      "metadata": {
        "id": "UDGtMFkHwz6R"
      },
      "outputs": [],
      "source": [
        "fs = 8000\n",
        "\n",
        "Note_A = generate_sine(0.5, 220, fs)\n",
        "Note_B = generate_sine(0.5, 220 * 2**(2/12), fs)\n",
        "Note_Cs = generate_sine(0.5, 220 * 2**(4/12), fs)\n",
        "Note_D = generate_sine(0.5, 220 * 2**(5/12), fs)\n",
        "Note_E = generate_sine(0.5, 220 * 2**(7/12), fs)\n",
        "Note_Fs = generate_sine(0.5, 220 * 2**(9/12), fs)\n",
        "Note_Gs = generate_sine(0.5, 220 * 2**(11/12), fs)\n",
        "Note_A_high = generate_sine(0.5, 440, 8000)"
      ]
    },
    {
      "cell_type": "code",
      "execution_count": null,
      "metadata": {
        "id": "u_re_7bWwz6R"
      },
      "outputs": [],
      "source": [
        "!pip install sounddevice\n",
        "import sounddevice as sd\n",
        "\n",
        "def play_sound(note):\n",
        "    sd.play(note, fs)\n",
        "    sd.wait()  # Wait until the sound has finished playing\n",
        "\n",
        "play_sound(Note_A)\n",
        "play_sound(Note_B)\n",
        "play_sound(Note_Cs)\n",
        "play_sound(Note_D)\n",
        "play_sound(Note_E)\n",
        "play_sound(Note_Fs)\n",
        "play_sound(Note_Gs)\n",
        "play_sound(Note_A_high)"
      ]
    },
    {
      "cell_type": "markdown",
      "metadata": {
        "id": "7IqBhcZ1wz6R"
      },
      "source": [
        "# Practice 2\n",
        "Look up numpy.concatenate(), and see whether you can combine all the nodes together to play the following A-major scale\n",
        "\n",
        "<img src=\"scale.png\" width=\"600\">"
      ]
    },
    {
      "cell_type": "code",
      "execution_count": null,
      "metadata": {
        "id": "USQtV-g6wz6R"
      },
      "outputs": [],
      "source": [
        "# your code here\n",
        "A_major_scale =\n",
        "play_sound(A_major_scale)"
      ]
    },
    {
      "cell_type": "markdown",
      "metadata": {
        "id": "fJYV1U0Uwz6R"
      },
      "source": [
        "# Combining arrays to play chords\n",
        "When certain music nodes play together, they form chords.\n",
        "- chord 1: A + C#\n",
        "- chord 2: B + D\n",
        "- chord 3: C# + E\n",
        "- chord 4: D + F#\n",
        "- chord 5: E + G#\n",
        "\n",
        "Generate these chords using the nodes generated before. Then concatenate the chords and play the sound."
      ]
    },
    {
      "cell_type": "code",
      "execution_count": null,
      "metadata": {
        "id": "ymRs8s0Iwz6R"
      },
      "outputs": [],
      "source": [
        "chord_1 = Note_A + Note_Cs\n",
        "chord_2 = Note_B + Note_D\n",
        "chord_3 = Note_Cs + Note_E\n",
        "chord_4 = Note_D + Note_Fs\n",
        "chord_5 = Note_E + Note_Gs\n",
        "concatenated_chord = np.concatenate([chord_1, chord_3, chord_2, chord_4, chord_5])\n",
        "play_sound(concatenated_chord)"
      ]
    },
    {
      "cell_type": "markdown",
      "metadata": {
        "id": "L1N4IXSpwz6R"
      },
      "source": [
        "# Load and display an image"
      ]
    },
    {
      "cell_type": "code",
      "execution_count": null,
      "metadata": {
        "id": "ZrMiJ5_8wz6R"
      },
      "outputs": [],
      "source": [
        "# import necessary packages\n",
        "import matplotlib.pyplot as plt\n",
        "from PIL import Image"
      ]
    },
    {
      "cell_type": "code",
      "execution_count": null,
      "metadata": {
        "id": "K6E7_BJ0wz6S"
      },
      "outputs": [],
      "source": [
        "img_gray = Image.open('lenna.jpeg').convert('L')    # Uses standard 8-bit color code (integer)\n",
        "img_gray = np.array(img_gray)                    # Convert to numpy array\n",
        "\n",
        "fig = plt.figure(figsize=(5, 5))\n",
        "\n",
        "plt.imshow(img_gray, cmap = 'gray', vmin = 0, vmax = 255)\n",
        "\n",
        "img_gray = np.array(img_gray) # convert image to numpy array"
      ]
    },
    {
      "cell_type": "code",
      "execution_count": null,
      "metadata": {
        "id": "LqJx3akjwz6S"
      },
      "outputs": [],
      "source": [
        "type(img_gray)"
      ]
    },
    {
      "cell_type": "code",
      "execution_count": null,
      "metadata": {
        "id": "PV4U-3f7wz6S"
      },
      "outputs": [],
      "source": [
        "print(img_gray.shape)"
      ]
    },
    {
      "cell_type": "markdown",
      "metadata": {
        "id": "ss-SfFffwz6S"
      },
      "source": [
        "# Data transformation using Boolean mask\n",
        "Numpy allows element-wise comparison. `my_array <= 2` creates a Boolean mask (array) of the same dimension as array `my_array`. The $i$-th entry of Boolean mask is True if `my_array[i] <= 2`, and False otherwise."
      ]
    },
    {
      "cell_type": "code",
      "execution_count": null,
      "metadata": {
        "id": "WR34eekLwz6S"
      },
      "outputs": [],
      "source": [
        "my_array = np.array([1, 2, 3, 4])\n",
        "bool_mask = my_array <= 2\n",
        "print(bool_mask)\n",
        "print(my_array[bool_mask])"
      ]
    },
    {
      "cell_type": "markdown",
      "metadata": {
        "id": "OvnI96X9wz6S"
      },
      "source": [
        "Boolean mask can be applied to higher dimensional arrays."
      ]
    },
    {
      "cell_type": "code",
      "execution_count": null,
      "metadata": {
        "id": "N3U3xs91wz6S"
      },
      "outputs": [],
      "source": [
        "img_gray_copy = img_gray.copy() # duplicate the image to avoid manipulating the original image\n",
        "\n",
        "img_gray_copy[img_gray_copy < 80] = 0 # manipulate the pixel intensity of those less than 80 to 0\n",
        "\n",
        "fig = plt.figure(figsize=(5, 5))\n",
        "plt.imshow(img_gray_copy, cmap = 'gray', vmin = 0, vmax = 255) # display image"
      ]
    },
    {
      "cell_type": "markdown",
      "metadata": {
        "id": "by9r-A_owz6S"
      },
      "source": [
        "### Practice: Crop margin\n",
        "Define a function that takes a gray scale image and four integers as input, and outputs a cropped image.\n",
        "- The first input integer defines the number of rows we need to cut on the top margin of the image.\n",
        "- The second input integer defines the number of rows we need to cut on the bottom margin of the image.\n",
        "- The third input integer defines the number of columns we need to cut on the left margin of the image.\n",
        "- The fourth input integer defines the number of columns we need to cut on the right margin of the image."
      ]
    },
    {
      "cell_type": "code",
      "execution_count": null,
      "metadata": {
        "id": "Od2I3-TRwz6S"
      },
      "outputs": [],
      "source": [
        "def crop_image(img, top, bottom, left, right):\n",
        "\n",
        "\n",
        "cropped_img = crop_image(img_gray, 50, 50, 50, 50)\n",
        "\n",
        "fig = plt.figure(figsize=(5, 5))\n",
        "plt.imshow(cropped_img, cmap = 'gray')"
      ]
    },
    {
      "cell_type": "markdown",
      "metadata": {
        "id": "GHHAEqmxwz6S"
      },
      "source": [
        "### Practice: Downsampling via slicing\n",
        "Define a function that takes a gray scale image and an integer `dr` as input, and outputs a downsampled image.\n",
        "The function should discard the pixels every dr rows and columns, and maintain the rest of the pixels."
      ]
    },
    {
      "cell_type": "code",
      "execution_count": null,
      "metadata": {
        "id": "0VqG09lywz6S"
      },
      "outputs": [],
      "source": [
        "# your code here\n",
        "def downsample_image(img, dr):\n",
        "\n",
        "\n",
        "downsampled_img = downsample_image(img_gray, 20)\n",
        "\n",
        "fig = plt.figure(figsize=(5, 5))\n",
        "plt.imshow(downsampled_img, cmap = 'gray')"
      ]
    },
    {
      "cell_type": "markdown",
      "metadata": {
        "id": "Mem7cY3UZo3o"
      },
      "source": [
        "# Statistics"
      ]
    },
    {
      "cell_type": "code",
      "execution_count": null,
      "metadata": {
        "id": "USUOqRHWZnDk"
      },
      "outputs": [],
      "source": [
        "# numpy has lots of statistical functions, let's create some data\n",
        "\n",
        "data = np.array(np.random.uniform(size=100))\n",
        "\n",
        "print(np.mean(data))\n",
        "\n",
        "print(np.median(data))\n",
        "\n",
        "print(np.min(data))\n",
        "\n",
        "print(np.std(data))\n",
        "\n",
        "print(np.var(data))\n",
        "\n",
        "print(np.max(data))\n",
        "\n",
        "print(np.ptp(data))"
      ]
    },
    {
      "cell_type": "code",
      "execution_count": null,
      "metadata": {
        "id": "A5F0TKfgwz6S"
      },
      "outputs": [],
      "source": [
        "# Summarization and aggregation functions provide additional transfomrations\n",
        "\n",
        "# functions for arrays\n",
        "x = np.array([[2,4,8], [7,6,5], [3,3,3]])\n",
        "print(x.max())\n",
        "\n",
        "# arrays have axis, max of the elements in axis=0 'columns'\n",
        "print(x.max(axis=0))\n",
        "\n",
        "# arrays have axis, max of the elements in axis=1 'rows'\n",
        "print(x.max(axis=1))"
      ]
    },
    {
      "cell_type": "markdown",
      "metadata": {
        "id": "cdA5KRP_UW7D"
      },
      "source": [
        "## Practice: Numpy descriptive statistics\n"
      ]
    },
    {
      "cell_type": "code",
      "execution_count": null,
      "metadata": {
        "id": "tas8qn1HUh-h"
      },
      "outputs": [],
      "source": [
        "# write a function that prints the min, max, mean, standard deviation\n",
        "# of a list of numbers using numpy functions, generate a few random lists\n",
        "# or upload from a file to check your function\n",
        "data = []\n",
        "\n",
        "def describe(data_array):\n",
        "  pass\n",
        "\n",
        "describe(data)"
      ]
    },
    {
      "cell_type": "markdown",
      "metadata": {
        "id": "_6H8yBrlZLya"
      },
      "source": [
        "# Visualizating Data with Matplotlib"
      ]
    },
    {
      "cell_type": "code",
      "execution_count": null,
      "metadata": {
        "id": "ODUvFr7GZy1N"
      },
      "outputs": [],
      "source": [
        "a = np.tile([2,1,0],3)\n",
        "plt.plot(a)"
      ]
    },
    {
      "cell_type": "code",
      "execution_count": null,
      "metadata": {
        "id": "MX2WDcWkgx71"
      },
      "outputs": [],
      "source": [
        "def f(x):\n",
        "  return x ** 2\n",
        "\n",
        "plt.plot(np.fromfunction(f, [10]))"
      ]
    },
    {
      "cell_type": "code",
      "execution_count": null,
      "metadata": {
        "id": "HuVv7ueXyy7K"
      },
      "outputs": [],
      "source": [
        "plt.hist([0,0,2,1,3,4,5,2,5,8,6,4,6,2,3,4,6,4,4,3,2,3,2],bins=10)"
      ]
    },
    {
      "cell_type": "markdown",
      "metadata": {
        "id": "xvCAxCAWzMNU"
      },
      "source": [
        "## Practice: matplotlib"
      ]
    },
    {
      "cell_type": "code",
      "execution_count": null,
      "metadata": {
        "id": "HHHKwZ0ZBeXb"
      },
      "outputs": [],
      "source": [
        "# create the following objects to generate a line plot of numbers between\n",
        "# 5 and 10, one for each month of the year, with xtics set as Month name:\n",
        "# 1. months: np.array of month numbers 1 to 12\n",
        "# 2. names: list of month names, use comprehension and calendar library calendar.month_name[int]\n",
        "# 3. numbers: np.array of uniform random number between 5 and 10 (use uniform function)\n",
        "# plot line using pyplot.plot, add xticks as month names, rotated 90 degrees\n",
        "import calendar\n",
        "\n",
        "\n",
        "months =  #your code\n",
        "names =  #your code\n",
        "numbers = #your code\n",
        "\n",
        "#plt.xticks(#your code)\n",
        "plt.plot(months,numbers)\n",
        "\n",
        "plt.show()"
      ]
    },
    {
      "cell_type": "markdown",
      "metadata": {
        "id": "hG02skuxJbu9"
      },
      "source": [
        "### Plot should look like the following (with different data of course):\n",
        "\n",
        "![image.png](data:image/png;base64,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)"
      ]
    },
    {
      "cell_type": "markdown",
      "metadata": {
        "id": "E6IG1IYL2aSj"
      },
      "source": [
        "## Practice: Cool plot personalization"
      ]
    },
    {
      "cell_type": "markdown",
      "metadata": {
        "id": "IY-lgcFY2d0u"
      },
      "source": [
        "1.   Visit https://www.machinelearningplus.com/plots/top-50-matplotlib-visualizations-the-master-plots-python/\n",
        "1.   Find a plot you like, copy code and create below\n",
        "1.   Make at least modification to your plot, post the image to the Discussion post thread and describe your change\n",
        "\n"
      ]
    },
    {
      "cell_type": "markdown",
      "metadata": {
        "id": "CVlY2q6Nwz6T"
      },
      "source": [
        "# Subplot demo"
      ]
    },
    {
      "cell_type": "code",
      "execution_count": null,
      "metadata": {
        "id": "_2RAt2fwwz6T"
      },
      "outputs": [],
      "source": [
        "t_arr = np.arange(0, 5.01, 0.01)\n",
        "sine_1 = np.sin(2*np.pi*t_arr)\n",
        "sine_2 = np.sin(2*np.pi*2*t_arr)\n",
        "sine_3 = np.sin(2*np.pi*3*t_arr)\n",
        "\n",
        "plt.figure(figsize = (10, 6))\n",
        "\n",
        "plt.subplot(311)\n",
        "plt.plot(t_arr, sine_1)\n",
        "plt.title('Sine Wave 1', fontsize = 15)\n",
        "plt.xlabel('Time', fontsize = 13)\n",
        "\n",
        "plt.subplot(312)\n",
        "plt.plot(t_arr, sine_2)\n",
        "plt.title('Sine Wave 2', fontsize = 15)\n",
        "plt.xlabel('Time', fontsize = 13)\n",
        "\n",
        "plt.subplot(313)\n",
        "plt.plot(t_arr, sine_3)\n",
        "plt.title('Sine Wave 3', fontsize = 15)\n",
        "plt.xlabel('Time', fontsize = 13)\n",
        "\n",
        "plt.tight_layout()"
      ]
    },
    {
      "cell_type": "markdown",
      "metadata": {
        "id": "HSWq9V0wZMEL"
      },
      "source": [
        "# Loading and saving data from files"
      ]
    },
    {
      "cell_type": "code",
      "execution_count": null,
      "metadata": {
        "id": "RC_ZIDWwZ0lR"
      },
      "outputs": [],
      "source": [
        "\n",
        "# numpy has easy file saving and loading\n",
        "data = np.array([[1,2,3],[4,5,6],[7,8,9]])\n",
        "print(data)\n",
        "np.savetxt('data.txt', data)\n",
        "\n",
        "# change data by transposing it\n",
        "data = data.transpose()\n",
        "print(data)\n",
        "\n",
        "#now load it back\n",
        "data = np.loadtxt('data.txt')\n",
        "print(data)"
      ]
    },
    {
      "cell_type": "code",
      "execution_count": null,
      "metadata": {
        "id": "3SqlK8fzNuq8"
      },
      "outputs": [],
      "source": [
        "# you can writing to a log file or use the logging library\n",
        "\n",
        "import logging\n",
        "\n",
        "logging.basicConfig(filename=\"logs.log\",\n",
        "\t\t\t\t\tformat='%(asctime)s %(message)s',\n",
        "\t\t\t\t\tfilemode='a',\n",
        "          force=True)\n",
        "\n",
        "logger=logging.getLogger()\n",
        "logger.setLevel(logging.INFO)\n",
        "logger.info(\"Hello\")\n",
        "logger.info(\"World\")"
      ]
    },
    {
      "cell_type": "markdown",
      "metadata": {
        "id": "8Wy-3JaENG6z"
      },
      "source": [
        "## Practice: Writing Log files\n"
      ]
    },
    {
      "cell_type": "code",
      "execution_count": null,
      "metadata": {
        "id": "-SDvg94GNGZu"
      },
      "outputs": [],
      "source": [
        "# Using a for loop, write the 100 log messages to a file, capturing\n",
        "# the current time when the message is written. You can use either\n",
        "# standard file writing or a logging method\n",
        "\n",
        "for x in range(100):\n",
        "  # write time, x to the file\n",
        "  pass"
      ]
    },
    {
      "cell_type": "markdown",
      "metadata": {
        "id": "wwA8Kpns1LCY"
      },
      "source": [
        "## Practice: Putting things together"
      ]
    },
    {
      "cell_type": "code",
      "execution_count": null,
      "metadata": {
        "id": "mD-R0dWxZ0JR"
      },
      "outputs": [],
      "source": [
        "# Write comments to describe what each line is doing to create this\n",
        "# Parametric plot\n",
        "\n",
        "# describe\n",
        "t = np.linspace(-4 * np.pi, 4*np.pi, 100)\n",
        "\n",
        "# describe\n",
        "x = t * np.sin(t)\n",
        "y = t * np.cos(t)\n",
        "\n",
        "plt.plot(x,y)\n",
        "plt.show()"
      ]
    },
    {
      "cell_type": "markdown",
      "metadata": {
        "id": "sbAhrhK1VHwv"
      },
      "source": [
        "# Practice: Plot some interesting data"
      ]
    },
    {
      "cell_type": "markdown",
      "metadata": {
        "id": "eZTy9SWz3qWi"
      },
      "source": [
        "1. Find some data online and make the best plot you can.\n",
        "1. Consider keeping it simple with a line plot, but add labels on axis, tics and series.\n",
        "1. Consider color, read the pyplot documentation.\n",
        "1. Have fun with it\n",
        "1. Consider https://www.kaggle.com/datasets"
      ]
    },
    {
      "cell_type": "code",
      "execution_count": null,
      "metadata": {
        "id": "0zQ3iLy_VQTq"
      },
      "outputs": [],
      "source": [
        "# your code"
      ]
    },
    {
      "cell_type": "markdown",
      "metadata": {
        "id": "nREZ3JlFQVtp"
      },
      "source": [
        "# Appendix: Timezone considerations"
      ]
    },
    {
      "cell_type": "code",
      "execution_count": null,
      "metadata": {
        "id": "5cmxYPKMZ1Az"
      },
      "outputs": [],
      "source": [
        "# datetime\n",
        "# strptime, strftime\n",
        "import datetime\n",
        "\n",
        "# Python datetime object from string\n",
        "dt = datetime.datetime.strptime(\"2022-02-01 12:31:29\", \"%Y-%m-%d %H:%M:%S\")\n",
        "print(dt)\n",
        "\n",
        "# datetime arithmatic\n",
        "delta_one_day = datetime.timedelta(days=1)\n",
        "print(delta_one_day)\n",
        "\n",
        "# Yesterday\n",
        "print(dt - delta_one_day)\n",
        "\n",
        "# Unix timestamp\n",
        "print(dt.timestamp())\n",
        "\n",
        "# Watch out for timezone! default python datetime objects are naive datetime\n",
        "# object, there is no timezone information associated with it. When working\n",
        "# with unix timestamp and datetime objects, system time zone information is\n",
        "# assumed.\n",
        "\n",
        "# colab uses UTC as system timezone.\n",
        "dt = datetime.datetime(year=2023, month=9, day=26)\n",
        "print(dt)\n",
        "\n",
        "print(dt.timestamp())\n",
        "\n",
        "# New in version 3.9.\n",
        "# https://docs.python.org/3/library/zoneinfo.html#module-zoneinfo\n",
        "from zoneinfo import ZoneInfo\n",
        "\n",
        "dt = datetime.datetime(2023, 12, 26, tzinfo=ZoneInfo(\"America/Los_Angeles\"))\n",
        "print(dt)\n",
        "\n",
        "print(dt.timestamp())\n",
        "\n",
        "print(dt.strftime(\"%Y/%m/%d %H:%M:%S\"))"
      ]
    }
  ],
  "metadata": {
    "colab": {
      "provenance": []
    },
    "kernelspec": {
      "display_name": "base",
      "language": "python",
      "name": "python3"
    },
    "language_info": {
      "codemirror_mode": {
        "name": "ipython",
        "version": 3
      },
      "file_extension": ".py",
      "mimetype": "text/x-python",
      "name": "python",
      "nbconvert_exporter": "python",
      "pygments_lexer": "ipython3",
      "version": "3.12.4"
    }
  },
  "nbformat": 4,
  "nbformat_minor": 0
}