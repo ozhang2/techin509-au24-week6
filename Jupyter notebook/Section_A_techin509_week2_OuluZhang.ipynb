{
  "cells": [
    {
      "cell_type": "code",
      "execution_count": null,
      "metadata": {
        "id": "aIKKXb7_ijFR",
        "colab": {
          "base_uri": "https://localhost:8080/"
        },
        "outputId": "78425d7a-afb1-4fa4-b959-3f2bdd79b950"
      },
      "outputs": [
        {
          "output_type": "stream",
          "name": "stdout",
          "text": [
            "https://colab.research.google.com\n"
          ]
        }
      ],
      "source": [
        "print(\"https://colab.research.google.com\")"
      ]
    },
    {
      "cell_type": "markdown",
      "metadata": {
        "id": "6nExSpyF9ZLI"
      },
      "source": [
        "Before we write any code, let's learn how to write comments\n",
        "\n",
        "comments are a way to include explanatory or descriptive text within your code that is ignored by the Python interpreter when your code is run. Comments are used to provide information to developers (including yourself) about how the code works, what it does, or any other relevant details. They are not executed as part of the program and do not affect its functionality."
      ]
    },
    {
      "cell_type": "code",
      "execution_count": null,
      "metadata": {
        "id": "OyQziny0953n"
      },
      "outputs": [],
      "source": [
        "# this is a comment\n",
        "# sharp/pound sign (#) indicates a comment\n",
        "# You can quickly toggle comments with hotkey cmd+/"
      ]
    },
    {
      "cell_type": "markdown",
      "metadata": {
        "id": "iyh03kzSm2ZX"
      },
      "source": [
        "# This is a Markdown cell\n",
        "## This is heading level 2\n",
        "\n",
        "# What we will cover in Week 2\n",
        "- Number\n",
        "- Vriables\n",
        "- String\n",
        "- Print-formatting\n",
        "- File I/O\n",
        "\n",
        "1. this is a number list\n",
        "1. this is a number list\n",
        "1. this is a number list\n",
        "1. this is a number list\n"
      ]
    },
    {
      "cell_type": "markdown",
      "metadata": {
        "id": "Eg6p2QClthuO"
      },
      "source": [
        "# Arithmetic"
      ]
    },
    {
      "cell_type": "code",
      "execution_count": null,
      "metadata": {
        "colab": {
          "base_uri": "https://localhost:8080/"
        },
        "id": "GTOqBj_Nm6e1",
        "outputId": "d3a4d178-320d-4242-e5c3-9b6ffff30942"
      },
      "outputs": [
        {
          "output_type": "execute_result",
          "data": {
            "text/plain": [
              "3"
            ]
          },
          "metadata": {},
          "execution_count": 3
        }
      ],
      "source": [
        "# This is a number\n",
        "3"
      ]
    },
    {
      "cell_type": "code",
      "execution_count": null,
      "metadata": {
        "colab": {
          "base_uri": "https://localhost:8080/"
        },
        "id": "YcY7zPvNndR1",
        "outputId": "5c542795-aa5d-4958-d65d-008b67194c75"
      },
      "outputs": [
        {
          "output_type": "execute_result",
          "data": {
            "text/plain": [
              "2"
            ]
          },
          "metadata": {},
          "execution_count": 5
        }
      ],
      "source": [
        "1 + 1"
      ]
    },
    {
      "cell_type": "code",
      "execution_count": null,
      "metadata": {
        "colab": {
          "base_uri": "https://localhost:8080/"
        },
        "id": "PmCqez7EngoH",
        "outputId": "ab72cbf0-60e1-4fd3-c376-d07c37921104"
      },
      "outputs": [
        {
          "output_type": "execute_result",
          "data": {
            "text/plain": [
              "7"
            ]
          },
          "metadata": {},
          "execution_count": 6
        }
      ],
      "source": [
        "8 - 1"
      ]
    },
    {
      "cell_type": "code",
      "execution_count": null,
      "metadata": {
        "colab": {
          "base_uri": "https://localhost:8080/"
        },
        "id": "ZH7lmiWJnql2",
        "outputId": "ca8640bc-9e44-47f0-9156-b56583c7f231"
      },
      "outputs": [
        {
          "output_type": "execute_result",
          "data": {
            "text/plain": [
              "20"
            ]
          },
          "metadata": {},
          "execution_count": 7
        }
      ],
      "source": [
        "10 * 2"
      ]
    },
    {
      "cell_type": "code",
      "execution_count": null,
      "metadata": {
        "colab": {
          "base_uri": "https://localhost:8080/"
        },
        "id": "7EJ_qwdwnr9V",
        "outputId": "31a61a73-eb9c-41c7-ce23-94e8b7fccec6"
      },
      "outputs": [
        {
          "output_type": "execute_result",
          "data": {
            "text/plain": [
              "7.0"
            ]
          },
          "metadata": {},
          "execution_count": 8
        }
      ],
      "source": [
        "35 / 5"
      ]
    },
    {
      "cell_type": "code",
      "execution_count": null,
      "metadata": {
        "colab": {
          "base_uri": "https://localhost:8080/"
        },
        "id": "v8UmtyKGns9v",
        "outputId": "54d47ce3-596f-4c02-f77c-613b0a4f52a9"
      },
      "outputs": [
        {
          "output_type": "execute_result",
          "data": {
            "text/plain": [
              "400.0"
            ]
          },
          "metadata": {},
          "execution_count": 9
        }
      ],
      "source": [
        "# Scientific notation\n",
        "4E2"
      ]
    },
    {
      "cell_type": "code",
      "execution_count": null,
      "metadata": {
        "id": "FPbFyhOxp8AG",
        "colab": {
          "base_uri": "https://localhost:8080/"
        },
        "outputId": "a93b3a4c-2f2f-4983-cdaa-901e8c95088d"
      },
      "outputs": [
        {
          "output_type": "execute_result",
          "data": {
            "text/plain": [
              "8"
            ]
          },
          "metadata": {},
          "execution_count": 10
        }
      ],
      "source": [
        "# Exponentiation\n",
        "2 ** 3"
      ]
    },
    {
      "cell_type": "code",
      "execution_count": null,
      "metadata": {
        "id": "PLDojAz7q-3s",
        "colab": {
          "base_uri": "https://localhost:8080/"
        },
        "outputId": "edd1dd1f-439d-40eb-add7-6a4c75287faf"
      },
      "outputs": [
        {
          "output_type": "execute_result",
          "data": {
            "text/plain": [
              "2.0"
            ]
          },
          "metadata": {},
          "execution_count": 11
        }
      ],
      "source": [
        "# Square root\n",
        "4 ** 0.5"
      ]
    },
    {
      "cell_type": "markdown",
      "metadata": {
        "id": "y82gWz4w3kmy"
      },
      "source": [
        "The **order of operations** (also called **precedence**) of Python math operators is similar to that of mathematics. The ** operator is evaluated first; the *,\n",
        "/, //, and % operators are evaluated next, from left to right; and the + and - operators are evaluated last (also from left to right). You can use parentheses to override the usual precedence."
      ]
    },
    {
      "cell_type": "code",
      "execution_count": null,
      "metadata": {
        "id": "OrNng157rRUe",
        "colab": {
          "base_uri": "https://localhost:8080/"
        },
        "outputId": "c79a36a7-9547-4943-ca3a-505f9814de20"
      },
      "outputs": [
        {
          "output_type": "execute_result",
          "data": {
            "text/plain": [
              "105"
            ]
          },
          "metadata": {},
          "execution_count": 12
        }
      ],
      "source": [
        "2 + 10 * 10 + 3"
      ]
    },
    {
      "cell_type": "code",
      "execution_count": null,
      "metadata": {
        "id": "2Ch7x3ZdrWu1",
        "colab": {
          "base_uri": "https://localhost:8080/"
        },
        "outputId": "8ad3defd-1bea-4034-a2d5-0328478e83f8"
      },
      "outputs": [
        {
          "output_type": "execute_result",
          "data": {
            "text/plain": [
              "156"
            ]
          },
          "metadata": {},
          "execution_count": 13
        }
      ],
      "source": [
        "(2 + 10) * (10 + 3)"
      ]
    },
    {
      "cell_type": "markdown",
      "metadata": {
        "id": "FxtlhsCXhY_0"
      },
      "source": [
        "# Practice 1: Arithmetic operation in Python\n",
        "A robot moves from point A to point B at a speed of 0.5 meters per second. If the distance between points A and B is 300 meters. How many minutes will the robot take to reach point B? Please use **scientific notation** to denote the distance."
      ]
    },
    {
      "cell_type": "code",
      "execution_count": null,
      "metadata": {
        "id": "b1WQDhXLhY_0",
        "colab": {
          "base_uri": "https://localhost:8080/"
        },
        "outputId": "bdaaf861-0d70-4f01-825e-017b869bfec8"
      },
      "outputs": [
        {
          "output_type": "execute_result",
          "data": {
            "text/plain": [
              "10.0"
            ]
          },
          "metadata": {},
          "execution_count": 14
        }
      ],
      "source": [
        "# add your code here\n",
        "300 / 0.5 /60"
      ]
    },
    {
      "cell_type": "markdown",
      "metadata": {
        "id": "xBWIXyXYphld"
      },
      "source": [
        "# Types\n",
        "While Python is a dynamic language, which means it is not required to specify types in the source code, there are still the concept of types in Python.\n",
        "\n",
        "You can check the type of an expression by using `type` function"
      ]
    },
    {
      "cell_type": "code",
      "execution_count": null,
      "metadata": {
        "id": "5RwrHoEhpk7A",
        "colab": {
          "base_uri": "https://localhost:8080/"
        },
        "outputId": "ed6d6ecc-8131-4995-a685-19f8990f0acd"
      },
      "outputs": [
        {
          "output_type": "execute_result",
          "data": {
            "text/plain": [
              "int"
            ]
          },
          "metadata": {},
          "execution_count": 15
        }
      ],
      "source": [
        "# check the type of number 3\n",
        "type(3)"
      ]
    },
    {
      "cell_type": "code",
      "execution_count": null,
      "metadata": {
        "id": "qX-DTHoDpqRd",
        "colab": {
          "base_uri": "https://localhost:8080/"
        },
        "outputId": "20ba1176-6f44-453a-e99b-724ea1046a24"
      },
      "outputs": [
        {
          "output_type": "execute_result",
          "data": {
            "text/plain": [
              "float"
            ]
          },
          "metadata": {},
          "execution_count": 16
        }
      ],
      "source": [
        "# check the type of 0.1\n",
        "type(0.1)"
      ]
    },
    {
      "cell_type": "code",
      "execution_count": null,
      "metadata": {
        "id": "ixrKpjhDp1Ej",
        "colab": {
          "base_uri": "https://localhost:8080/"
        },
        "outputId": "3e53dba5-8210-4ffa-c374-8c71f6692204"
      },
      "outputs": [
        {
          "output_type": "execute_result",
          "data": {
            "text/plain": [
              "1.0"
            ]
          },
          "metadata": {},
          "execution_count": 17
        }
      ],
      "source": [
        "# change the type of an integer to float by using the float() function\n",
        "float(1)"
      ]
    },
    {
      "cell_type": "code",
      "execution_count": null,
      "metadata": {
        "id": "1xZz7szop5Js",
        "colab": {
          "base_uri": "https://localhost:8080/"
        },
        "outputId": "65db2217-2ec3-41bb-e216-c51cdbecd438"
      },
      "outputs": [
        {
          "output_type": "execute_result",
          "data": {
            "text/plain": [
              "2"
            ]
          },
          "metadata": {},
          "execution_count": 18
        }
      ],
      "source": [
        "# change the type of a floating point number to integer by using the int() function\n",
        "int(2.0)"
      ]
    },
    {
      "cell_type": "markdown",
      "metadata": {
        "id": "1baRSi5srZ65"
      },
      "source": [
        "# Variables\n",
        "\n",
        "Variables in Python are containers that hold data. They are like labeled boxes that can store different types of information, such as numbers, text, or more complex data structures. Variables allow you to manipulate and work with data in your programs."
      ]
    },
    {
      "cell_type": "code",
      "execution_count": null,
      "metadata": {
        "id": "z_teFUY-rh6q"
      },
      "outputs": [],
      "source": [
        "name = \"TECHIN509\""
      ]
    },
    {
      "cell_type": "code",
      "execution_count": null,
      "metadata": {
        "id": "y6_fvK1FrkEc",
        "colab": {
          "base_uri": "https://localhost:8080/",
          "height": 35
        },
        "outputId": "4c3e0081-9b01-450c-b2e9-1c616f610ed3"
      },
      "outputs": [
        {
          "output_type": "execute_result",
          "data": {
            "text/plain": [
              "'TECHIN509'"
            ],
            "application/vnd.google.colaboratory.intrinsic+json": {
              "type": "string"
            }
          },
          "metadata": {},
          "execution_count": 19
        }
      ],
      "source": [
        "name"
      ]
    },
    {
      "cell_type": "code",
      "execution_count": null,
      "metadata": {
        "id": "uiagAQp8rmsN"
      },
      "outputs": [],
      "source": [
        "score = 100"
      ]
    },
    {
      "cell_type": "code",
      "execution_count": null,
      "metadata": {
        "id": "eYXeWVrUrxbn",
        "colab": {
          "base_uri": "https://localhost:8080/"
        },
        "outputId": "fb6797af-f14a-4ecc-c842-dcc1f5e4f095"
      },
      "outputs": [
        {
          "output_type": "execute_result",
          "data": {
            "text/plain": [
              "int"
            ]
          },
          "metadata": {},
          "execution_count": 21
        }
      ],
      "source": [
        "type(score)"
      ]
    },
    {
      "cell_type": "code",
      "execution_count": null,
      "metadata": {
        "id": "ym0yOUwZrz6G",
        "colab": {
          "base_uri": "https://localhost:8080/"
        },
        "outputId": "d5ac8f7a-2780-405a-ba8b-f63dda767d18"
      },
      "outputs": [
        {
          "output_type": "stream",
          "name": "stdout",
          "text": [
            "100\n"
          ]
        }
      ],
      "source": [
        "print(score)"
      ]
    },
    {
      "cell_type": "code",
      "execution_count": null,
      "metadata": {
        "id": "Rrfp8h3cr1wi",
        "colab": {
          "base_uri": "https://localhost:8080/"
        },
        "outputId": "5775a2ce-d4b7-40a0-8884-ac6f00fd6d66"
      },
      "outputs": [
        {
          "output_type": "execute_result",
          "data": {
            "text/plain": [
              "200"
            ]
          },
          "metadata": {},
          "execution_count": 23
        }
      ],
      "source": [
        "score + score"
      ]
    },
    {
      "cell_type": "code",
      "execution_count": null,
      "metadata": {
        "id": "sR2Udj5Zr704",
        "colab": {
          "base_uri": "https://localhost:8080/"
        },
        "outputId": "70921b78-d294-4e29-c770-f1ba8f47deb2"
      },
      "outputs": [
        {
          "output_type": "execute_result",
          "data": {
            "text/plain": [
              "23.333333333333332"
            ]
          },
          "metadata": {},
          "execution_count": 24
        }
      ],
      "source": [
        "# Convert temperature from fahrenheit to celsius\n",
        "fahrenheit = 74\n",
        "celsius = (fahrenheit - 32) * 5/9\n",
        "celsius"
      ]
    },
    {
      "cell_type": "code",
      "execution_count": null,
      "metadata": {
        "id": "RlLLDZ0MsWNY",
        "colab": {
          "base_uri": "https://localhost:8080/"
        },
        "outputId": "4e3c6d6b-abf4-46a9-d43d-5cf29f5750c3"
      },
      "outputs": [
        {
          "output_type": "execute_result",
          "data": {
            "text/plain": [
              "23"
            ]
          },
          "metadata": {},
          "execution_count": 25
        }
      ],
      "source": [
        "# Convert to integer\n",
        "int(celsius)"
      ]
    },
    {
      "cell_type": "markdown",
      "metadata": {
        "id": "xfHp0Ez-WApA"
      },
      "source": [
        "# Practice 2: Use of Variables\n",
        "Annualized return(%) is\n",
        "$$Annualized\\ return(\\%) = (\\ total\\ return + 1) ^ {1/number\\ of\\ years} - 1$$\n",
        "If we have two projects:\n",
        "\n",
        "- Project A. 10 years, total return 200%\n",
        "- Project B. 5 years, total return 100%\n",
        "\n",
        "Please define a variable to compute the annualized return of project A and B, respectively. Print the values of your variables, and explain which one has a higher annualized return."
      ]
    },
    {
      "cell_type": "code",
      "execution_count": null,
      "metadata": {
        "id": "v64N7n1SWFI0",
        "colab": {
          "base_uri": "https://localhost:8080/"
        },
        "outputId": "d3955cd6-fc74-4a05-c5b0-e72730acb338"
      },
      "outputs": [
        {
          "output_type": "stream",
          "name": "stdout",
          "text": [
            "0.11612317403390437\n",
            "0.1486983549970351\n"
          ]
        }
      ],
      "source": [
        "# add your code here\n",
        "project_a = (2+1) ** (1/10) -1\n",
        "project_b = (1+1) ** (1/5) -1\n",
        "print(project_a)\n",
        "print(project_b)"
      ]
    },
    {
      "cell_type": "markdown",
      "metadata": {
        "id": "zmd1p_K_sagS"
      },
      "source": [
        "# String\n",
        "\n",
        "\n",
        "\n",
        "\n",
        "\n",
        "\n",
        "A string is a data type in Python used to represent a sequence of characters. Characters in a string can be letters, numbers, symbols, or even spaces. Strings are enclosed in either single quotes (') or double quotes (\"), and they are considered immutable, which means you cannot change the characters within a string once it's created; instead, you create a new string."
      ]
    },
    {
      "cell_type": "code",
      "execution_count": null,
      "metadata": {
        "id": "MN1MIcYEtLh9",
        "colab": {
          "base_uri": "https://localhost:8080/",
          "height": 35
        },
        "outputId": "38b8ef99-a678-4def-e502-2746c49245e8"
      },
      "outputs": [
        {
          "output_type": "execute_result",
          "data": {
            "text/plain": [
              "'this is a string'"
            ],
            "application/vnd.google.colaboratory.intrinsic+json": {
              "type": "string"
            }
          },
          "metadata": {},
          "execution_count": 27
        }
      ],
      "source": [
        "'this is a string'"
      ]
    },
    {
      "cell_type": "code",
      "execution_count": null,
      "metadata": {
        "id": "mPpF_tTKtQNh",
        "colab": {
          "base_uri": "https://localhost:8080/",
          "height": 35
        },
        "outputId": "d2b8add5-c511-4dc3-cec6-ac94646bf1c1"
      },
      "outputs": [
        {
          "output_type": "execute_result",
          "data": {
            "text/plain": [
              "'you can also use double quotes to create a string'"
            ],
            "application/vnd.google.colaboratory.intrinsic+json": {
              "type": "string"
            }
          },
          "metadata": {},
          "execution_count": 28
        }
      ],
      "source": [
        "\"you can also use double quotes to create a string\""
      ]
    },
    {
      "cell_type": "code",
      "execution_count": null,
      "metadata": {
        "id": "FZtpkxHx5Hkn",
        "colab": {
          "base_uri": "https://localhost:8080/",
          "height": 35
        },
        "outputId": "127f57db-640b-455d-9ee3-bf8a89eb090a"
      },
      "outputs": [
        {
          "output_type": "execute_result",
          "data": {
            "text/plain": [
              "'you can also use triple single quotes to create a string'"
            ],
            "application/vnd.google.colaboratory.intrinsic+json": {
              "type": "string"
            }
          },
          "metadata": {},
          "execution_count": 29
        }
      ],
      "source": [
        "'''you can also use triple single quotes to create a string'''"
      ]
    },
    {
      "cell_type": "code",
      "execution_count": null,
      "metadata": {
        "id": "Ew4jT6un5QPq",
        "colab": {
          "base_uri": "https://localhost:8080/",
          "height": 35
        },
        "outputId": "878db420-e717-4d4b-cb13-4ff2483d9f6a"
      },
      "outputs": [
        {
          "output_type": "execute_result",
          "data": {
            "text/plain": [
              "'or triple double quotes to create a string'"
            ],
            "application/vnd.google.colaboratory.intrinsic+json": {
              "type": "string"
            }
          },
          "metadata": {},
          "execution_count": 30
        }
      ],
      "source": [
        "\"\"\"or triple double quotes to create a string\"\"\""
      ]
    },
    {
      "cell_type": "markdown",
      "metadata": {
        "id": "PidNj6ga5bP_"
      },
      "source": [
        "All of the above are valid ways to define Python strings, but when should you use each one?"
      ]
    },
    {
      "cell_type": "code",
      "execution_count": null,
      "metadata": {
        "id": "Rt4AR6g4tRYu",
        "colab": {
          "base_uri": "https://localhost:8080/",
          "height": 35
        },
        "outputId": "ced7b40e-3d21-4af0-865b-64e44938ad9e"
      },
      "outputs": [
        {
          "output_type": "execute_result",
          "data": {
            "text/plain": [
              "\"I'm a software engineer\""
            ],
            "application/vnd.google.colaboratory.intrinsic+json": {
              "type": "string"
            }
          },
          "metadata": {},
          "execution_count": 31
        }
      ],
      "source": [
        "# there is a ' in the string, you can use double quote to define the string\n",
        "\"I'm a software engineer\""
      ]
    },
    {
      "cell_type": "code",
      "execution_count": null,
      "metadata": {
        "id": "15o76vOXtavN",
        "colab": {
          "base_uri": "https://localhost:8080/",
          "height": 35
        },
        "outputId": "c763435a-cd68-4706-8b4c-feb627ada43b"
      },
      "outputs": [
        {
          "output_type": "execute_result",
          "data": {
            "text/plain": [
              "\"I'm an engineer\""
            ],
            "application/vnd.google.colaboratory.intrinsic+json": {
              "type": "string"
            }
          },
          "metadata": {},
          "execution_count": 32
        }
      ],
      "source": [
        "# or triple quotes\n",
        "'''I'm an engineer'''"
      ]
    },
    {
      "cell_type": "markdown",
      "metadata": {
        "id": "8yZwPxk66juq"
      },
      "source": [
        "# Multi-line strings\n",
        "\n",
        "A multi-line string in Python is a string that spans multiple lines of text. It is often used when you need to represent a block of text, such as a long paragraph, code snippet, or even structured data like JSON or XML, in a more readable and maintainable format. In Python, you can create multi-line strings using triple-quotes (''' or \"\"\") or by escaping newline characters (\\n)."
      ]
    },
    {
      "cell_type": "code",
      "execution_count": null,
      "metadata": {
        "colab": {
          "base_uri": "https://localhost:8080/"
        },
        "id": "AtpiZpX_tibH",
        "outputId": "3e354c86-8013-41d9-dd9e-1b257d323f29"
      },
      "outputs": [
        {
          "output_type": "stream",
          "name": "stdout",
          "text": [
            "Python, a language so bright\n",
            "Easy to learn, yet powerful\n",
            "Building with grace and might\n"
          ]
        }
      ],
      "source": [
        "haiku = \"\"\"Python, a language so bright\n",
        "Easy to learn, yet powerful\n",
        "Building with grace and might\"\"\"\n",
        "print(haiku)"
      ]
    },
    {
      "cell_type": "code",
      "execution_count": null,
      "metadata": {
        "id": "zaHCiLKOt2Y2",
        "outputId": "6222e215-44a5-4603-d1fc-4a10de40d5f3",
        "colab": {
          "base_uri": "https://localhost:8080/",
          "height": 35
        }
      },
      "outputs": [
        {
          "output_type": "execute_result",
          "data": {
            "text/plain": [
              "'this is a looooooooooooooooooooooooooooooooooooooooooooooooong string'"
            ],
            "application/vnd.google.colaboratory.intrinsic+json": {
              "type": "string"
            }
          },
          "metadata": {},
          "execution_count": 34
        }
      ],
      "source": [
        "s = \"this is a looooooooooooooooooooooooooooooooooooooooooooooooong string\"\n",
        "s"
      ]
    },
    {
      "cell_type": "code",
      "execution_count": null,
      "metadata": {
        "colab": {
          "base_uri": "https://localhost:8080/",
          "height": 35
        },
        "id": "TdUAYbdyuViV",
        "outputId": "293c7ea8-12c8-4e49-9e93-c55d518283d8"
      },
      "outputs": [
        {
          "output_type": "execute_result",
          "data": {
            "text/plain": [
              "'this is a looooooooooooooooooooooooooooooooooooooooooooooooong string'"
            ],
            "application/vnd.google.colaboratory.intrinsic+json": {
              "type": "string"
            }
          },
          "metadata": {},
          "execution_count": 35
        }
      ],
      "source": [
        "s = \"this is a loooooooooooooo\\\n",
        "ooooooooooooooooooooooooooooooooooong string\"\n",
        "s"
      ]
    },
    {
      "cell_type": "code",
      "execution_count": null,
      "metadata": {
        "colab": {
          "base_uri": "https://localhost:8080/",
          "height": 35
        },
        "id": "F752mgoSuYzY",
        "outputId": "e27c0a22-e800-4edf-8e8e-4f61951e60fa"
      },
      "outputs": [
        {
          "output_type": "execute_result",
          "data": {
            "text/plain": [
              "'this is a looooooooooooooooooooooooooooooooooooooooooooooooong string'"
            ],
            "application/vnd.google.colaboratory.intrinsic+json": {
              "type": "string"
            }
          },
          "metadata": {},
          "execution_count": 36
        }
      ],
      "source": [
        "s = (\n",
        "    'this is a loooooooooooooo'\n",
        "    'ooooooooooooooooooooooooooooooooooong string'\n",
        ")\n",
        "s"
      ]
    },
    {
      "cell_type": "markdown",
      "metadata": {
        "id": "X4oynJPdEljk"
      },
      "source": [
        "# String indexing\n",
        "String indexing is a fundamental concept in Python, used to access individual characters within a string.\n",
        "\n",
        "In Python, strings are sequences of characters, and each character in a string has a position or index. Indexing starts at 0 for the first character in the string, and you can use these indices to retrieve or manipulate specific characters within the string.\n",
        "\n",
        "`some_string[start:end:step]`"
      ]
    },
    {
      "cell_type": "code",
      "execution_count": null,
      "metadata": {
        "id": "28OsNaEhJUtc"
      },
      "outputs": [],
      "source": [
        "s = \"Hello,GIX\""
      ]
    },
    {
      "cell_type": "code",
      "execution_count": null,
      "metadata": {
        "colab": {
          "base_uri": "https://localhost:8080/"
        },
        "id": "5mbfN_aiLAH3",
        "outputId": "64d58db3-0b76-4651-e9bc-23610ee96b25"
      },
      "outputs": [
        {
          "output_type": "execute_result",
          "data": {
            "text/plain": [
              "9"
            ]
          },
          "metadata": {},
          "execution_count": 38
        }
      ],
      "source": [
        "# check the length of the string with len()\n",
        "len(s)"
      ]
    },
    {
      "cell_type": "code",
      "execution_count": null,
      "metadata": {
        "colab": {
          "base_uri": "https://localhost:8080/",
          "height": 35
        },
        "id": "vcH-VJJJJDon",
        "outputId": "7289afae-9fa2-4f86-ddb8-bf67369b3595"
      },
      "outputs": [
        {
          "output_type": "execute_result",
          "data": {
            "text/plain": [
              "'Hello,GIX'"
            ],
            "application/vnd.google.colaboratory.intrinsic+json": {
              "type": "string"
            }
          },
          "metadata": {},
          "execution_count": 39
        }
      ],
      "source": [
        "# String indexing syntax\n",
        "# This example does not specify any start, end, or step\n",
        "# So it will return the whole string\n",
        "s[::]"
      ]
    },
    {
      "cell_type": "code",
      "execution_count": null,
      "metadata": {
        "colab": {
          "base_uri": "https://localhost:8080/",
          "height": 35
        },
        "id": "Kl5ohybZJjay",
        "outputId": "a43ac7a3-fd5a-43b6-aa36-64e8386fcbe6"
      },
      "outputs": [
        {
          "output_type": "execute_result",
          "data": {
            "text/plain": [
              "'e'"
            ],
            "application/vnd.google.colaboratory.intrinsic+json": {
              "type": "string"
            }
          },
          "metadata": {},
          "execution_count": 43
        }
      ],
      "source": [
        "# Let's specify\n",
        "# start index = 1,\n",
        "# end index = 2,\n",
        "# step = 1,\n",
        "# so we get the character at index 1\n",
        "# string: Hello,GIX\n",
        "#  index: 012345678\n",
        "#          ^\n",
        "s[1:2:1]"
      ]
    },
    {
      "cell_type": "code",
      "execution_count": null,
      "metadata": {
        "colab": {
          "base_uri": "https://localhost:8080/",
          "height": 35
        },
        "id": "Vw4TGA8BKFPj",
        "outputId": "549ac5af-1539-46a6-dae0-1f3038f06da3"
      },
      "outputs": [
        {
          "output_type": "execute_result",
          "data": {
            "text/plain": [
              "'e'"
            ],
            "application/vnd.google.colaboratory.intrinsic+json": {
              "type": "string"
            }
          },
          "metadata": {},
          "execution_count": 44
        }
      ],
      "source": [
        "# We can omit the end and step if we are only indexing for a single character\n",
        "#\n",
        "# string: Hello,GIX\n",
        "#  index: 012345678\n",
        "#          ^\n",
        "s[1]"
      ]
    },
    {
      "cell_type": "code",
      "execution_count": null,
      "metadata": {
        "colab": {
          "base_uri": "https://localhost:8080/",
          "height": 35
        },
        "id": "6ns-Ffb6Kunk",
        "outputId": "f578a68c-725f-43b9-9922-1786b2f7079b"
      },
      "outputs": [
        {
          "output_type": "execute_result",
          "data": {
            "text/plain": [
              "'ello,'"
            ],
            "application/vnd.google.colaboratory.intrinsic+json": {
              "type": "string"
            }
          },
          "metadata": {},
          "execution_count": 45
        }
      ],
      "source": [
        "# get the character from index 1 to 6, with step = 1\n",
        "# string: Hello,GIX\n",
        "#  index: 012345678\n",
        "#          ^^^^^\n",
        "s[1:6:1]"
      ]
    },
    {
      "cell_type": "code",
      "execution_count": null,
      "metadata": {
        "colab": {
          "base_uri": "https://localhost:8080/",
          "height": 35
        },
        "id": "MOwVnFRzK0xp",
        "outputId": "5c60899a-f1c2-41c5-e3eb-cfb100375d9e"
      },
      "outputs": [
        {
          "output_type": "execute_result",
          "data": {
            "text/plain": [
              "'el,'"
            ],
            "application/vnd.google.colaboratory.intrinsic+json": {
              "type": "string"
            }
          },
          "metadata": {},
          "execution_count": 47
        }
      ],
      "source": [
        "# get the character from index 1 to 6, with step = 2\n",
        "# string: Hello,GIX\n",
        "#  index: 012345678\n",
        "#          ^ ^ ^\n",
        "s[1:6:2]"
      ]
    },
    {
      "cell_type": "code",
      "execution_count": null,
      "metadata": {
        "colab": {
          "base_uri": "https://localhost:8080/",
          "height": 35
        },
        "id": "vkyqOMJ6u5xj",
        "outputId": "74962551-403b-4cb6-e35f-3cb4e17d9337"
      },
      "outputs": [
        {
          "output_type": "execute_result",
          "data": {
            "text/plain": [
              "'ello,'"
            ],
            "application/vnd.google.colaboratory.intrinsic+json": {
              "type": "string"
            }
          },
          "metadata": {},
          "execution_count": 48
        }
      ],
      "source": [
        "# if step = 1, you cam omit it\n",
        "# string: Hello,GIX\n",
        "#  index: 012345678\n",
        "#          ^^^^^\n",
        "s[1:6]"
      ]
    },
    {
      "cell_type": "code",
      "execution_count": null,
      "metadata": {
        "colab": {
          "base_uri": "https://localhost:8080/",
          "height": 35
        },
        "id": "v9ShmN0JvFPz",
        "outputId": "a5eda894-941f-40d8-eb25-2b1cbe0113fe"
      },
      "outputs": [
        {
          "output_type": "execute_result",
          "data": {
            "text/plain": [
              "'ello,GIX'"
            ],
            "application/vnd.google.colaboratory.intrinsic+json": {
              "type": "string"
            }
          },
          "metadata": {},
          "execution_count": 49
        }
      ],
      "source": [
        "# get the character from index 1 to the end of the string, with step = 1\n",
        "# string: Hello,GIX\n",
        "#  index: 012345678\n",
        "#          ^^^^^^^^\n",
        "s[1::1]"
      ]
    },
    {
      "cell_type": "code",
      "execution_count": null,
      "metadata": {
        "colab": {
          "base_uri": "https://localhost:8080/",
          "height": 35
        },
        "id": "b7Gykm6nMItg",
        "outputId": "fddca78a-f7ad-4fb2-84d8-0ad65c51b1af"
      },
      "outputs": [
        {
          "output_type": "execute_result",
          "data": {
            "text/plain": [
              "'ello,GIX'"
            ],
            "application/vnd.google.colaboratory.intrinsic+json": {
              "type": "string"
            }
          },
          "metadata": {},
          "execution_count": 50
        }
      ],
      "source": [
        "# step = 1, so we omit it\n",
        "# string: Hello,GIX\n",
        "#  index: 012345678\n",
        "#          ^^^^^^^^\n",
        "s[1::]"
      ]
    },
    {
      "cell_type": "code",
      "execution_count": null,
      "metadata": {
        "colab": {
          "base_uri": "https://localhost:8080/",
          "height": 35
        },
        "id": "l6lYzJG0vq1p",
        "outputId": "700f231b-7705-40ce-fae6-1a581bbce65f"
      },
      "outputs": [
        {
          "output_type": "execute_result",
          "data": {
            "text/plain": [
              "'el,I'"
            ],
            "application/vnd.google.colaboratory.intrinsic+json": {
              "type": "string"
            }
          },
          "metadata": {},
          "execution_count": 51
        }
      ],
      "source": [
        "# get the character from index 1 to the end of the string, with step = 2\n",
        "# string: Hello,GIX\n",
        "#  index: 012345678\n",
        "#          ^ ^ ^ ^\n",
        "s[1::2]"
      ]
    },
    {
      "cell_type": "markdown",
      "metadata": {
        "id": "k-SdRenqvvXT"
      },
      "source": [
        "You can index from the end of the string using a negative index.\n",
        "\n",
        "Note that when indexing from the end it starts from -1 not 0"
      ]
    },
    {
      "cell_type": "code",
      "execution_count": null,
      "metadata": {
        "id": "kEgwdSRmv52H",
        "colab": {
          "base_uri": "https://localhost:8080/",
          "height": 35
        },
        "outputId": "866fc3e4-325a-47d6-a507-e82a1ad64661"
      },
      "outputs": [
        {
          "output_type": "execute_result",
          "data": {
            "text/plain": [
              "'o'"
            ],
            "application/vnd.google.colaboratory.intrinsic+json": {
              "type": "string"
            }
          },
          "metadata": {},
          "execution_count": 52
        }
      ],
      "source": [
        "# get the last character\n",
        "'hello'[-1]"
      ]
    },
    {
      "cell_type": "markdown",
      "metadata": {
        "id": "obtuyHrGNSbA"
      },
      "source": [
        "How to reverse a string?"
      ]
    },
    {
      "cell_type": "code",
      "execution_count": null,
      "metadata": {
        "colab": {
          "base_uri": "https://localhost:8080/",
          "height": 35
        },
        "id": "DkJ7_YN5v-SY",
        "outputId": "76197ebd-1b69-4d91-cf7f-264f52ceff59"
      },
      "outputs": [
        {
          "output_type": "execute_result",
          "data": {
            "text/plain": [
              "'olleH'"
            ],
            "application/vnd.google.colaboratory.intrinsic+json": {
              "type": "string"
            }
          },
          "metadata": {},
          "execution_count": 53
        }
      ],
      "source": [
        "# Use step = -1\n",
        "\"Hello\"[::-1]"
      ]
    },
    {
      "cell_type": "markdown",
      "metadata": {
        "id": "h3FkVwVuhY_6"
      },
      "source": [
        "# Practice 3: Indexing of string\n",
        "Assign \"Hello, World!\" to a string named **s**.\n",
        "- Print the characters corresponding to the even index.\n",
        "- Print the characters corresponding to the odd index.\n",
        "- Print the last three characters of s."
      ]
    },
    {
      "cell_type": "code",
      "execution_count": null,
      "metadata": {
        "id": "FC-0Z9A7hY_6",
        "colab": {
          "base_uri": "https://localhost:8080/"
        },
        "outputId": "7c76c018-a615-4d0e-d44e-d75e6a14bcb0"
      },
      "outputs": [
        {
          "output_type": "stream",
          "name": "stdout",
          "text": [
            "13\n",
            "Hlo ol!\n",
            "el,Wrd\n",
            "ld!\n"
          ]
        }
      ],
      "source": [
        "# add your code here\n",
        "s = \"Hello, World!\"\n",
        "print(len(s))\n",
        "print(s[0::2])\n",
        "print(s[1::2])\n",
        "print(s[-3::])"
      ]
    },
    {
      "cell_type": "markdown",
      "source": [
        "## Explanation of Practice 3\n",
        "- Print the characters corresponding to the even index.\n",
        "1. string: Hello, World!\n",
        "2. index:  0123456789101112\n",
        "3. even index are 0,2,4,6,8,10,12\n",
        "4. so we get s[0::2]\n",
        "\n",
        "- Print the characters corresponding to the odd index.\n",
        "1. string: Hello, World!\n",
        "2. index:  0123456789101112\n",
        "3. odd index are: 1,3,5,7,9,11\n",
        "4. so we get s[1::2]\n",
        "\n",
        "- Print the last three characters of s.\n",
        "1. string: Hello, World!\n",
        "2. index from the end of string using negative index from -1\n",
        "3. in this way, we want to print s[-3::]\n",
        "\n",
        "\n",
        "\n",
        "\n"
      ],
      "metadata": {
        "id": "xSs5wDsuyVZI"
      }
    },
    {
      "cell_type": "markdown",
      "metadata": {
        "id": "CfX8HJq7Nib8"
      },
      "source": [
        "# String concatenation\n",
        "String concatenation is the process of combining two or more strings to create\n",
        "a new, longer string.\n",
        "\n",
        "In Python, you can perform string concatenation using the `+` operator"
      ]
    },
    {
      "cell_type": "code",
      "execution_count": null,
      "metadata": {
        "id": "GeeAGzuowPnX",
        "colab": {
          "base_uri": "https://localhost:8080/",
          "height": 35
        },
        "outputId": "8bbec6c3-7a4f-445d-b275-bcb03a9dd35b"
      },
      "outputs": [
        {
          "output_type": "execute_result",
          "data": {
            "text/plain": [
              "'Hello,GIX'"
            ],
            "application/vnd.google.colaboratory.intrinsic+json": {
              "type": "string"
            }
          },
          "metadata": {},
          "execution_count": 1
        }
      ],
      "source": [
        "greeting = \"Hello,\"\n",
        "name = \"GIX\"\n",
        "greeting + name"
      ]
    },
    {
      "cell_type": "code",
      "execution_count": null,
      "metadata": {
        "id": "CQg-sjSSwdKe",
        "colab": {
          "base_uri": "https://localhost:8080/",
          "height": 35
        },
        "outputId": "93bd52af-412d-4f99-ca04-3cda98d1602a"
      },
      "outputs": [
        {
          "output_type": "execute_result",
          "data": {
            "text/plain": [
              "'Hello, GIX'"
            ],
            "application/vnd.google.colaboratory.intrinsic+json": {
              "type": "string"
            }
          },
          "metadata": {},
          "execution_count": 2
        }
      ],
      "source": [
        "greeting = \"Hello,\"\n",
        "name = \"GIX\"\n",
        "greeting + \" \" + name"
      ]
    },
    {
      "cell_type": "code",
      "execution_count": null,
      "metadata": {
        "id": "S6r_zqCswjQz",
        "colab": {
          "base_uri": "https://localhost:8080/",
          "height": 35
        },
        "outputId": "d864772f-d298-476f-a4f8-13f401ffae74"
      },
      "outputs": [
        {
          "output_type": "execute_result",
          "data": {
            "text/plain": [
              "'PythonPythonPythonPythonPythonPythonPythonPythonPythonPython'"
            ],
            "application/vnd.google.colaboratory.intrinsic+json": {
              "type": "string"
            }
          },
          "metadata": {},
          "execution_count": 3
        }
      ],
      "source": [
        "# Repeat a string by multiplying it with a number\n",
        "\"Python\" * 10"
      ]
    },
    {
      "cell_type": "markdown",
      "metadata": {
        "id": "QV3z-EXGOkVX"
      },
      "source": [
        "There are many built-in methods for the String class\n",
        "\n",
        "(we will talk about the concepts of classes and objects later)"
      ]
    },
    {
      "cell_type": "code",
      "execution_count": null,
      "metadata": {
        "id": "S8jnHS-xw0rY",
        "colab": {
          "base_uri": "https://localhost:8080/"
        },
        "outputId": "f648e7e6-4617-48bc-c800-f6a3ae6bd7de"
      },
      "outputs": [
        {
          "output_type": "stream",
          "name": "stdout",
          "text": [
            "['__add__', '__class__', '__contains__', '__delattr__', '__dir__', '__doc__', '__eq__', '__format__', '__ge__', '__getattribute__', '__getitem__', '__getnewargs__', '__gt__', '__hash__', '__init__', '__init_subclass__', '__iter__', '__le__', '__len__', '__lt__', '__mod__', '__mul__', '__ne__', '__new__', '__reduce__', '__reduce_ex__', '__repr__', '__rmod__', '__rmul__', '__setattr__', '__sizeof__', '__str__', '__subclasshook__', 'capitalize', 'casefold', 'center', 'count', 'encode', 'endswith', 'expandtabs', 'find', 'format', 'format_map', 'index', 'isalnum', 'isalpha', 'isascii', 'isdecimal', 'isdigit', 'isidentifier', 'islower', 'isnumeric', 'isprintable', 'isspace', 'istitle', 'isupper', 'join', 'ljust', 'lower', 'lstrip', 'maketrans', 'partition', 'removeprefix', 'removesuffix', 'replace', 'rfind', 'rindex', 'rjust', 'rpartition', 'rsplit', 'rstrip', 'split', 'splitlines', 'startswith', 'strip', 'swapcase', 'title', 'translate', 'upper', 'zfill']\n"
          ]
        }
      ],
      "source": [
        "# Show all attributes and methods of String using `dir`\n",
        "s = 'harry potter'\n",
        "print(dir(s))"
      ]
    },
    {
      "cell_type": "markdown",
      "metadata": {
        "id": "7vHlAModPY7N"
      },
      "source": [
        "Let's pick a couple of built-in methods of string to try out"
      ]
    },
    {
      "cell_type": "code",
      "execution_count": null,
      "metadata": {
        "id": "xbC4TqfoxCG4"
      },
      "outputs": [],
      "source": [
        "# Harry Potter\n",
        "s = 'harry potter'"
      ]
    },
    {
      "cell_type": "code",
      "execution_count": null,
      "metadata": {
        "id": "vvdlguK5xTHo",
        "colab": {
          "base_uri": "https://localhost:8080/",
          "height": 35
        },
        "outputId": "7e6865fb-6bf4-4a05-cb10-5f031af113f2"
      },
      "outputs": [
        {
          "output_type": "execute_result",
          "data": {
            "text/plain": [
              "'Harry Potter'"
            ],
            "application/vnd.google.colaboratory.intrinsic+json": {
              "type": "string"
            }
          },
          "metadata": {},
          "execution_count": 7
        }
      ],
      "source": [
        "# make the string title case\n",
        "s.title()"
      ]
    },
    {
      "cell_type": "code",
      "execution_count": null,
      "metadata": {
        "id": "hM0toqAmxfhV",
        "colab": {
          "base_uri": "https://localhost:8080/",
          "height": 35
        },
        "outputId": "7d1cc9d3-2441-4c80-9854-f90d1e91d058"
      },
      "outputs": [
        {
          "output_type": "execute_result",
          "data": {
            "text/plain": [
              "'HARRY POTTER'"
            ],
            "application/vnd.google.colaboratory.intrinsic+json": {
              "type": "string"
            }
          },
          "metadata": {},
          "execution_count": 8
        }
      ],
      "source": [
        "# make the string upper case\n",
        "s.upper()"
      ]
    },
    {
      "cell_type": "code",
      "execution_count": null,
      "metadata": {
        "id": "ceU6G0zyxidK",
        "colab": {
          "base_uri": "https://localhost:8080/",
          "height": 35
        },
        "outputId": "78672c40-1204-4ed8-eadc-511047a92026"
      },
      "outputs": [
        {
          "output_type": "execute_result",
          "data": {
            "text/plain": [
              "'harry potter'"
            ],
            "application/vnd.google.colaboratory.intrinsic+json": {
              "type": "string"
            }
          },
          "metadata": {},
          "execution_count": 9
        }
      ],
      "source": [
        "# make the string lower case\n",
        "'HARRY POTTER'.lower()"
      ]
    },
    {
      "cell_type": "code",
      "execution_count": null,
      "metadata": {
        "id": "v9cP0niIxlx6",
        "colab": {
          "base_uri": "https://localhost:8080/"
        },
        "outputId": "7257aa16-429f-4fa3-e656-96d66eb4d08f"
      },
      "outputs": [
        {
          "output_type": "execute_result",
          "data": {
            "text/plain": [
              "True"
            ]
          },
          "metadata": {},
          "execution_count": 10
        }
      ],
      "source": [
        "# test if the string ends with a string\n",
        "\"Hello\".endswith(\"llo\")"
      ]
    },
    {
      "cell_type": "code",
      "execution_count": null,
      "metadata": {
        "id": "4VKoVWcYxvbq",
        "colab": {
          "base_uri": "https://localhost:8080/"
        },
        "outputId": "f504b005-c7a2-4c39-eb83-b8c10ad9d608"
      },
      "outputs": [
        {
          "output_type": "execute_result",
          "data": {
            "text/plain": [
              "False"
            ]
          },
          "metadata": {},
          "execution_count": 11
        }
      ],
      "source": [
        "\"Hello\".endswith(\"zzz\")"
      ]
    },
    {
      "cell_type": "code",
      "execution_count": null,
      "metadata": {
        "id": "Cgd0robAxxiS",
        "colab": {
          "base_uri": "https://localhost:8080/"
        },
        "outputId": "ccb32a43-015c-4692-9d01-9f25583b8ab1"
      },
      "outputs": [
        {
          "output_type": "execute_result",
          "data": {
            "text/plain": [
              "True"
            ]
          },
          "metadata": {},
          "execution_count": 12
        }
      ],
      "source": [
        "# test if the string starts with a string\n",
        "\"Hello\".startswith(\"Hel\")"
      ]
    },
    {
      "cell_type": "code",
      "execution_count": null,
      "metadata": {
        "colab": {
          "base_uri": "https://localhost:8080/"
        },
        "id": "idQ5dJnhx1dz",
        "outputId": "69414451-05d3-45c6-8edb-9858c513cb09"
      },
      "outputs": [
        {
          "output_type": "execute_result",
          "data": {
            "text/plain": [
              "['Ian', 'Chen', '99', 'University of Washington']"
            ]
          },
          "metadata": {},
          "execution_count": 13
        }
      ],
      "source": [
        "# split the string into a list of strings by ,\n",
        "\"Ian,Chen,99,University of Washington\".split(\",\")"
      ]
    },
    {
      "cell_type": "code",
      "execution_count": null,
      "metadata": {
        "id": "LUHg0rKiyYUD"
      },
      "outputs": [],
      "source": [
        "# Check the function documentation using ?\n",
        "s = \"Hello\"\n",
        "?s.lower"
      ]
    },
    {
      "cell_type": "markdown",
      "metadata": {
        "id": "zKZVpaV1WQGY"
      },
      "source": [
        "# Practice 4: string methods\n",
        "The customer wants to exchange 10,000 New Taiwan Dollars (NTD) into US Dollars (USD). Assuming:\n",
        "- The original input string is: NTD$ 10,000\n",
        "- The exchange rate is: 27.3\n",
        "\n",
        "Please convert the amount into the integer amount in US Dollars.\n",
        "\n",
        "Hint: Use `replace()` and `int()`."
      ]
    },
    {
      "cell_type": "code",
      "execution_count": null,
      "metadata": {
        "id": "NDgpGwArWYRf",
        "colab": {
          "base_uri": "https://localhost:8080/"
        },
        "outputId": "064038bb-832f-4d84-8934-00b772f7dc56"
      },
      "outputs": [
        {
          "output_type": "stream",
          "name": "stdout",
          "text": [
            "366\n"
          ]
        }
      ],
      "source": [
        "s = 'NTD$ 10,000'\n",
        "exchange_rate=27.3\n",
        "s_new = s.replace('NTD$ ','').replace(',','')\n",
        "NTD_amount = int(s_new)\n",
        "USD_amount = NTD_amount / exchange_rate\n",
        "print(int(USD_amount))"
      ]
    },
    {
      "cell_type": "markdown",
      "source": [
        "## Explanation\n",
        "1. Remove 'NTD$ ' and ',' from the string\n",
        "2. print the new string\n",
        "3. convert the NTD amount into integer\n",
        "4. calculate USD amount by using the euqation of NTD_amount / exchange_rate\n",
        "5. print the integer amount of USD amount\n"
      ],
      "metadata": {
        "id": "PcIG40N2VMKR"
      }
    },
    {
      "cell_type": "markdown",
      "metadata": {
        "id": "sbNl6mugQJ9e"
      },
      "source": [
        "# String Formatting\n",
        "\n",
        "String formatting is a technique in Python used to create well-structured, dynamic strings by inserting variable values or expressions into a text template.\n",
        "\n",
        "Python supports multiple ways to format text strings. These include [%-formatting](https://peps.python.org/pep-0498/#id11), [str.format()](https://peps.python.org/pep-0498/#id12), and [f-strings](https://peps.python.org/pep-0498/). Each of these methods have their advantages and use cases."
      ]
    },
    {
      "cell_type": "code",
      "execution_count": null,
      "metadata": {
        "id": "TEkPpztISV9y",
        "colab": {
          "base_uri": "https://localhost:8080/"
        },
        "outputId": "f26a5962-174c-44ee-d7af-4f63ad3884b8"
      },
      "outputs": [
        {
          "output_type": "stream",
          "name": "stdout",
          "text": [
            "Hello, my name is Alice and I am 30 years old.\n"
          ]
        }
      ],
      "source": [
        "# %-formatting\n",
        "# the old way\n",
        "name = \"Alice\"\n",
        "age = 30\n",
        "\n",
        "formatted_string = \"Hello, my name is %s and I am %s years old.\"%(name, age)\n",
        "\n",
        "print(formatted_string)"
      ]
    },
    {
      "cell_type": "code",
      "execution_count": null,
      "metadata": {
        "id": "uY6whTKbQta8",
        "colab": {
          "base_uri": "https://localhost:8080/"
        },
        "outputId": "adb622d0-ae7c-4b46-deea-b3bde2dff621"
      },
      "outputs": [
        {
          "output_type": "stream",
          "name": "stdout",
          "text": [
            "Hello, my name is Alice and I am 30 years old.\n"
          ]
        }
      ],
      "source": [
        "# str.format()\n",
        "# more powerful\n",
        "name = \"Alice\"\n",
        "age = 30\n",
        "\n",
        "formatted_string = \"Hello, my name is {} and I am {} years old.\".format(name, age)\n",
        "\n",
        "print(formatted_string)"
      ]
    },
    {
      "cell_type": "code",
      "execution_count": null,
      "metadata": {
        "id": "5iyaiEf2Sxd2",
        "colab": {
          "base_uri": "https://localhost:8080/"
        },
        "outputId": "8921d2b8-eab2-4df4-a0d0-502dffaae8c3"
      },
      "outputs": [
        {
          "output_type": "stream",
          "name": "stdout",
          "text": [
            "Hello, my name is Alice and I am 30 years old.\n"
          ]
        }
      ],
      "source": [
        "# str.format()\n",
        "# more powerful\n",
        "name = \"Alice\"\n",
        "age = 30\n",
        "\n",
        "# specify field name\n",
        "formatted_string = \"Hello, my name is {name} and I am {age} years old.\".format(name=name, age=age)\n",
        "\n",
        "print(formatted_string)"
      ]
    },
    {
      "cell_type": "code",
      "execution_count": null,
      "metadata": {
        "id": "VssRn4s1TmWi",
        "colab": {
          "base_uri": "https://localhost:8080/"
        },
        "outputId": "cff3873c-ab1b-4277-ea8b-158f2c5aedfe"
      },
      "outputs": [
        {
          "output_type": "stream",
          "name": "stdout",
          "text": [
            "Hello, my name is Alice and I am 30 years old.\n"
          ]
        }
      ],
      "source": [
        "# str.format()\n",
        "# more powerful\n",
        "name = \"Alice\"\n",
        "age = 30\n",
        "\n",
        "# specify field name\n",
        "formatted_string = \"Hello, my name is {0} and I am {1} years old.\".format(name, age)\n",
        "\n",
        "print(formatted_string)"
      ]
    },
    {
      "cell_type": "code",
      "execution_count": null,
      "metadata": {
        "id": "jMjfWihoQ-gm",
        "colab": {
          "base_uri": "https://localhost:8080/",
          "height": 35
        },
        "outputId": "50df3633-93d8-4bce-8629-bf2b46c97170"
      },
      "outputs": [
        {
          "output_type": "execute_result",
          "data": {
            "text/plain": [
              "\"Hi, my name is Ian Chen, I'm a Lecturer at University of Washington\""
            ],
            "application/vnd.google.colaboratory.intrinsic+json": {
              "type": "string"
            }
          },
          "metadata": {},
          "execution_count": 53
        }
      ],
      "source": [
        "# Since Python 3.6, you can using f-strings to format\n",
        "# read more: https://peps.python.org/pep-0498/\n",
        "name = \"Ian Chen\"\n",
        "position = \"Lecturer\"\n",
        "organization = \"University of Washington\"\n",
        "\n",
        "s = f\"Hi, my name is {name}, I'm a {position} at {organization}\"\n",
        "s"
      ]
    },
    {
      "cell_type": "markdown",
      "metadata": {
        "id": "J0wIa4uhWvju"
      },
      "source": [
        "# Input\n",
        "The `input()` function in Python is used to receive user input from the keyboard.\n",
        "\n",
        "It allows you to interact with your Python program by providing data that can be stored in variables and used in your code.\n",
        "\n",
        "The input() function reads a line of text entered by the user and returns it as a **string**."
      ]
    },
    {
      "cell_type": "code",
      "execution_count": null,
      "metadata": {
        "id": "8Tb4gS1HXHiP",
        "colab": {
          "base_uri": "https://localhost:8080/"
        },
        "outputId": "997cb9e2-5fb9-4a62-886a-911a792e6db0"
      },
      "outputs": [
        {
          "output_type": "stream",
          "name": "stdout",
          "text": [
            "Enter your name: Oulu\n",
            "Hello, Oulu!\n",
            "Enter your score: 100\n",
            "You scored 100 points.\n"
          ]
        }
      ],
      "source": [
        "# Prompt the user for their name\n",
        "name = input(\"Enter your name: \")\n",
        "\n",
        "# Display a greeting using the input\n",
        "print(f\"Hello, {name}!\")\n",
        "\n",
        "# Prompt the user for their game score\n",
        "score = input(\"Enter your score: \")\n",
        "\n",
        "# Display a message based on the score input\n",
        "print(f\"You scored {score} points.\")"
      ]
    },
    {
      "cell_type": "markdown",
      "metadata": {
        "id": "RzdaA16vWnRP"
      },
      "source": [
        "# Practice 5: Input\n",
        "A customer has a bank account balance of $300,000.\n",
        "\n",
        "Please write a program where the user can input the amount they want to withdraw. After entering the amount, the program should display the following string on the screen:\n",
        "\n",
        "\"You have withdrawn \\$[amount] dollars. Your remaining balance is \\$[remaining balance] dollars.\""
      ]
    },
    {
      "cell_type": "code",
      "execution_count": 1,
      "metadata": {
        "id": "i7AqGejvWsgq",
        "colab": {
          "base_uri": "https://localhost:8080/"
        },
        "outputId": "f9d5df6c-5909-4c77-c7fb-d04700de4358"
      },
      "outputs": [
        {
          "output_type": "stream",
          "name": "stdout",
          "text": [
            "The amount you want to withdraw: 800\n",
            "You have withdrawn $800 dollars.\n",
            "Your remaining balance is $299200 dollars.\n"
          ]
        }
      ],
      "source": [
        "account_balance = 300000\n",
        "withdraw_amount = int(input(\"The amount you want to withdraw: \"))\n",
        "print(f\"You have withdrawn ${withdraw_amount} dollars.\")\n",
        "remaining_balance = account_balance - withdraw_amount\n",
        "print(f\"Your remaining balance is ${remaining_balance} dollars.\")"
      ]
    },
    {
      "cell_type": "markdown",
      "source": [
        "## Explanation\n",
        "1. We've already know the total bank account balance is 300000\n",
        "2. Prompt the withdraw amount of dollars and put the result into integer\n",
        "3. Display the: \"You have withdrawn $[amount] dollars.\" using the input\n",
        "\n",
        "4. Prompt reamining balance by using account balance minus withdraw amount\n",
        "5. Print the final result: \"Your remaining balance is $[remaining balance] dollars.\" using the input."
      ],
      "metadata": {
        "id": "JBlBjIrphGPL"
      }
    },
    {
      "cell_type": "markdown",
      "metadata": {
        "id": "icCHuDnoUt_Q"
      },
      "source": [
        "# File I/O\n",
        "\n",
        "File I/O, which stands for File Input/Output, is a fundamental concept in programming that allows you to read data from and write data to files on your computer's storage. Python provides built-in functions and methods to perform File I/O operations easily."
      ]
    },
    {
      "cell_type": "code",
      "execution_count": null,
      "metadata": {
        "id": "uEEeYEB6Uz2l"
      },
      "outputs": [],
      "source": [
        "# w:write, a:append, b: binary, r:read\n",
        "# Open a file called test.txt in write mode\n",
        "# Write \"Hello World\" to the file\n",
        "# Close the file\n",
        "f = open('test.txt', 'w')\n",
        "f.write('Hello World')\n",
        "f.close()"
      ]
    },
    {
      "cell_type": "code",
      "execution_count": null,
      "metadata": {
        "id": "1dwNr_0HU1s6"
      },
      "outputs": [],
      "source": [
        "# Use with keyword to automatically manage file lifecycle(open, close)\n",
        "with open('test.txt', 'w') as f:\n",
        "    f.write('Hello World')"
      ]
    },
    {
      "cell_type": "code",
      "execution_count": null,
      "metadata": {
        "id": "FjsTlXuyU3zU",
        "colab": {
          "base_uri": "https://localhost:8080/"
        },
        "outputId": "dcbd8f0f-cafe-439c-88eb-7a7882f7e696"
      },
      "outputs": [
        {
          "output_type": "stream",
          "name": "stdout",
          "text": [
            "Hello World\n"
          ]
        }
      ],
      "source": [
        "# Open test.txt created previously, in read mode\n",
        "# Read the file entirely into variable data\n",
        "with open('test.txt', 'r') as f:\n",
        "    data = f.read()\n",
        "print(data)"
      ]
    },
    {
      "cell_type": "code",
      "source": [
        "# File I/O\n",
        "# w -> write\n",
        "# r -> read\n",
        "# a -> append\n",
        "# wb -> write binary\n",
        "f = open(\"test.txt\",\"w\")"
      ],
      "metadata": {
        "id": "0Qh6LB7svnCe"
      },
      "execution_count": null,
      "outputs": []
    },
    {
      "cell_type": "code",
      "source": [
        "f"
      ],
      "metadata": {
        "colab": {
          "base_uri": "https://localhost:8080/"
        },
        "id": "yGOALTSKxEmA",
        "outputId": "428e7951-08f5-4c5e-c4ee-bf3c71625a83"
      },
      "execution_count": null,
      "outputs": [
        {
          "output_type": "execute_result",
          "data": {
            "text/plain": [
              "<_io.TextIOWrapper name='test.txt' mode='r' encoding='UTF-8'>"
            ]
          },
          "metadata": {},
          "execution_count": 18
        }
      ]
    },
    {
      "cell_type": "code",
      "source": [
        "f.close()"
      ],
      "metadata": {
        "id": "f4gnSXG81ETF"
      },
      "execution_count": null,
      "outputs": []
    },
    {
      "cell_type": "code",
      "source": [
        "with open('test2.txt','w') as f:\n",
        "  f.write(\"hello world!!!\")\n",
        "\n",
        "  \"\"\"\n",
        "  f = open('test2.txt', 'w')\n",
        "  f.write(\"hello world!!!\")\n",
        "  f.close()\n",
        "  \"\"\""
      ],
      "metadata": {
        "id": "RWbtKqPF1Jvu"
      },
      "execution_count": null,
      "outputs": []
    },
    {
      "cell_type": "code",
      "source": [
        "with open('test2.txt','r') as f:\n",
        "  content = f.read()\n",
        "  print(content)\n"
      ],
      "metadata": {
        "colab": {
          "base_uri": "https://localhost:8080/"
        },
        "id": "RXGsHvE32VmB",
        "outputId": "d340463c-0e3f-4560-b26a-488911957e94"
      },
      "execution_count": null,
      "outputs": [
        {
          "output_type": "stream",
          "name": "stdout",
          "text": [
            "hello world!!!\n"
          ]
        }
      ]
    },
    {
      "cell_type": "code",
      "source": [
        "large_csv_content = \"\"\"\n",
        "1,ian,chen\n",
        "2.luyao,niu\n",
        "\"\"\"\n",
        "with open('test3.csv','w') as f:\n",
        "  f.write(large_csv_content)\n"
      ],
      "metadata": {
        "id": "V4XkR5sc4Aqg"
      },
      "execution_count": null,
      "outputs": []
    },
    {
      "cell_type": "markdown",
      "metadata": {
        "id": "Foar3woVX27u"
      },
      "source": [
        "# Debugging Strategies"
      ]
    },
    {
      "cell_type": "markdown",
      "metadata": {
        "id": "LTIxiSRvX7Ai"
      },
      "source": [
        "**Read** documentation"
      ]
    },
    {
      "cell_type": "code",
      "execution_count": null,
      "metadata": {
        "id": "OJvuWkedX9o1",
        "colab": {
          "base_uri": "https://localhost:8080/"
        },
        "outputId": "57e700e3-0d5f-4897-fe3d-99c934031350"
      },
      "outputs": [
        {
          "output_type": "stream",
          "name": "stdout",
          "text": [
            "upper case all letter l\n"
          ]
        }
      ],
      "source": [
        "# example where documentation is needed\n",
        "new = 'upper case all letter l'.replace('L','l',2)\n",
        "print(new)"
      ]
    },
    {
      "cell_type": "markdown",
      "metadata": {
        "id": "evT09BHoYAyH"
      },
      "source": [
        "*Read* error message"
      ]
    },
    {
      "cell_type": "code",
      "execution_count": null,
      "metadata": {
        "id": "cICuLZnYYDFw"
      },
      "outputs": [],
      "source": [
        "# example where error message is helpful\n",
        "new = ''.upper('lower case name')\n",
        "print(new)"
      ]
    },
    {
      "cell_type": "markdown",
      "metadata": {
        "id": "6kWaNku4YJv5"
      },
      "source": [
        "Use print statements"
      ]
    },
    {
      "cell_type": "code",
      "execution_count": null,
      "metadata": {
        "id": "ApWe8rYIYL68",
        "colab": {
          "base_uri": "https://localhost:8080/"
        },
        "outputId": "8b58635c-9802-4875-fac4-43acac19b364"
      },
      "outputs": [
        {
          "output_type": "stream",
          "name": "stdout",
          "text": [
            "3\n"
          ]
        }
      ],
      "source": [
        "# example where print statement is helpful\n",
        "i = 1\n",
        "i += 3\n",
        "i / 2\n",
        "i = i - 1\n",
        "print(i)"
      ]
    },
    {
      "cell_type": "markdown",
      "metadata": {
        "id": "F8ub7X8uYORx"
      },
      "source": [
        "Other debugging strateges:\n",
        "- Write modular code,\n",
        "- Isolate functionality to test independently,\n",
        "- Add comments to follow logic (will cover these in later labs)"
      ]
    },
    {
      "cell_type": "markdown",
      "metadata": {
        "id": "l5R6al9i9js_"
      },
      "source": [
        "**References**\n",
        "- https://learnxinyminutes.com/docs/python/\n"
      ]
    },
    {
      "cell_type": "markdown",
      "source": [
        "# BMI Calculation Practice"
      ],
      "metadata": {
        "id": "Tvab5geCi-tb"
      }
    },
    {
      "cell_type": "code",
      "source": [
        "# practice of calcultate BMI=kg/m**2\n",
        "kg = input(\"Enter your kilogram: \")\n",
        "m = input(\"Enter your height in meter: \")\n",
        "BMI=int (kg)/float (m)**2\n",
        "print(f\"{BMI}\")"
      ],
      "metadata": {
        "colab": {
          "base_uri": "https://localhost:8080/"
        },
        "id": "Q6Zu1ZYBk7zr",
        "outputId": "8c744862-287f-4aba-ab7a-37de0bd62d6d"
      },
      "execution_count": 4,
      "outputs": [
        {
          "output_type": "stream",
          "name": "stdout",
          "text": [
            "Enter your kilogram: 50\n",
            "Enter your height in meter: 1.7\n",
            "17.301038062283737\n"
          ]
        }
      ]
    },
    {
      "cell_type": "markdown",
      "source": [
        "## Explanation\n",
        "1. Prompt the weight in kg\n",
        "2. Prompt the height in m\n",
        "3. Use exsiting formula and put kg into integer, m into float (cause height in meters always has a decimal point\n",
        "4. prtint the final results of BMI"
      ],
      "metadata": {
        "id": "xmrKOgLeh9mf"
      }
    },
    {
      "cell_type": "code",
      "source": [
        "#remove the last charater\n",
        "# \"s\"[start:end:step]\n",
        "\"hello\"[:-1]\n"
      ],
      "metadata": {
        "colab": {
          "base_uri": "https://localhost:8080/",
          "height": 35
        },
        "id": "q9IrPqqn0wO7",
        "outputId": "b1b0e952-0067-496e-eac8-191ab790cdec"
      },
      "execution_count": null,
      "outputs": [
        {
          "output_type": "execute_result",
          "data": {
            "text/plain": [
              "'hell'"
            ],
            "application/vnd.google.colaboratory.intrinsic+json": {
              "type": "string"
            }
          },
          "metadata": {},
          "execution_count": 21
        }
      ]
    }
  ],
  "metadata": {
    "colab": {
      "provenance": []
    },
    "kernelspec": {
      "display_name": "Python 3 (ipykernel)",
      "language": "python",
      "name": "python3"
    },
    "language_info": {
      "codemirror_mode": {
        "name": "ipython",
        "version": 3
      },
      "file_extension": ".py",
      "mimetype": "text/x-python",
      "name": "python",
      "nbconvert_exporter": "python",
      "pygments_lexer": "ipython3",
      "version": "3.12.4"
    }
  },
  "nbformat": 4,
  "nbformat_minor": 0
}