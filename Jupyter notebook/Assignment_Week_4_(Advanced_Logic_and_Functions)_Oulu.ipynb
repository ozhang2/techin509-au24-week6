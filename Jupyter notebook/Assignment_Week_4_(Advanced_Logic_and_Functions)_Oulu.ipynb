{
  "nbformat": 4,
  "nbformat_minor": 0,
  "metadata": {
    "colab": {
      "provenance": []
    },
    "kernelspec": {
      "name": "python3",
      "display_name": "Python 3"
    },
    "language_info": {
      "name": "python"
    }
  },
  "cells": [
    {
      "cell_type": "markdown",
      "source": [
        "# 1. Find the Factorial of a given number:"
      ],
      "metadata": {
        "id": "K9-mMR-w6Ol6"
      }
    },
    {
      "cell_type": "code",
      "source": [
        "def factorial(n):\n",
        "    if n == 0 or n == 1:\n",
        "        return 1\n",
        "    else:\n",
        "        return n * factorial(n - 1)\n",
        "\n",
        "#example\n",
        "print(factorial(10))\n",
        "print(factorial(0))"
      ],
      "metadata": {
        "colab": {
          "base_uri": "https://localhost:8080/"
        },
        "id": "SbbEurdQ6OQa",
        "outputId": "272c48c2-fadb-43fe-8c56-f62cd7d6d3c6"
      },
      "execution_count": 2,
      "outputs": [
        {
          "output_type": "stream",
          "name": "stdout",
          "text": [
            "3628800\n",
            "1\n"
          ]
        }
      ]
    },
    {
      "cell_type": "markdown",
      "source": [
        "# 2. Write a function to add two numbers using only the inc(x) and a dec(x) functions"
      ],
      "metadata": {
        "id": "3InRfzwg6IJg"
      }
    },
    {
      "cell_type": "code",
      "execution_count": 5,
      "metadata": {
        "id": "Hq8YlZczMjm4",
        "colab": {
          "base_uri": "https://localhost:8080/"
        },
        "outputId": "33e530e6-ab6b-41ea-ff06-c065b4245695"
      },
      "outputs": [
        {
          "output_type": "stream",
          "name": "stdout",
          "text": [
            "17\n"
          ]
        }
      ],
      "source": [
        "def inc(x: int) -> int:\n",
        "    \"\"\"Increments and returns the given integer.\"\"\"\n",
        "    if not isinstance(x, int):\n",
        "        raise TypeError(\"Given number is not an integer.\")\n",
        "    return x + 1\n",
        "\n",
        "\n",
        "def dec(x: int) -> int:\n",
        "    \"\"\"Decrements and returns the given integer.\"\"\"\n",
        "    if not isinstance(x, int):\n",
        "        raise TypeError(\"Given number is not an integer.\")\n",
        "    return x - 1\n",
        "\n",
        "\n",
        "def add(x: int, y: int) -> int:\n",
        "    \"\"\"Adds and returns two given integers with increment and decrement functions.\"\"\"\n",
        "    if not isinstance(x, int) or not isinstance(y, int):\n",
        "        raise TypeError(\"Given input is not an integer.\")\n",
        "    if x < 0 or y < 0:\n",
        "        raise ValueError(\"One or more inputs are less than 0.\")\n",
        "\n",
        "    # Implement your code here.\n",
        "\n",
        "def add(x: int, y: int) -> int:\n",
        "    # If y is 0, return x directly, because x + 0 = x\n",
        "    if y == 0:\n",
        "       return x\n",
        "    else:\n",
        "        return add(inc(x), dec(y))\n",
        "\n",
        "#example\n",
        "print(add(10,7))"
      ]
    },
    {
      "cell_type": "markdown",
      "source": [
        "#3. Determine if the given year is a leap year:\n"
      ],
      "metadata": {
        "id": "Ipjt4PWn6G4F"
      }
    },
    {
      "cell_type": "code",
      "source": [
        "#Leap Years are any year that can be exactly divided by 4\n",
        "#except if it can be exactly divided by 100, then it isn't (such as 2100, 2200, etc)\n",
        "#except if it can be exactly divided by 400, then it is (such as 2000, 2400)\n",
        "def leap_year(year):\n",
        "    if year % 4 == 0:\n",
        "       return \"is a leap year\"\n",
        "    #except if it can be exactly divided by 100, then it isn't (such as 2100, 2200, etc)\n",
        "    elif year % 4 == 0 and year % 100 != 0:\n",
        "        return \"is a leap year\"\n",
        "    else:\n",
        "        return \"is not a leap year\"\n",
        "\n",
        "#example\n",
        "print(leap_year(2083))\n",
        "print(leap_year(2020))\n"
      ],
      "metadata": {
        "colab": {
          "base_uri": "https://localhost:8080/"
        },
        "id": "RIRwrSYEALYE",
        "outputId": "36efd1b7-6171-4967-d0ce-d8e61574239a"
      },
      "execution_count": 8,
      "outputs": [
        {
          "output_type": "stream",
          "name": "stdout",
          "text": [
            "is not a leap year\n",
            "is a leap year\n"
          ]
        }
      ]
    },
    {
      "cell_type": "markdown",
      "source": [
        "#4. Determine n'th Fibonacci's number:"
      ],
      "metadata": {
        "id": "9hQkAdnrCBvT"
      }
    },
    {
      "cell_type": "markdown",
      "source": [
        "Given a number `n`, return the nth Fibonacci's number. This is a classic application of recursion in programming.  \n",
        "\n",
        "\"In mathematics, the Fibonacci numbers, commonly denoted Fn , form a sequence, the Fibonacci sequence, in which each number is the sum of the two preceding ones. The sequence commonly starts from 0 and 1, although some authors omit the initial terms and start the sequence from 1 and 1 or from 1 and 2.\" [Source: Wikipedia]"
      ],
      "metadata": {
        "id": "8IZ-W82xCPpb"
      }
    },
    {
      "cell_type": "code",
      "source": [
        "#The Fibonacci Rule is F(n) = F(n-1) + F(n-2)\n",
        "#For example, the Fibonacci Sequence is the series of numbers: 0, 1, 1, 2, 3, 5, 8, 13, 21, 34, ...\n",
        "def F(n):\n",
        "    if n == 0:\n",
        "        return 0\n",
        "    elif n == 1:\n",
        "        return 1\n",
        "    else:\n",
        "        return F(n-1) + F(n-2)\n",
        "\n",
        "#Example\n",
        "print(F(10))\n",
        "print(F(0))\n",
        "print(F(3))"
      ],
      "metadata": {
        "colab": {
          "base_uri": "https://localhost:8080/"
        },
        "id": "98E40afWCIO8",
        "outputId": "5e670f30-cd32-4e8e-c62c-cafcff769a56"
      },
      "execution_count": 4,
      "outputs": [
        {
          "output_type": "stream",
          "name": "stdout",
          "text": [
            "55\n",
            "0\n",
            "2\n"
          ]
        }
      ]
    }
  ]
}